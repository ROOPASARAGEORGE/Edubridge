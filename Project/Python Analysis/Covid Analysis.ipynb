{
 "cells": [
  {
   "cell_type": "markdown",
   "id": "ee4cafff",
   "metadata": {},
   "source": [
    "# Covid Analysis"
   ]
  },
  {
   "cell_type": "markdown",
   "id": "79d32bb9",
   "metadata": {},
   "source": [
    "#### Dataset is of Covid caseswhich contains the data of recovered ,confirmed and death cases of various countries by states . The dataset used for the analysis contains 306429 observations of 8 variables. The variables of dataset are both continuous and categorical in nature.To analyse our dataset, NumPy and pandaslibraries were used. Matplotlib and Seaborn were used to visualize the dataset.\n"
   ]
  },
  {
   "cell_type": "markdown",
   "id": "7442647b",
   "metadata": {},
   "source": [
    "### Import Libraries"
   ]
  },
  {
   "cell_type": "code",
   "execution_count": 1,
   "id": "a9a47577",
   "metadata": {},
   "outputs": [],
   "source": [
    "import pandas as pd\n",
    "import numpy as np\n",
    "import matplotlib\n",
    "from matplotlib import pyplot as plt   \n",
    "from matplotlib import style\n",
    "import seaborn as sns\n",
    "import warnings\n",
    "warnings.filterwarnings('ignore')"
   ]
  },
  {
   "cell_type": "markdown",
   "id": "9cf628db",
   "metadata": {},
   "source": [
    "### Read the data"
   ]
  },
  {
   "cell_type": "code",
   "execution_count": 2,
   "id": "8e84b158",
   "metadata": {},
   "outputs": [],
   "source": [
    "d=pd.read_csv(\"C:/Users/Roopa Sara George/Downloads/covid.csv\")"
   ]
  },
  {
   "cell_type": "markdown",
   "id": "d533d4b4",
   "metadata": {},
   "source": [
    "### View the data"
   ]
  },
  {
   "cell_type": "code",
   "execution_count": 3,
   "id": "c1eb4ee8",
   "metadata": {},
   "outputs": [
    {
     "data": {
      "text/html": [
       "<div>\n",
       "<style scoped>\n",
       "    .dataframe tbody tr th:only-of-type {\n",
       "        vertical-align: middle;\n",
       "    }\n",
       "\n",
       "    .dataframe tbody tr th {\n",
       "        vertical-align: top;\n",
       "    }\n",
       "\n",
       "    .dataframe thead th {\n",
       "        text-align: right;\n",
       "    }\n",
       "</style>\n",
       "<table border=\"1\" class=\"dataframe\">\n",
       "  <thead>\n",
       "    <tr style=\"text-align: right;\">\n",
       "      <th></th>\n",
       "      <th>SNo</th>\n",
       "      <th>ObservationDate</th>\n",
       "      <th>Province/State</th>\n",
       "      <th>Country/Region</th>\n",
       "      <th>Last Update</th>\n",
       "      <th>Confirmed</th>\n",
       "      <th>Deaths</th>\n",
       "      <th>Recovered</th>\n",
       "    </tr>\n",
       "  </thead>\n",
       "  <tbody>\n",
       "    <tr>\n",
       "      <th>0</th>\n",
       "      <td>1</td>\n",
       "      <td>01/22/2020</td>\n",
       "      <td>Anhui</td>\n",
       "      <td>Mainland China</td>\n",
       "      <td>1/22/2020 17:00</td>\n",
       "      <td>1</td>\n",
       "      <td>0</td>\n",
       "      <td>0</td>\n",
       "    </tr>\n",
       "    <tr>\n",
       "      <th>1</th>\n",
       "      <td>2</td>\n",
       "      <td>01/22/2020</td>\n",
       "      <td>Beijing</td>\n",
       "      <td>Mainland China</td>\n",
       "      <td>1/22/2020 17:00</td>\n",
       "      <td>14</td>\n",
       "      <td>0</td>\n",
       "      <td>0</td>\n",
       "    </tr>\n",
       "    <tr>\n",
       "      <th>2</th>\n",
       "      <td>3</td>\n",
       "      <td>01/22/2020</td>\n",
       "      <td>Chongqing</td>\n",
       "      <td>Mainland China</td>\n",
       "      <td>1/22/2020 17:00</td>\n",
       "      <td>6</td>\n",
       "      <td>0</td>\n",
       "      <td>0</td>\n",
       "    </tr>\n",
       "    <tr>\n",
       "      <th>3</th>\n",
       "      <td>4</td>\n",
       "      <td>01/22/2020</td>\n",
       "      <td>Fujian</td>\n",
       "      <td>Mainland China</td>\n",
       "      <td>1/22/2020 17:00</td>\n",
       "      <td>1</td>\n",
       "      <td>0</td>\n",
       "      <td>0</td>\n",
       "    </tr>\n",
       "    <tr>\n",
       "      <th>4</th>\n",
       "      <td>5</td>\n",
       "      <td>01/22/2020</td>\n",
       "      <td>Gansu</td>\n",
       "      <td>Mainland China</td>\n",
       "      <td>1/22/2020 17:00</td>\n",
       "      <td>0</td>\n",
       "      <td>0</td>\n",
       "      <td>0</td>\n",
       "    </tr>\n",
       "    <tr>\n",
       "      <th>...</th>\n",
       "      <td>...</td>\n",
       "      <td>...</td>\n",
       "      <td>...</td>\n",
       "      <td>...</td>\n",
       "      <td>...</td>\n",
       "      <td>...</td>\n",
       "      <td>...</td>\n",
       "      <td>...</td>\n",
       "    </tr>\n",
       "    <tr>\n",
       "      <th>306424</th>\n",
       "      <td>306425</td>\n",
       "      <td>05/29/2021</td>\n",
       "      <td>Zaporizhia Oblast</td>\n",
       "      <td>Ukraine</td>\n",
       "      <td>30-05-2021 04:20</td>\n",
       "      <td>102641</td>\n",
       "      <td>2335</td>\n",
       "      <td>95289</td>\n",
       "    </tr>\n",
       "    <tr>\n",
       "      <th>306425</th>\n",
       "      <td>306426</td>\n",
       "      <td>05/29/2021</td>\n",
       "      <td>Zeeland</td>\n",
       "      <td>Netherlands</td>\n",
       "      <td>30-05-2021 04:20</td>\n",
       "      <td>29147</td>\n",
       "      <td>245</td>\n",
       "      <td>0</td>\n",
       "    </tr>\n",
       "    <tr>\n",
       "      <th>306426</th>\n",
       "      <td>306427</td>\n",
       "      <td>05/29/2021</td>\n",
       "      <td>Zhejiang</td>\n",
       "      <td>Mainland China</td>\n",
       "      <td>30-05-2021 04:20</td>\n",
       "      <td>1364</td>\n",
       "      <td>1</td>\n",
       "      <td>1324</td>\n",
       "    </tr>\n",
       "    <tr>\n",
       "      <th>306427</th>\n",
       "      <td>306428</td>\n",
       "      <td>05/29/2021</td>\n",
       "      <td>Zhytomyr Oblast</td>\n",
       "      <td>Ukraine</td>\n",
       "      <td>30-05-2021 04:20</td>\n",
       "      <td>87550</td>\n",
       "      <td>1738</td>\n",
       "      <td>83790</td>\n",
       "    </tr>\n",
       "    <tr>\n",
       "      <th>306428</th>\n",
       "      <td>306429</td>\n",
       "      <td>05/29/2021</td>\n",
       "      <td>Zuid-Holland</td>\n",
       "      <td>Netherlands</td>\n",
       "      <td>30-05-2021 04:20</td>\n",
       "      <td>391559</td>\n",
       "      <td>4252</td>\n",
       "      <td>0</td>\n",
       "    </tr>\n",
       "  </tbody>\n",
       "</table>\n",
       "<p>306429 rows × 8 columns</p>\n",
       "</div>"
      ],
      "text/plain": [
       "           SNo ObservationDate     Province/State  Country/Region  \\\n",
       "0            1      01/22/2020              Anhui  Mainland China   \n",
       "1            2      01/22/2020            Beijing  Mainland China   \n",
       "2            3      01/22/2020          Chongqing  Mainland China   \n",
       "3            4      01/22/2020             Fujian  Mainland China   \n",
       "4            5      01/22/2020              Gansu  Mainland China   \n",
       "...        ...             ...                ...             ...   \n",
       "306424  306425      05/29/2021  Zaporizhia Oblast         Ukraine   \n",
       "306425  306426      05/29/2021            Zeeland     Netherlands   \n",
       "306426  306427      05/29/2021           Zhejiang  Mainland China   \n",
       "306427  306428      05/29/2021    Zhytomyr Oblast         Ukraine   \n",
       "306428  306429      05/29/2021       Zuid-Holland     Netherlands   \n",
       "\n",
       "             Last Update  Confirmed  Deaths  Recovered  \n",
       "0        1/22/2020 17:00          1       0          0  \n",
       "1        1/22/2020 17:00         14       0          0  \n",
       "2        1/22/2020 17:00          6       0          0  \n",
       "3        1/22/2020 17:00          1       0          0  \n",
       "4        1/22/2020 17:00          0       0          0  \n",
       "...                  ...        ...     ...        ...  \n",
       "306424  30-05-2021 04:20     102641    2335      95289  \n",
       "306425  30-05-2021 04:20      29147     245          0  \n",
       "306426  30-05-2021 04:20       1364       1       1324  \n",
       "306427  30-05-2021 04:20      87550    1738      83790  \n",
       "306428  30-05-2021 04:20     391559    4252          0  \n",
       "\n",
       "[306429 rows x 8 columns]"
      ]
     },
     "execution_count": 3,
     "metadata": {},
     "output_type": "execute_result"
    }
   ],
   "source": [
    "d"
   ]
  },
  {
   "cell_type": "markdown",
   "id": "4ffacb8c",
   "metadata": {},
   "source": [
    "### Set the index"
   ]
  },
  {
   "cell_type": "code",
   "execution_count": 4,
   "id": "96eb31b3",
   "metadata": {},
   "outputs": [
    {
     "data": {
      "text/html": [
       "<div>\n",
       "<style scoped>\n",
       "    .dataframe tbody tr th:only-of-type {\n",
       "        vertical-align: middle;\n",
       "    }\n",
       "\n",
       "    .dataframe tbody tr th {\n",
       "        vertical-align: top;\n",
       "    }\n",
       "\n",
       "    .dataframe thead th {\n",
       "        text-align: right;\n",
       "    }\n",
       "</style>\n",
       "<table border=\"1\" class=\"dataframe\">\n",
       "  <thead>\n",
       "    <tr style=\"text-align: right;\">\n",
       "      <th></th>\n",
       "      <th>ObservationDate</th>\n",
       "      <th>Province/State</th>\n",
       "      <th>Country/Region</th>\n",
       "      <th>Last Update</th>\n",
       "      <th>Confirmed</th>\n",
       "      <th>Deaths</th>\n",
       "      <th>Recovered</th>\n",
       "    </tr>\n",
       "    <tr>\n",
       "      <th>SNo</th>\n",
       "      <th></th>\n",
       "      <th></th>\n",
       "      <th></th>\n",
       "      <th></th>\n",
       "      <th></th>\n",
       "      <th></th>\n",
       "      <th></th>\n",
       "    </tr>\n",
       "  </thead>\n",
       "  <tbody>\n",
       "    <tr>\n",
       "      <th>1</th>\n",
       "      <td>01/22/2020</td>\n",
       "      <td>Anhui</td>\n",
       "      <td>Mainland China</td>\n",
       "      <td>1/22/2020 17:00</td>\n",
       "      <td>1</td>\n",
       "      <td>0</td>\n",
       "      <td>0</td>\n",
       "    </tr>\n",
       "    <tr>\n",
       "      <th>2</th>\n",
       "      <td>01/22/2020</td>\n",
       "      <td>Beijing</td>\n",
       "      <td>Mainland China</td>\n",
       "      <td>1/22/2020 17:00</td>\n",
       "      <td>14</td>\n",
       "      <td>0</td>\n",
       "      <td>0</td>\n",
       "    </tr>\n",
       "    <tr>\n",
       "      <th>3</th>\n",
       "      <td>01/22/2020</td>\n",
       "      <td>Chongqing</td>\n",
       "      <td>Mainland China</td>\n",
       "      <td>1/22/2020 17:00</td>\n",
       "      <td>6</td>\n",
       "      <td>0</td>\n",
       "      <td>0</td>\n",
       "    </tr>\n",
       "    <tr>\n",
       "      <th>4</th>\n",
       "      <td>01/22/2020</td>\n",
       "      <td>Fujian</td>\n",
       "      <td>Mainland China</td>\n",
       "      <td>1/22/2020 17:00</td>\n",
       "      <td>1</td>\n",
       "      <td>0</td>\n",
       "      <td>0</td>\n",
       "    </tr>\n",
       "    <tr>\n",
       "      <th>5</th>\n",
       "      <td>01/22/2020</td>\n",
       "      <td>Gansu</td>\n",
       "      <td>Mainland China</td>\n",
       "      <td>1/22/2020 17:00</td>\n",
       "      <td>0</td>\n",
       "      <td>0</td>\n",
       "      <td>0</td>\n",
       "    </tr>\n",
       "    <tr>\n",
       "      <th>...</th>\n",
       "      <td>...</td>\n",
       "      <td>...</td>\n",
       "      <td>...</td>\n",
       "      <td>...</td>\n",
       "      <td>...</td>\n",
       "      <td>...</td>\n",
       "      <td>...</td>\n",
       "    </tr>\n",
       "    <tr>\n",
       "      <th>306425</th>\n",
       "      <td>05/29/2021</td>\n",
       "      <td>Zaporizhia Oblast</td>\n",
       "      <td>Ukraine</td>\n",
       "      <td>30-05-2021 04:20</td>\n",
       "      <td>102641</td>\n",
       "      <td>2335</td>\n",
       "      <td>95289</td>\n",
       "    </tr>\n",
       "    <tr>\n",
       "      <th>306426</th>\n",
       "      <td>05/29/2021</td>\n",
       "      <td>Zeeland</td>\n",
       "      <td>Netherlands</td>\n",
       "      <td>30-05-2021 04:20</td>\n",
       "      <td>29147</td>\n",
       "      <td>245</td>\n",
       "      <td>0</td>\n",
       "    </tr>\n",
       "    <tr>\n",
       "      <th>306427</th>\n",
       "      <td>05/29/2021</td>\n",
       "      <td>Zhejiang</td>\n",
       "      <td>Mainland China</td>\n",
       "      <td>30-05-2021 04:20</td>\n",
       "      <td>1364</td>\n",
       "      <td>1</td>\n",
       "      <td>1324</td>\n",
       "    </tr>\n",
       "    <tr>\n",
       "      <th>306428</th>\n",
       "      <td>05/29/2021</td>\n",
       "      <td>Zhytomyr Oblast</td>\n",
       "      <td>Ukraine</td>\n",
       "      <td>30-05-2021 04:20</td>\n",
       "      <td>87550</td>\n",
       "      <td>1738</td>\n",
       "      <td>83790</td>\n",
       "    </tr>\n",
       "    <tr>\n",
       "      <th>306429</th>\n",
       "      <td>05/29/2021</td>\n",
       "      <td>Zuid-Holland</td>\n",
       "      <td>Netherlands</td>\n",
       "      <td>30-05-2021 04:20</td>\n",
       "      <td>391559</td>\n",
       "      <td>4252</td>\n",
       "      <td>0</td>\n",
       "    </tr>\n",
       "  </tbody>\n",
       "</table>\n",
       "<p>306429 rows × 7 columns</p>\n",
       "</div>"
      ],
      "text/plain": [
       "       ObservationDate     Province/State  Country/Region       Last Update  \\\n",
       "SNo                                                                           \n",
       "1           01/22/2020              Anhui  Mainland China   1/22/2020 17:00   \n",
       "2           01/22/2020            Beijing  Mainland China   1/22/2020 17:00   \n",
       "3           01/22/2020          Chongqing  Mainland China   1/22/2020 17:00   \n",
       "4           01/22/2020             Fujian  Mainland China   1/22/2020 17:00   \n",
       "5           01/22/2020              Gansu  Mainland China   1/22/2020 17:00   \n",
       "...                ...                ...             ...               ...   \n",
       "306425      05/29/2021  Zaporizhia Oblast         Ukraine  30-05-2021 04:20   \n",
       "306426      05/29/2021            Zeeland     Netherlands  30-05-2021 04:20   \n",
       "306427      05/29/2021           Zhejiang  Mainland China  30-05-2021 04:20   \n",
       "306428      05/29/2021    Zhytomyr Oblast         Ukraine  30-05-2021 04:20   \n",
       "306429      05/29/2021       Zuid-Holland     Netherlands  30-05-2021 04:20   \n",
       "\n",
       "        Confirmed  Deaths  Recovered  \n",
       "SNo                                   \n",
       "1               1       0          0  \n",
       "2              14       0          0  \n",
       "3               6       0          0  \n",
       "4               1       0          0  \n",
       "5               0       0          0  \n",
       "...           ...     ...        ...  \n",
       "306425     102641    2335      95289  \n",
       "306426      29147     245          0  \n",
       "306427       1364       1       1324  \n",
       "306428      87550    1738      83790  \n",
       "306429     391559    4252          0  \n",
       "\n",
       "[306429 rows x 7 columns]"
      ]
     },
     "execution_count": 4,
     "metadata": {},
     "output_type": "execute_result"
    }
   ],
   "source": [
    "d=d.set_index(\"SNo\")\n",
    "d"
   ]
  },
  {
   "cell_type": "markdown",
   "id": "7fb4e807",
   "metadata": {},
   "source": [
    "### Rename column name"
   ]
  },
  {
   "cell_type": "code",
   "execution_count": 6,
   "id": "c13d901a",
   "metadata": {},
   "outputs": [
    {
     "data": {
      "text/html": [
       "<div>\n",
       "<style scoped>\n",
       "    .dataframe tbody tr th:only-of-type {\n",
       "        vertical-align: middle;\n",
       "    }\n",
       "\n",
       "    .dataframe tbody tr th {\n",
       "        vertical-align: top;\n",
       "    }\n",
       "\n",
       "    .dataframe thead th {\n",
       "        text-align: right;\n",
       "    }\n",
       "</style>\n",
       "<table border=\"1\" class=\"dataframe\">\n",
       "  <thead>\n",
       "    <tr style=\"text-align: right;\">\n",
       "      <th></th>\n",
       "      <th>ObservationDate</th>\n",
       "      <th>State</th>\n",
       "      <th>Country</th>\n",
       "      <th>Last Update</th>\n",
       "      <th>Confirmed</th>\n",
       "      <th>Deaths</th>\n",
       "      <th>Recovered</th>\n",
       "    </tr>\n",
       "    <tr>\n",
       "      <th>SNo</th>\n",
       "      <th></th>\n",
       "      <th></th>\n",
       "      <th></th>\n",
       "      <th></th>\n",
       "      <th></th>\n",
       "      <th></th>\n",
       "      <th></th>\n",
       "    </tr>\n",
       "  </thead>\n",
       "  <tbody>\n",
       "    <tr>\n",
       "      <th>1</th>\n",
       "      <td>01/22/2020</td>\n",
       "      <td>Anhui</td>\n",
       "      <td>Mainland China</td>\n",
       "      <td>1/22/2020 17:00</td>\n",
       "      <td>1</td>\n",
       "      <td>0</td>\n",
       "      <td>0</td>\n",
       "    </tr>\n",
       "    <tr>\n",
       "      <th>2</th>\n",
       "      <td>01/22/2020</td>\n",
       "      <td>Beijing</td>\n",
       "      <td>Mainland China</td>\n",
       "      <td>1/22/2020 17:00</td>\n",
       "      <td>14</td>\n",
       "      <td>0</td>\n",
       "      <td>0</td>\n",
       "    </tr>\n",
       "    <tr>\n",
       "      <th>3</th>\n",
       "      <td>01/22/2020</td>\n",
       "      <td>Chongqing</td>\n",
       "      <td>Mainland China</td>\n",
       "      <td>1/22/2020 17:00</td>\n",
       "      <td>6</td>\n",
       "      <td>0</td>\n",
       "      <td>0</td>\n",
       "    </tr>\n",
       "    <tr>\n",
       "      <th>4</th>\n",
       "      <td>01/22/2020</td>\n",
       "      <td>Fujian</td>\n",
       "      <td>Mainland China</td>\n",
       "      <td>1/22/2020 17:00</td>\n",
       "      <td>1</td>\n",
       "      <td>0</td>\n",
       "      <td>0</td>\n",
       "    </tr>\n",
       "    <tr>\n",
       "      <th>5</th>\n",
       "      <td>01/22/2020</td>\n",
       "      <td>Gansu</td>\n",
       "      <td>Mainland China</td>\n",
       "      <td>1/22/2020 17:00</td>\n",
       "      <td>0</td>\n",
       "      <td>0</td>\n",
       "      <td>0</td>\n",
       "    </tr>\n",
       "    <tr>\n",
       "      <th>...</th>\n",
       "      <td>...</td>\n",
       "      <td>...</td>\n",
       "      <td>...</td>\n",
       "      <td>...</td>\n",
       "      <td>...</td>\n",
       "      <td>...</td>\n",
       "      <td>...</td>\n",
       "    </tr>\n",
       "    <tr>\n",
       "      <th>306425</th>\n",
       "      <td>05/29/2021</td>\n",
       "      <td>Zaporizhia Oblast</td>\n",
       "      <td>Ukraine</td>\n",
       "      <td>30-05-2021 04:20</td>\n",
       "      <td>102641</td>\n",
       "      <td>2335</td>\n",
       "      <td>95289</td>\n",
       "    </tr>\n",
       "    <tr>\n",
       "      <th>306426</th>\n",
       "      <td>05/29/2021</td>\n",
       "      <td>Zeeland</td>\n",
       "      <td>Netherlands</td>\n",
       "      <td>30-05-2021 04:20</td>\n",
       "      <td>29147</td>\n",
       "      <td>245</td>\n",
       "      <td>0</td>\n",
       "    </tr>\n",
       "    <tr>\n",
       "      <th>306427</th>\n",
       "      <td>05/29/2021</td>\n",
       "      <td>Zhejiang</td>\n",
       "      <td>Mainland China</td>\n",
       "      <td>30-05-2021 04:20</td>\n",
       "      <td>1364</td>\n",
       "      <td>1</td>\n",
       "      <td>1324</td>\n",
       "    </tr>\n",
       "    <tr>\n",
       "      <th>306428</th>\n",
       "      <td>05/29/2021</td>\n",
       "      <td>Zhytomyr Oblast</td>\n",
       "      <td>Ukraine</td>\n",
       "      <td>30-05-2021 04:20</td>\n",
       "      <td>87550</td>\n",
       "      <td>1738</td>\n",
       "      <td>83790</td>\n",
       "    </tr>\n",
       "    <tr>\n",
       "      <th>306429</th>\n",
       "      <td>05/29/2021</td>\n",
       "      <td>Zuid-Holland</td>\n",
       "      <td>Netherlands</td>\n",
       "      <td>30-05-2021 04:20</td>\n",
       "      <td>391559</td>\n",
       "      <td>4252</td>\n",
       "      <td>0</td>\n",
       "    </tr>\n",
       "  </tbody>\n",
       "</table>\n",
       "<p>306429 rows × 7 columns</p>\n",
       "</div>"
      ],
      "text/plain": [
       "       ObservationDate              State         Country       Last Update  \\\n",
       "SNo                                                                           \n",
       "1           01/22/2020              Anhui  Mainland China   1/22/2020 17:00   \n",
       "2           01/22/2020            Beijing  Mainland China   1/22/2020 17:00   \n",
       "3           01/22/2020          Chongqing  Mainland China   1/22/2020 17:00   \n",
       "4           01/22/2020             Fujian  Mainland China   1/22/2020 17:00   \n",
       "5           01/22/2020              Gansu  Mainland China   1/22/2020 17:00   \n",
       "...                ...                ...             ...               ...   \n",
       "306425      05/29/2021  Zaporizhia Oblast         Ukraine  30-05-2021 04:20   \n",
       "306426      05/29/2021            Zeeland     Netherlands  30-05-2021 04:20   \n",
       "306427      05/29/2021           Zhejiang  Mainland China  30-05-2021 04:20   \n",
       "306428      05/29/2021    Zhytomyr Oblast         Ukraine  30-05-2021 04:20   \n",
       "306429      05/29/2021       Zuid-Holland     Netherlands  30-05-2021 04:20   \n",
       "\n",
       "        Confirmed  Deaths  Recovered  \n",
       "SNo                                   \n",
       "1               1       0          0  \n",
       "2              14       0          0  \n",
       "3               6       0          0  \n",
       "4               1       0          0  \n",
       "5               0       0          0  \n",
       "...           ...     ...        ...  \n",
       "306425     102641    2335      95289  \n",
       "306426      29147     245          0  \n",
       "306427       1364       1       1324  \n",
       "306428      87550    1738      83790  \n",
       "306429     391559    4252          0  \n",
       "\n",
       "[306429 rows x 7 columns]"
      ]
     },
     "execution_count": 6,
     "metadata": {},
     "output_type": "execute_result"
    }
   ],
   "source": [
    "d=d.rename(columns={'Province/State':'State','Country/Region':'Country'})\n",
    "d"
   ]
  },
  {
   "cell_type": "markdown",
   "id": "90d1bb1e",
   "metadata": {},
   "source": [
    "### To print top 5 rows"
   ]
  },
  {
   "cell_type": "code",
   "execution_count": 7,
   "id": "713280a6",
   "metadata": {},
   "outputs": [
    {
     "data": {
      "text/html": [
       "<div>\n",
       "<style scoped>\n",
       "    .dataframe tbody tr th:only-of-type {\n",
       "        vertical-align: middle;\n",
       "    }\n",
       "\n",
       "    .dataframe tbody tr th {\n",
       "        vertical-align: top;\n",
       "    }\n",
       "\n",
       "    .dataframe thead th {\n",
       "        text-align: right;\n",
       "    }\n",
       "</style>\n",
       "<table border=\"1\" class=\"dataframe\">\n",
       "  <thead>\n",
       "    <tr style=\"text-align: right;\">\n",
       "      <th></th>\n",
       "      <th>ObservationDate</th>\n",
       "      <th>State</th>\n",
       "      <th>Country</th>\n",
       "      <th>Last Update</th>\n",
       "      <th>Confirmed</th>\n",
       "      <th>Deaths</th>\n",
       "      <th>Recovered</th>\n",
       "    </tr>\n",
       "    <tr>\n",
       "      <th>SNo</th>\n",
       "      <th></th>\n",
       "      <th></th>\n",
       "      <th></th>\n",
       "      <th></th>\n",
       "      <th></th>\n",
       "      <th></th>\n",
       "      <th></th>\n",
       "    </tr>\n",
       "  </thead>\n",
       "  <tbody>\n",
       "    <tr>\n",
       "      <th>1</th>\n",
       "      <td>01/22/2020</td>\n",
       "      <td>Anhui</td>\n",
       "      <td>Mainland China</td>\n",
       "      <td>1/22/2020 17:00</td>\n",
       "      <td>1</td>\n",
       "      <td>0</td>\n",
       "      <td>0</td>\n",
       "    </tr>\n",
       "    <tr>\n",
       "      <th>2</th>\n",
       "      <td>01/22/2020</td>\n",
       "      <td>Beijing</td>\n",
       "      <td>Mainland China</td>\n",
       "      <td>1/22/2020 17:00</td>\n",
       "      <td>14</td>\n",
       "      <td>0</td>\n",
       "      <td>0</td>\n",
       "    </tr>\n",
       "    <tr>\n",
       "      <th>3</th>\n",
       "      <td>01/22/2020</td>\n",
       "      <td>Chongqing</td>\n",
       "      <td>Mainland China</td>\n",
       "      <td>1/22/2020 17:00</td>\n",
       "      <td>6</td>\n",
       "      <td>0</td>\n",
       "      <td>0</td>\n",
       "    </tr>\n",
       "    <tr>\n",
       "      <th>4</th>\n",
       "      <td>01/22/2020</td>\n",
       "      <td>Fujian</td>\n",
       "      <td>Mainland China</td>\n",
       "      <td>1/22/2020 17:00</td>\n",
       "      <td>1</td>\n",
       "      <td>0</td>\n",
       "      <td>0</td>\n",
       "    </tr>\n",
       "    <tr>\n",
       "      <th>5</th>\n",
       "      <td>01/22/2020</td>\n",
       "      <td>Gansu</td>\n",
       "      <td>Mainland China</td>\n",
       "      <td>1/22/2020 17:00</td>\n",
       "      <td>0</td>\n",
       "      <td>0</td>\n",
       "      <td>0</td>\n",
       "    </tr>\n",
       "    <tr>\n",
       "      <th>6</th>\n",
       "      <td>01/22/2020</td>\n",
       "      <td>Guangdong</td>\n",
       "      <td>Mainland China</td>\n",
       "      <td>1/22/2020 17:00</td>\n",
       "      <td>26</td>\n",
       "      <td>0</td>\n",
       "      <td>0</td>\n",
       "    </tr>\n",
       "    <tr>\n",
       "      <th>7</th>\n",
       "      <td>01/22/2020</td>\n",
       "      <td>Guangxi</td>\n",
       "      <td>Mainland China</td>\n",
       "      <td>1/22/2020 17:00</td>\n",
       "      <td>2</td>\n",
       "      <td>0</td>\n",
       "      <td>0</td>\n",
       "    </tr>\n",
       "    <tr>\n",
       "      <th>8</th>\n",
       "      <td>01/22/2020</td>\n",
       "      <td>Guizhou</td>\n",
       "      <td>Mainland China</td>\n",
       "      <td>1/22/2020 17:00</td>\n",
       "      <td>1</td>\n",
       "      <td>0</td>\n",
       "      <td>0</td>\n",
       "    </tr>\n",
       "    <tr>\n",
       "      <th>9</th>\n",
       "      <td>01/22/2020</td>\n",
       "      <td>Hainan</td>\n",
       "      <td>Mainland China</td>\n",
       "      <td>1/22/2020 17:00</td>\n",
       "      <td>4</td>\n",
       "      <td>0</td>\n",
       "      <td>0</td>\n",
       "    </tr>\n",
       "    <tr>\n",
       "      <th>10</th>\n",
       "      <td>01/22/2020</td>\n",
       "      <td>Hebei</td>\n",
       "      <td>Mainland China</td>\n",
       "      <td>1/22/2020 17:00</td>\n",
       "      <td>1</td>\n",
       "      <td>0</td>\n",
       "      <td>0</td>\n",
       "    </tr>\n",
       "  </tbody>\n",
       "</table>\n",
       "</div>"
      ],
      "text/plain": [
       "    ObservationDate      State         Country      Last Update  Confirmed  \\\n",
       "SNo                                                                          \n",
       "1        01/22/2020      Anhui  Mainland China  1/22/2020 17:00          1   \n",
       "2        01/22/2020    Beijing  Mainland China  1/22/2020 17:00         14   \n",
       "3        01/22/2020  Chongqing  Mainland China  1/22/2020 17:00          6   \n",
       "4        01/22/2020     Fujian  Mainland China  1/22/2020 17:00          1   \n",
       "5        01/22/2020      Gansu  Mainland China  1/22/2020 17:00          0   \n",
       "6        01/22/2020  Guangdong  Mainland China  1/22/2020 17:00         26   \n",
       "7        01/22/2020    Guangxi  Mainland China  1/22/2020 17:00          2   \n",
       "8        01/22/2020    Guizhou  Mainland China  1/22/2020 17:00          1   \n",
       "9        01/22/2020     Hainan  Mainland China  1/22/2020 17:00          4   \n",
       "10       01/22/2020      Hebei  Mainland China  1/22/2020 17:00          1   \n",
       "\n",
       "     Deaths  Recovered  \n",
       "SNo                     \n",
       "1         0          0  \n",
       "2         0          0  \n",
       "3         0          0  \n",
       "4         0          0  \n",
       "5         0          0  \n",
       "6         0          0  \n",
       "7         0          0  \n",
       "8         0          0  \n",
       "9         0          0  \n",
       "10        0          0  "
      ]
     },
     "execution_count": 7,
     "metadata": {},
     "output_type": "execute_result"
    }
   ],
   "source": [
    "d.head(10)"
   ]
  },
  {
   "cell_type": "markdown",
   "id": "969c9544",
   "metadata": {},
   "source": [
    "### To print bottom 5 rows"
   ]
  },
  {
   "cell_type": "code",
   "execution_count": 9,
   "id": "f77aff6f",
   "metadata": {},
   "outputs": [
    {
     "data": {
      "text/html": [
       "<div>\n",
       "<style scoped>\n",
       "    .dataframe tbody tr th:only-of-type {\n",
       "        vertical-align: middle;\n",
       "    }\n",
       "\n",
       "    .dataframe tbody tr th {\n",
       "        vertical-align: top;\n",
       "    }\n",
       "\n",
       "    .dataframe thead th {\n",
       "        text-align: right;\n",
       "    }\n",
       "</style>\n",
       "<table border=\"1\" class=\"dataframe\">\n",
       "  <thead>\n",
       "    <tr style=\"text-align: right;\">\n",
       "      <th></th>\n",
       "      <th>ObservationDate</th>\n",
       "      <th>State</th>\n",
       "      <th>Country</th>\n",
       "      <th>Last Update</th>\n",
       "      <th>Confirmed</th>\n",
       "      <th>Deaths</th>\n",
       "      <th>Recovered</th>\n",
       "    </tr>\n",
       "    <tr>\n",
       "      <th>SNo</th>\n",
       "      <th></th>\n",
       "      <th></th>\n",
       "      <th></th>\n",
       "      <th></th>\n",
       "      <th></th>\n",
       "      <th></th>\n",
       "      <th></th>\n",
       "    </tr>\n",
       "  </thead>\n",
       "  <tbody>\n",
       "    <tr>\n",
       "      <th>306425</th>\n",
       "      <td>05/29/2021</td>\n",
       "      <td>Zaporizhia Oblast</td>\n",
       "      <td>Ukraine</td>\n",
       "      <td>30-05-2021 04:20</td>\n",
       "      <td>102641</td>\n",
       "      <td>2335</td>\n",
       "      <td>95289</td>\n",
       "    </tr>\n",
       "    <tr>\n",
       "      <th>306426</th>\n",
       "      <td>05/29/2021</td>\n",
       "      <td>Zeeland</td>\n",
       "      <td>Netherlands</td>\n",
       "      <td>30-05-2021 04:20</td>\n",
       "      <td>29147</td>\n",
       "      <td>245</td>\n",
       "      <td>0</td>\n",
       "    </tr>\n",
       "    <tr>\n",
       "      <th>306427</th>\n",
       "      <td>05/29/2021</td>\n",
       "      <td>Zhejiang</td>\n",
       "      <td>Mainland China</td>\n",
       "      <td>30-05-2021 04:20</td>\n",
       "      <td>1364</td>\n",
       "      <td>1</td>\n",
       "      <td>1324</td>\n",
       "    </tr>\n",
       "    <tr>\n",
       "      <th>306428</th>\n",
       "      <td>05/29/2021</td>\n",
       "      <td>Zhytomyr Oblast</td>\n",
       "      <td>Ukraine</td>\n",
       "      <td>30-05-2021 04:20</td>\n",
       "      <td>87550</td>\n",
       "      <td>1738</td>\n",
       "      <td>83790</td>\n",
       "    </tr>\n",
       "    <tr>\n",
       "      <th>306429</th>\n",
       "      <td>05/29/2021</td>\n",
       "      <td>Zuid-Holland</td>\n",
       "      <td>Netherlands</td>\n",
       "      <td>30-05-2021 04:20</td>\n",
       "      <td>391559</td>\n",
       "      <td>4252</td>\n",
       "      <td>0</td>\n",
       "    </tr>\n",
       "  </tbody>\n",
       "</table>\n",
       "</div>"
      ],
      "text/plain": [
       "       ObservationDate              State         Country       Last Update  \\\n",
       "SNo                                                                           \n",
       "306425      05/29/2021  Zaporizhia Oblast         Ukraine  30-05-2021 04:20   \n",
       "306426      05/29/2021            Zeeland     Netherlands  30-05-2021 04:20   \n",
       "306427      05/29/2021           Zhejiang  Mainland China  30-05-2021 04:20   \n",
       "306428      05/29/2021    Zhytomyr Oblast         Ukraine  30-05-2021 04:20   \n",
       "306429      05/29/2021       Zuid-Holland     Netherlands  30-05-2021 04:20   \n",
       "\n",
       "        Confirmed  Deaths  Recovered  \n",
       "SNo                                   \n",
       "306425     102641    2335      95289  \n",
       "306426      29147     245          0  \n",
       "306427       1364       1       1324  \n",
       "306428      87550    1738      83790  \n",
       "306429     391559    4252          0  "
      ]
     },
     "execution_count": 9,
     "metadata": {},
     "output_type": "execute_result"
    }
   ],
   "source": [
    "d.tail()"
   ]
  },
  {
   "cell_type": "markdown",
   "id": "6aa1af7c",
   "metadata": {},
   "source": [
    "### To check number of rows and columns"
   ]
  },
  {
   "cell_type": "code",
   "execution_count": 11,
   "id": "a535bdfd",
   "metadata": {},
   "outputs": [
    {
     "data": {
      "text/plain": [
       "(306429, 7)"
      ]
     },
     "execution_count": 11,
     "metadata": {},
     "output_type": "execute_result"
    }
   ],
   "source": [
    "d.shape"
   ]
  },
  {
   "cell_type": "markdown",
   "id": "a3b5de92",
   "metadata": {},
   "source": [
    "### To check the datatype of attributes"
   ]
  },
  {
   "cell_type": "code",
   "execution_count": 13,
   "id": "fbaf7d90",
   "metadata": {},
   "outputs": [
    {
     "data": {
      "text/plain": [
       "ObservationDate    object\n",
       "State              object\n",
       "Country            object\n",
       "Last Update        object\n",
       "Confirmed           int64\n",
       "Deaths              int64\n",
       "Recovered           int64\n",
       "dtype: object"
      ]
     },
     "execution_count": 13,
     "metadata": {},
     "output_type": "execute_result"
    }
   ],
   "source": [
    "d.dtypes"
   ]
  },
  {
   "cell_type": "markdown",
   "id": "c73c0237",
   "metadata": {},
   "source": [
    "### To print number of dimensions"
   ]
  },
  {
   "cell_type": "code",
   "execution_count": 15,
   "id": "766cdcbe",
   "metadata": {},
   "outputs": [
    {
     "data": {
      "text/plain": [
       "2"
      ]
     },
     "execution_count": 15,
     "metadata": {},
     "output_type": "execute_result"
    }
   ],
   "source": [
    "d.ndim"
   ]
  },
  {
   "cell_type": "markdown",
   "id": "22444a8b",
   "metadata": {},
   "source": [
    "### To print the index"
   ]
  },
  {
   "cell_type": "code",
   "execution_count": 17,
   "id": "aba80ea6",
   "metadata": {},
   "outputs": [
    {
     "data": {
      "text/plain": [
       "Int64Index([     1,      2,      3,      4,      5,      6,      7,      8,\n",
       "                 9,     10,\n",
       "            ...\n",
       "            306420, 306421, 306422, 306423, 306424, 306425, 306426, 306427,\n",
       "            306428, 306429],\n",
       "           dtype='int64', name='SNo', length=306429)"
      ]
     },
     "execution_count": 17,
     "metadata": {},
     "output_type": "execute_result"
    }
   ],
   "source": [
    "d.index"
   ]
  },
  {
   "cell_type": "markdown",
   "id": "8f16d2ea",
   "metadata": {},
   "source": [
    "### To check the size of the data"
   ]
  },
  {
   "cell_type": "code",
   "execution_count": 19,
   "id": "910688b9",
   "metadata": {},
   "outputs": [
    {
     "data": {
      "text/plain": [
       "2145003"
      ]
     },
     "execution_count": 19,
     "metadata": {},
     "output_type": "execute_result"
    }
   ],
   "source": [
    "d.size"
   ]
  },
  {
   "cell_type": "markdown",
   "id": "7c457d0e",
   "metadata": {},
   "source": [
    "### To check whether data type is empty"
   ]
  },
  {
   "cell_type": "code",
   "execution_count": 21,
   "id": "44d56fd6",
   "metadata": {},
   "outputs": [
    {
     "data": {
      "text/plain": [
       "False"
      ]
     },
     "execution_count": 21,
     "metadata": {},
     "output_type": "execute_result"
    }
   ],
   "source": [
    "d.empty"
   ]
  },
  {
   "cell_type": "markdown",
   "id": "922e0b31",
   "metadata": {},
   "source": [
    "### Print the column names"
   ]
  },
  {
   "cell_type": "code",
   "execution_count": 23,
   "id": "a631af6b",
   "metadata": {},
   "outputs": [
    {
     "data": {
      "text/plain": [
       "Index(['ObservationDate', 'State', 'Country', 'Last Update', 'Confirmed',\n",
       "       'Deaths', 'Recovered'],\n",
       "      dtype='object')"
      ]
     },
     "execution_count": 23,
     "metadata": {},
     "output_type": "execute_result"
    }
   ],
   "source": [
    "d.columns"
   ]
  },
  {
   "cell_type": "markdown",
   "id": "d5e22995",
   "metadata": {},
   "source": [
    "### Print the information of dataset"
   ]
  },
  {
   "cell_type": "code",
   "execution_count": 25,
   "id": "e96b5f0d",
   "metadata": {},
   "outputs": [
    {
     "name": "stdout",
     "output_type": "stream",
     "text": [
      "<class 'pandas.core.frame.DataFrame'>\n",
      "Int64Index: 306429 entries, 1 to 306429\n",
      "Data columns (total 7 columns):\n",
      " #   Column           Non-Null Count   Dtype \n",
      "---  ------           --------------   ----- \n",
      " 0   ObservationDate  306429 non-null  object\n",
      " 1   State            228329 non-null  object\n",
      " 2   Country          306429 non-null  object\n",
      " 3   Last Update      306429 non-null  object\n",
      " 4   Confirmed        306429 non-null  int64 \n",
      " 5   Deaths           306429 non-null  int64 \n",
      " 6   Recovered        306429 non-null  int64 \n",
      "dtypes: int64(3), object(4)\n",
      "memory usage: 18.7+ MB\n"
     ]
    }
   ],
   "source": [
    "d.info()"
   ]
  },
  {
   "cell_type": "markdown",
   "id": "390321a1",
   "metadata": {},
   "source": [
    "### Print  Statistical information"
   ]
  },
  {
   "cell_type": "code",
   "execution_count": 27,
   "id": "dd355a83",
   "metadata": {},
   "outputs": [
    {
     "data": {
      "text/html": [
       "<div>\n",
       "<style scoped>\n",
       "    .dataframe tbody tr th:only-of-type {\n",
       "        vertical-align: middle;\n",
       "    }\n",
       "\n",
       "    .dataframe tbody tr th {\n",
       "        vertical-align: top;\n",
       "    }\n",
       "\n",
       "    .dataframe thead th {\n",
       "        text-align: right;\n",
       "    }\n",
       "</style>\n",
       "<table border=\"1\" class=\"dataframe\">\n",
       "  <thead>\n",
       "    <tr style=\"text-align: right;\">\n",
       "      <th></th>\n",
       "      <th>Confirmed</th>\n",
       "      <th>Deaths</th>\n",
       "      <th>Recovered</th>\n",
       "    </tr>\n",
       "  </thead>\n",
       "  <tbody>\n",
       "    <tr>\n",
       "      <th>count</th>\n",
       "      <td>3.064290e+05</td>\n",
       "      <td>306429.000000</td>\n",
       "      <td>3.064290e+05</td>\n",
       "    </tr>\n",
       "    <tr>\n",
       "      <th>mean</th>\n",
       "      <td>8.567091e+04</td>\n",
       "      <td>2036.403268</td>\n",
       "      <td>5.042029e+04</td>\n",
       "    </tr>\n",
       "    <tr>\n",
       "      <th>std</th>\n",
       "      <td>2.775516e+05</td>\n",
       "      <td>6410.938048</td>\n",
       "      <td>2.015124e+05</td>\n",
       "    </tr>\n",
       "    <tr>\n",
       "      <th>min</th>\n",
       "      <td>-3.028440e+05</td>\n",
       "      <td>-178.000000</td>\n",
       "      <td>-8.544050e+05</td>\n",
       "    </tr>\n",
       "    <tr>\n",
       "      <th>25%</th>\n",
       "      <td>1.042000e+03</td>\n",
       "      <td>13.000000</td>\n",
       "      <td>1.100000e+01</td>\n",
       "    </tr>\n",
       "    <tr>\n",
       "      <th>50%</th>\n",
       "      <td>1.037500e+04</td>\n",
       "      <td>192.000000</td>\n",
       "      <td>1.751000e+03</td>\n",
       "    </tr>\n",
       "    <tr>\n",
       "      <th>75%</th>\n",
       "      <td>5.075200e+04</td>\n",
       "      <td>1322.000000</td>\n",
       "      <td>2.027000e+04</td>\n",
       "    </tr>\n",
       "    <tr>\n",
       "      <th>max</th>\n",
       "      <td>5.863138e+06</td>\n",
       "      <td>112385.000000</td>\n",
       "      <td>6.399531e+06</td>\n",
       "    </tr>\n",
       "  </tbody>\n",
       "</table>\n",
       "</div>"
      ],
      "text/plain": [
       "          Confirmed         Deaths     Recovered\n",
       "count  3.064290e+05  306429.000000  3.064290e+05\n",
       "mean   8.567091e+04    2036.403268  5.042029e+04\n",
       "std    2.775516e+05    6410.938048  2.015124e+05\n",
       "min   -3.028440e+05    -178.000000 -8.544050e+05\n",
       "25%    1.042000e+03      13.000000  1.100000e+01\n",
       "50%    1.037500e+04     192.000000  1.751000e+03\n",
       "75%    5.075200e+04    1322.000000  2.027000e+04\n",
       "max    5.863138e+06  112385.000000  6.399531e+06"
      ]
     },
     "execution_count": 27,
     "metadata": {},
     "output_type": "execute_result"
    }
   ],
   "source": [
    "d.describe()"
   ]
  },
  {
   "cell_type": "markdown",
   "id": "075c432f",
   "metadata": {},
   "source": [
    "### Print all Statistical information"
   ]
  },
  {
   "cell_type": "code",
   "execution_count": 29,
   "id": "dac083a1",
   "metadata": {},
   "outputs": [
    {
     "data": {
      "text/html": [
       "<div>\n",
       "<style scoped>\n",
       "    .dataframe tbody tr th:only-of-type {\n",
       "        vertical-align: middle;\n",
       "    }\n",
       "\n",
       "    .dataframe tbody tr th {\n",
       "        vertical-align: top;\n",
       "    }\n",
       "\n",
       "    .dataframe thead th {\n",
       "        text-align: right;\n",
       "    }\n",
       "</style>\n",
       "<table border=\"1\" class=\"dataframe\">\n",
       "  <thead>\n",
       "    <tr style=\"text-align: right;\">\n",
       "      <th></th>\n",
       "      <th>ObservationDate</th>\n",
       "      <th>State</th>\n",
       "      <th>Country</th>\n",
       "      <th>Last Update</th>\n",
       "      <th>Confirmed</th>\n",
       "      <th>Deaths</th>\n",
       "      <th>Recovered</th>\n",
       "    </tr>\n",
       "  </thead>\n",
       "  <tbody>\n",
       "    <tr>\n",
       "      <th>count</th>\n",
       "      <td>306429</td>\n",
       "      <td>228329</td>\n",
       "      <td>306429</td>\n",
       "      <td>306429</td>\n",
       "      <td>3.064290e+05</td>\n",
       "      <td>306429.000000</td>\n",
       "      <td>3.064290e+05</td>\n",
       "    </tr>\n",
       "    <tr>\n",
       "      <th>unique</th>\n",
       "      <td>494</td>\n",
       "      <td>737</td>\n",
       "      <td>229</td>\n",
       "      <td>1905</td>\n",
       "      <td>NaN</td>\n",
       "      <td>NaN</td>\n",
       "      <td>NaN</td>\n",
       "    </tr>\n",
       "    <tr>\n",
       "      <th>top</th>\n",
       "      <td>04/28/2021</td>\n",
       "      <td>Unknown</td>\n",
       "      <td>Russia</td>\n",
       "      <td>02-04-2021 15:13</td>\n",
       "      <td>NaN</td>\n",
       "      <td>NaN</td>\n",
       "      <td>NaN</td>\n",
       "    </tr>\n",
       "    <tr>\n",
       "      <th>freq</th>\n",
       "      <td>765</td>\n",
       "      <td>4123</td>\n",
       "      <td>30251</td>\n",
       "      <td>239885</td>\n",
       "      <td>NaN</td>\n",
       "      <td>NaN</td>\n",
       "      <td>NaN</td>\n",
       "    </tr>\n",
       "    <tr>\n",
       "      <th>mean</th>\n",
       "      <td>NaN</td>\n",
       "      <td>NaN</td>\n",
       "      <td>NaN</td>\n",
       "      <td>NaN</td>\n",
       "      <td>8.567091e+04</td>\n",
       "      <td>2036.403268</td>\n",
       "      <td>5.042029e+04</td>\n",
       "    </tr>\n",
       "    <tr>\n",
       "      <th>std</th>\n",
       "      <td>NaN</td>\n",
       "      <td>NaN</td>\n",
       "      <td>NaN</td>\n",
       "      <td>NaN</td>\n",
       "      <td>2.775516e+05</td>\n",
       "      <td>6410.938048</td>\n",
       "      <td>2.015124e+05</td>\n",
       "    </tr>\n",
       "    <tr>\n",
       "      <th>min</th>\n",
       "      <td>NaN</td>\n",
       "      <td>NaN</td>\n",
       "      <td>NaN</td>\n",
       "      <td>NaN</td>\n",
       "      <td>-3.028440e+05</td>\n",
       "      <td>-178.000000</td>\n",
       "      <td>-8.544050e+05</td>\n",
       "    </tr>\n",
       "    <tr>\n",
       "      <th>25%</th>\n",
       "      <td>NaN</td>\n",
       "      <td>NaN</td>\n",
       "      <td>NaN</td>\n",
       "      <td>NaN</td>\n",
       "      <td>1.042000e+03</td>\n",
       "      <td>13.000000</td>\n",
       "      <td>1.100000e+01</td>\n",
       "    </tr>\n",
       "    <tr>\n",
       "      <th>50%</th>\n",
       "      <td>NaN</td>\n",
       "      <td>NaN</td>\n",
       "      <td>NaN</td>\n",
       "      <td>NaN</td>\n",
       "      <td>1.037500e+04</td>\n",
       "      <td>192.000000</td>\n",
       "      <td>1.751000e+03</td>\n",
       "    </tr>\n",
       "    <tr>\n",
       "      <th>75%</th>\n",
       "      <td>NaN</td>\n",
       "      <td>NaN</td>\n",
       "      <td>NaN</td>\n",
       "      <td>NaN</td>\n",
       "      <td>5.075200e+04</td>\n",
       "      <td>1322.000000</td>\n",
       "      <td>2.027000e+04</td>\n",
       "    </tr>\n",
       "    <tr>\n",
       "      <th>max</th>\n",
       "      <td>NaN</td>\n",
       "      <td>NaN</td>\n",
       "      <td>NaN</td>\n",
       "      <td>NaN</td>\n",
       "      <td>5.863138e+06</td>\n",
       "      <td>112385.000000</td>\n",
       "      <td>6.399531e+06</td>\n",
       "    </tr>\n",
       "  </tbody>\n",
       "</table>\n",
       "</div>"
      ],
      "text/plain": [
       "       ObservationDate    State Country       Last Update     Confirmed  \\\n",
       "count           306429   228329  306429            306429  3.064290e+05   \n",
       "unique             494      737     229              1905           NaN   \n",
       "top         04/28/2021  Unknown  Russia  02-04-2021 15:13           NaN   \n",
       "freq               765     4123   30251            239885           NaN   \n",
       "mean               NaN      NaN     NaN               NaN  8.567091e+04   \n",
       "std                NaN      NaN     NaN               NaN  2.775516e+05   \n",
       "min                NaN      NaN     NaN               NaN -3.028440e+05   \n",
       "25%                NaN      NaN     NaN               NaN  1.042000e+03   \n",
       "50%                NaN      NaN     NaN               NaN  1.037500e+04   \n",
       "75%                NaN      NaN     NaN               NaN  5.075200e+04   \n",
       "max                NaN      NaN     NaN               NaN  5.863138e+06   \n",
       "\n",
       "               Deaths     Recovered  \n",
       "count   306429.000000  3.064290e+05  \n",
       "unique            NaN           NaN  \n",
       "top               NaN           NaN  \n",
       "freq              NaN           NaN  \n",
       "mean      2036.403268  5.042029e+04  \n",
       "std       6410.938048  2.015124e+05  \n",
       "min       -178.000000 -8.544050e+05  \n",
       "25%         13.000000  1.100000e+01  \n",
       "50%        192.000000  1.751000e+03  \n",
       "75%       1322.000000  2.027000e+04  \n",
       "max     112385.000000  6.399531e+06  "
      ]
     },
     "execution_count": 29,
     "metadata": {},
     "output_type": "execute_result"
    }
   ],
   "source": [
    "d.describe(include='all')"
   ]
  },
  {
   "cell_type": "markdown",
   "id": "ad553ca5",
   "metadata": {},
   "source": [
    "### To check is there any missing value"
   ]
  },
  {
   "cell_type": "code",
   "execution_count": 31,
   "id": "0dcfb562",
   "metadata": {},
   "outputs": [
    {
     "data": {
      "text/html": [
       "<div>\n",
       "<style scoped>\n",
       "    .dataframe tbody tr th:only-of-type {\n",
       "        vertical-align: middle;\n",
       "    }\n",
       "\n",
       "    .dataframe tbody tr th {\n",
       "        vertical-align: top;\n",
       "    }\n",
       "\n",
       "    .dataframe thead th {\n",
       "        text-align: right;\n",
       "    }\n",
       "</style>\n",
       "<table border=\"1\" class=\"dataframe\">\n",
       "  <thead>\n",
       "    <tr style=\"text-align: right;\">\n",
       "      <th></th>\n",
       "      <th>ObservationDate</th>\n",
       "      <th>State</th>\n",
       "      <th>Country</th>\n",
       "      <th>Last Update</th>\n",
       "      <th>Confirmed</th>\n",
       "      <th>Deaths</th>\n",
       "      <th>Recovered</th>\n",
       "    </tr>\n",
       "    <tr>\n",
       "      <th>SNo</th>\n",
       "      <th></th>\n",
       "      <th></th>\n",
       "      <th></th>\n",
       "      <th></th>\n",
       "      <th></th>\n",
       "      <th></th>\n",
       "      <th></th>\n",
       "    </tr>\n",
       "  </thead>\n",
       "  <tbody>\n",
       "    <tr>\n",
       "      <th>1</th>\n",
       "      <td>False</td>\n",
       "      <td>False</td>\n",
       "      <td>False</td>\n",
       "      <td>False</td>\n",
       "      <td>False</td>\n",
       "      <td>False</td>\n",
       "      <td>False</td>\n",
       "    </tr>\n",
       "    <tr>\n",
       "      <th>2</th>\n",
       "      <td>False</td>\n",
       "      <td>False</td>\n",
       "      <td>False</td>\n",
       "      <td>False</td>\n",
       "      <td>False</td>\n",
       "      <td>False</td>\n",
       "      <td>False</td>\n",
       "    </tr>\n",
       "    <tr>\n",
       "      <th>3</th>\n",
       "      <td>False</td>\n",
       "      <td>False</td>\n",
       "      <td>False</td>\n",
       "      <td>False</td>\n",
       "      <td>False</td>\n",
       "      <td>False</td>\n",
       "      <td>False</td>\n",
       "    </tr>\n",
       "    <tr>\n",
       "      <th>4</th>\n",
       "      <td>False</td>\n",
       "      <td>False</td>\n",
       "      <td>False</td>\n",
       "      <td>False</td>\n",
       "      <td>False</td>\n",
       "      <td>False</td>\n",
       "      <td>False</td>\n",
       "    </tr>\n",
       "    <tr>\n",
       "      <th>5</th>\n",
       "      <td>False</td>\n",
       "      <td>False</td>\n",
       "      <td>False</td>\n",
       "      <td>False</td>\n",
       "      <td>False</td>\n",
       "      <td>False</td>\n",
       "      <td>False</td>\n",
       "    </tr>\n",
       "    <tr>\n",
       "      <th>...</th>\n",
       "      <td>...</td>\n",
       "      <td>...</td>\n",
       "      <td>...</td>\n",
       "      <td>...</td>\n",
       "      <td>...</td>\n",
       "      <td>...</td>\n",
       "      <td>...</td>\n",
       "    </tr>\n",
       "    <tr>\n",
       "      <th>306425</th>\n",
       "      <td>False</td>\n",
       "      <td>False</td>\n",
       "      <td>False</td>\n",
       "      <td>False</td>\n",
       "      <td>False</td>\n",
       "      <td>False</td>\n",
       "      <td>False</td>\n",
       "    </tr>\n",
       "    <tr>\n",
       "      <th>306426</th>\n",
       "      <td>False</td>\n",
       "      <td>False</td>\n",
       "      <td>False</td>\n",
       "      <td>False</td>\n",
       "      <td>False</td>\n",
       "      <td>False</td>\n",
       "      <td>False</td>\n",
       "    </tr>\n",
       "    <tr>\n",
       "      <th>306427</th>\n",
       "      <td>False</td>\n",
       "      <td>False</td>\n",
       "      <td>False</td>\n",
       "      <td>False</td>\n",
       "      <td>False</td>\n",
       "      <td>False</td>\n",
       "      <td>False</td>\n",
       "    </tr>\n",
       "    <tr>\n",
       "      <th>306428</th>\n",
       "      <td>False</td>\n",
       "      <td>False</td>\n",
       "      <td>False</td>\n",
       "      <td>False</td>\n",
       "      <td>False</td>\n",
       "      <td>False</td>\n",
       "      <td>False</td>\n",
       "    </tr>\n",
       "    <tr>\n",
       "      <th>306429</th>\n",
       "      <td>False</td>\n",
       "      <td>False</td>\n",
       "      <td>False</td>\n",
       "      <td>False</td>\n",
       "      <td>False</td>\n",
       "      <td>False</td>\n",
       "      <td>False</td>\n",
       "    </tr>\n",
       "  </tbody>\n",
       "</table>\n",
       "<p>306429 rows × 7 columns</p>\n",
       "</div>"
      ],
      "text/plain": [
       "        ObservationDate  State  Country  Last Update  Confirmed  Deaths  \\\n",
       "SNo                                                                       \n",
       "1                 False  False    False        False      False   False   \n",
       "2                 False  False    False        False      False   False   \n",
       "3                 False  False    False        False      False   False   \n",
       "4                 False  False    False        False      False   False   \n",
       "5                 False  False    False        False      False   False   \n",
       "...                 ...    ...      ...          ...        ...     ...   \n",
       "306425            False  False    False        False      False   False   \n",
       "306426            False  False    False        False      False   False   \n",
       "306427            False  False    False        False      False   False   \n",
       "306428            False  False    False        False      False   False   \n",
       "306429            False  False    False        False      False   False   \n",
       "\n",
       "        Recovered  \n",
       "SNo                \n",
       "1           False  \n",
       "2           False  \n",
       "3           False  \n",
       "4           False  \n",
       "5           False  \n",
       "...           ...  \n",
       "306425      False  \n",
       "306426      False  \n",
       "306427      False  \n",
       "306428      False  \n",
       "306429      False  \n",
       "\n",
       "[306429 rows x 7 columns]"
      ]
     },
     "execution_count": 31,
     "metadata": {},
     "output_type": "execute_result"
    }
   ],
   "source": [
    "d.isnull()"
   ]
  },
  {
   "cell_type": "markdown",
   "id": "edb8c676",
   "metadata": {},
   "source": [
    "### To check the sum of missing values"
   ]
  },
  {
   "cell_type": "code",
   "execution_count": 33,
   "id": "331d9ac1",
   "metadata": {},
   "outputs": [
    {
     "data": {
      "text/plain": [
       "ObservationDate        0\n",
       "State              78100\n",
       "Country                0\n",
       "Last Update            0\n",
       "Confirmed              0\n",
       "Deaths                 0\n",
       "Recovered              0\n",
       "dtype: int64"
      ]
     },
     "execution_count": 33,
     "metadata": {},
     "output_type": "execute_result"
    }
   ],
   "source": [
    "d.isnull().sum()"
   ]
  },
  {
   "cell_type": "markdown",
   "id": "8a4dd599",
   "metadata": {},
   "source": [
    "### check the duplicated value"
   ]
  },
  {
   "cell_type": "code",
   "execution_count": 35,
   "id": "a1df0384",
   "metadata": {},
   "outputs": [
    {
     "data": {
      "text/plain": [
       "SNo\n",
       "1         False\n",
       "2         False\n",
       "3         False\n",
       "4         False\n",
       "5         False\n",
       "          ...  \n",
       "306425    False\n",
       "306426    False\n",
       "306427    False\n",
       "306428    False\n",
       "306429    False\n",
       "Length: 306429, dtype: bool"
      ]
     },
     "execution_count": 35,
     "metadata": {},
     "output_type": "execute_result"
    }
   ],
   "source": [
    "d.duplicated()"
   ]
  },
  {
   "cell_type": "markdown",
   "id": "5985cdff",
   "metadata": {},
   "source": [
    "### Number of unique values in dataset"
   ]
  },
  {
   "cell_type": "code",
   "execution_count": 37,
   "id": "24e7c646",
   "metadata": {},
   "outputs": [
    {
     "data": {
      "text/plain": [
       "ObservationDate       494\n",
       "State                 737\n",
       "Country               229\n",
       "Last Update          1905\n",
       "Confirmed          107146\n",
       "Deaths              20089\n",
       "Recovered           74541\n",
       "dtype: int64"
      ]
     },
     "execution_count": 37,
     "metadata": {},
     "output_type": "execute_result"
    }
   ],
   "source": [
    "d.nunique()"
   ]
  },
  {
   "cell_type": "markdown",
   "id": "e8d62ca2",
   "metadata": {},
   "source": [
    "### Check the relationship between the data"
   ]
  },
  {
   "cell_type": "code",
   "execution_count": 39,
   "id": "e42cbf0a",
   "metadata": {},
   "outputs": [
    {
     "data": {
      "text/html": [
       "<div>\n",
       "<style scoped>\n",
       "    .dataframe tbody tr th:only-of-type {\n",
       "        vertical-align: middle;\n",
       "    }\n",
       "\n",
       "    .dataframe tbody tr th {\n",
       "        vertical-align: top;\n",
       "    }\n",
       "\n",
       "    .dataframe thead th {\n",
       "        text-align: right;\n",
       "    }\n",
       "</style>\n",
       "<table border=\"1\" class=\"dataframe\">\n",
       "  <thead>\n",
       "    <tr style=\"text-align: right;\">\n",
       "      <th></th>\n",
       "      <th>Confirmed</th>\n",
       "      <th>Deaths</th>\n",
       "      <th>Recovered</th>\n",
       "    </tr>\n",
       "  </thead>\n",
       "  <tbody>\n",
       "    <tr>\n",
       "      <th>Confirmed</th>\n",
       "      <td>1.000000</td>\n",
       "      <td>0.888416</td>\n",
       "      <td>0.633479</td>\n",
       "    </tr>\n",
       "    <tr>\n",
       "      <th>Deaths</th>\n",
       "      <td>0.888416</td>\n",
       "      <td>1.000000</td>\n",
       "      <td>0.538416</td>\n",
       "    </tr>\n",
       "    <tr>\n",
       "      <th>Recovered</th>\n",
       "      <td>0.633479</td>\n",
       "      <td>0.538416</td>\n",
       "      <td>1.000000</td>\n",
       "    </tr>\n",
       "  </tbody>\n",
       "</table>\n",
       "</div>"
      ],
      "text/plain": [
       "           Confirmed    Deaths  Recovered\n",
       "Confirmed   1.000000  0.888416   0.633479\n",
       "Deaths      0.888416  1.000000   0.538416\n",
       "Recovered   0.633479  0.538416   1.000000"
      ]
     },
     "execution_count": 39,
     "metadata": {},
     "output_type": "execute_result"
    }
   ],
   "source": [
    "d.corr()"
   ]
  },
  {
   "cell_type": "markdown",
   "id": "29a25160",
   "metadata": {},
   "source": [
    "### To print random data"
   ]
  },
  {
   "cell_type": "code",
   "execution_count": 41,
   "id": "1ef28b98",
   "metadata": {},
   "outputs": [
    {
     "data": {
      "text/html": [
       "<div>\n",
       "<style scoped>\n",
       "    .dataframe tbody tr th:only-of-type {\n",
       "        vertical-align: middle;\n",
       "    }\n",
       "\n",
       "    .dataframe tbody tr th {\n",
       "        vertical-align: top;\n",
       "    }\n",
       "\n",
       "    .dataframe thead th {\n",
       "        text-align: right;\n",
       "    }\n",
       "</style>\n",
       "<table border=\"1\" class=\"dataframe\">\n",
       "  <thead>\n",
       "    <tr style=\"text-align: right;\">\n",
       "      <th></th>\n",
       "      <th>ObservationDate</th>\n",
       "      <th>State</th>\n",
       "      <th>Country</th>\n",
       "      <th>Last Update</th>\n",
       "      <th>Confirmed</th>\n",
       "      <th>Deaths</th>\n",
       "      <th>Recovered</th>\n",
       "    </tr>\n",
       "    <tr>\n",
       "      <th>SNo</th>\n",
       "      <th></th>\n",
       "      <th></th>\n",
       "      <th></th>\n",
       "      <th></th>\n",
       "      <th></th>\n",
       "      <th></th>\n",
       "      <th></th>\n",
       "    </tr>\n",
       "  </thead>\n",
       "  <tbody>\n",
       "    <tr>\n",
       "      <th>136311</th>\n",
       "      <td>10/18/2020</td>\n",
       "      <td>Uttar Pradesh</td>\n",
       "      <td>India</td>\n",
       "      <td>02-04-2021 15:13</td>\n",
       "      <td>455146</td>\n",
       "      <td>6658</td>\n",
       "      <td>415592</td>\n",
       "    </tr>\n",
       "    <tr>\n",
       "      <th>125677</th>\n",
       "      <td>10-04-2020</td>\n",
       "      <td>Novosibirsk Oblast</td>\n",
       "      <td>Russia</td>\n",
       "      <td>02-04-2021 15:13</td>\n",
       "      <td>13470</td>\n",
       "      <td>464</td>\n",
       "      <td>12149</td>\n",
       "    </tr>\n",
       "    <tr>\n",
       "      <th>132810</th>\n",
       "      <td>10/14/2020</td>\n",
       "      <td>Andhra Pradesh</td>\n",
       "      <td>India</td>\n",
       "      <td>02-04-2021 15:13</td>\n",
       "      <td>767465</td>\n",
       "      <td>6319</td>\n",
       "      <td>719477</td>\n",
       "    </tr>\n",
       "    <tr>\n",
       "      <th>37867</th>\n",
       "      <td>06-08-2020</td>\n",
       "      <td>NaN</td>\n",
       "      <td>Zimbabwe</td>\n",
       "      <td>02-04-2021 15:13</td>\n",
       "      <td>287</td>\n",
       "      <td>4</td>\n",
       "      <td>46</td>\n",
       "    </tr>\n",
       "    <tr>\n",
       "      <th>87449</th>\n",
       "      <td>08/14/2020</td>\n",
       "      <td>Huila</td>\n",
       "      <td>Colombia</td>\n",
       "      <td>02-04-2021 15:13</td>\n",
       "      <td>2184</td>\n",
       "      <td>59</td>\n",
       "      <td>780</td>\n",
       "    </tr>\n",
       "  </tbody>\n",
       "</table>\n",
       "</div>"
      ],
      "text/plain": [
       "       ObservationDate               State   Country       Last Update  \\\n",
       "SNo                                                                      \n",
       "136311      10/18/2020       Uttar Pradesh     India  02-04-2021 15:13   \n",
       "125677      10-04-2020  Novosibirsk Oblast    Russia  02-04-2021 15:13   \n",
       "132810      10/14/2020      Andhra Pradesh     India  02-04-2021 15:13   \n",
       "37867       06-08-2020                 NaN  Zimbabwe  02-04-2021 15:13   \n",
       "87449       08/14/2020               Huila  Colombia  02-04-2021 15:13   \n",
       "\n",
       "        Confirmed  Deaths  Recovered  \n",
       "SNo                                   \n",
       "136311     455146    6658     415592  \n",
       "125677      13470     464      12149  \n",
       "132810     767465    6319     719477  \n",
       "37867         287       4         46  \n",
       "87449        2184      59        780  "
      ]
     },
     "execution_count": 41,
     "metadata": {},
     "output_type": "execute_result"
    }
   ],
   "source": [
    "d.sample(5)"
   ]
  },
  {
   "cell_type": "markdown",
   "id": "9e945c9d",
   "metadata": {},
   "source": [
    "### Print unique country in dataset"
   ]
  },
  {
   "cell_type": "code",
   "execution_count": 43,
   "id": "6a5c9bfa",
   "metadata": {},
   "outputs": [
    {
     "data": {
      "text/plain": [
       "array(['Mainland China', 'Hong Kong', 'Macau', 'Taiwan', 'US', 'Japan',\n",
       "       'Thailand', 'South Korea', 'China', 'Kiribati', 'Singapore',\n",
       "       'Philippines', 'Malaysia', 'Vietnam', 'Australia', 'Mexico',\n",
       "       'Brazil', 'Colombia', 'France', 'Nepal', 'Canada', 'Cambodia',\n",
       "       'Sri Lanka', 'Ivory Coast', 'Germany', 'Finland',\n",
       "       'United Arab Emirates', 'India', 'Italy', 'UK', 'Russia', 'Sweden',\n",
       "       'Spain', 'Belgium', 'Others', 'Egypt', 'Iran', 'Israel', 'Lebanon',\n",
       "       'Iraq', 'Oman', 'Afghanistan', 'Bahrain', 'Kuwait', 'Austria',\n",
       "       'Algeria', 'Croatia', 'Switzerland', 'Pakistan', 'Georgia',\n",
       "       'Greece', 'North Macedonia', 'Norway', 'Romania', 'Denmark',\n",
       "       'Estonia', 'Netherlands', 'San Marino', ' Azerbaijan', 'Belarus',\n",
       "       'Iceland', 'Lithuania', 'New Zealand', 'Nigeria', 'North Ireland',\n",
       "       'Ireland', 'Luxembourg', 'Monaco', 'Qatar', 'Ecuador',\n",
       "       'Azerbaijan', 'Czech Republic', 'Armenia', 'Dominican Republic',\n",
       "       'Indonesia', 'Portugal', 'Andorra', 'Latvia', 'Morocco',\n",
       "       'Saudi Arabia', 'Senegal', 'Argentina', 'Chile', 'Jordan',\n",
       "       'Ukraine', 'Saint Barthelemy', 'Hungary', 'Faroe Islands',\n",
       "       'Gibraltar', 'Liechtenstein', 'Poland', 'Tunisia', 'Palestine',\n",
       "       'Bosnia and Herzegovina', 'Slovenia', 'South Africa', 'Bhutan',\n",
       "       'Cameroon', 'Costa Rica', 'Peru', 'Serbia', 'Slovakia', 'Togo',\n",
       "       'Vatican City', 'French Guiana', 'Malta', 'Martinique',\n",
       "       'Republic of Ireland', 'Bulgaria', 'Maldives', 'Bangladesh',\n",
       "       'Moldova', 'Paraguay', 'Albania', 'Cyprus', 'St. Martin', 'Brunei',\n",
       "       'occupied Palestinian territory', \"('St. Martin',)\",\n",
       "       'Burkina Faso', 'Channel Islands', 'Holy See', 'Mongolia',\n",
       "       'Panama', 'Bolivia', 'Honduras', 'Congo (Kinshasa)', 'Jamaica',\n",
       "       'Reunion', 'Turkey', 'Cuba', 'Guyana', 'Kazakhstan',\n",
       "       'Cayman Islands', 'Guadeloupe', 'Ethiopia', 'Sudan', 'Guinea',\n",
       "       'Antigua and Barbuda', 'Aruba', 'Kenya', 'Uruguay', 'Ghana',\n",
       "       'Jersey', 'Namibia', 'Seychelles', 'Trinidad and Tobago',\n",
       "       'Venezuela', 'Curacao', 'Eswatini', 'Gabon', 'Guatemala',\n",
       "       'Guernsey', 'Mauritania', 'Rwanda', 'Saint Lucia',\n",
       "       'Saint Vincent and the Grenadines', 'Suriname', 'Kosovo',\n",
       "       'Central African Republic', 'Congo (Brazzaville)',\n",
       "       'Equatorial Guinea', 'Uzbekistan', 'Guam', 'Puerto Rico', 'Benin',\n",
       "       'Greenland', 'Liberia', 'Mayotte', 'Republic of the Congo',\n",
       "       'Somalia', 'Tanzania', 'The Bahamas', 'Barbados', 'Montenegro',\n",
       "       'The Gambia', 'Kyrgyzstan', 'Mauritius', 'Zambia', 'Djibouti',\n",
       "       'Gambia, The', 'Bahamas, The', 'Chad', 'El Salvador', 'Fiji',\n",
       "       'Nicaragua', 'Madagascar', 'Haiti', 'Angola', 'Cabo Verde',\n",
       "       'Niger', 'Papua New Guinea', 'Zimbabwe', 'Cape Verde',\n",
       "       'East Timor', 'Eritrea', 'Uganda', 'Bahamas', 'Dominica', 'Gambia',\n",
       "       'Grenada', 'Mozambique', 'Samoa', 'Syria', 'Timor-Leste', 'Belize',\n",
       "       'Laos', 'Libya', 'Diamond Princess', 'Guinea-Bissau', 'Mali',\n",
       "       'Saint Kitts and Nevis', 'West Bank and Gaza', 'Burma',\n",
       "       'MS Zaandam', 'Botswana', 'Burundi', 'Sierra Leone', 'Malawi',\n",
       "       'South Sudan', 'Sao Tome and Principe', 'Yemen', 'Comoros',\n",
       "       'Tajikistan', 'Lesotho', 'Solomon Islands', 'Marshall Islands',\n",
       "       'Vanuatu', 'Micronesia'], dtype=object)"
      ]
     },
     "execution_count": 43,
     "metadata": {},
     "output_type": "execute_result"
    }
   ],
   "source": [
    "d.Country.unique()"
   ]
  },
  {
   "cell_type": "markdown",
   "id": "411b3599",
   "metadata": {},
   "source": [
    "### Print unique State in dataset"
   ]
  },
  {
   "cell_type": "code",
   "execution_count": 45,
   "id": "b0f541e6",
   "metadata": {},
   "outputs": [
    {
     "data": {
      "text/plain": [
       "array(['Anhui', 'Beijing', 'Chongqing', 'Fujian', 'Gansu', 'Guangdong',\n",
       "       'Guangxi', 'Guizhou', 'Hainan', 'Hebei', 'Heilongjiang', 'Henan',\n",
       "       'Hong Kong', 'Hubei', 'Hunan', 'Inner Mongolia', 'Jiangsu',\n",
       "       'Jiangxi', 'Jilin', 'Liaoning', 'Macau', 'Ningxia', 'Qinghai',\n",
       "       'Shaanxi', 'Shandong', 'Shanghai', 'Shanxi', 'Sichuan', 'Taiwan',\n",
       "       'Tianjin', 'Tibet', 'Washington', 'Xinjiang', 'Yunnan', 'Zhejiang',\n",
       "       nan, 'Unknown', 'Chicago', 'Illinois', 'California', 'Arizona',\n",
       "       'Ontario', 'New South Wales', 'Victoria', 'British Columbia',\n",
       "       'Bavaria', 'Queensland', 'Chicago, IL', 'South Australia',\n",
       "       'Boston, MA', 'Los Angeles, CA', 'Orange, CA', 'Santa Clara, CA',\n",
       "       'Seattle, WA', 'Tempe, AZ', 'San Benito, CA', 'Toronto, ON',\n",
       "       'London, ON', 'Madison, WI', 'Cruise Ship',\n",
       "       'Diamond Princess cruise ship', 'San Diego County, CA',\n",
       "       'San Antonio, TX', 'Ashland, NE', 'Travis, CA',\n",
       "       'From Diamond Princess', 'Lackland, TX', 'None',\n",
       "       'Humboldt County, CA', 'Sacramento County, CA',\n",
       "       'Omaha, NE (From Diamond Princess)',\n",
       "       'Travis, CA (From Diamond Princess)',\n",
       "       'Lackland, TX (From Diamond Princess)',\n",
       "       'Unassigned Location (From Diamond Princess)', ' Montreal, QC',\n",
       "       'Western Australia', 'Portland, OR', 'Snohomish County, WA',\n",
       "       'Providence, RI', 'King County, WA', 'Cook County, IL', 'Tasmania',\n",
       "       'Grafton County, NH', 'Hillsborough, FL', 'New York City, NY',\n",
       "       'Placer County, CA', 'San Mateo, CA', 'Sarasota, FL',\n",
       "       'Sonoma County, CA', 'Umatilla, OR', 'Fulton County, GA',\n",
       "       'Washington County, OR', ' Norfolk County, MA', 'Berkeley, CA',\n",
       "       'Maricopa County, AZ', 'Wake County, NC', 'Westchester County, NY',\n",
       "       'Orange County, CA', 'Northern Territory',\n",
       "       'Contra Costa County, CA', 'Bergen County, NJ',\n",
       "       'Harris County, TX', 'San Francisco County, CA',\n",
       "       'Clark County, NV', 'Fort Bend County, TX', 'Grant County, WA',\n",
       "       'Queens County, NY', 'Santa Rosa County, FL',\n",
       "       'Williamson County, TN', 'New York County, NY',\n",
       "       'Unassigned Location, WA', 'Montgomery County, MD',\n",
       "       'Suffolk County, MA', 'Denver County, CO', 'Summit County, CO',\n",
       "       'Calgary, Alberta', 'Chatham County, NC', 'Delaware County, PA',\n",
       "       'Douglas County, NE', 'Fayette County, KY', 'Floyd County, GA',\n",
       "       'Marion County, IN', 'Middlesex County, MA', 'Nassau County, NY',\n",
       "       'Norwell County, MA', 'Ramsey County, MN', 'Washoe County, NV',\n",
       "       'Wayne County, PA', 'Yolo County, CA', 'Santa Clara County, CA',\n",
       "       'Grand Princess Cruise Ship', 'Douglas County, CO',\n",
       "       'Providence County, RI', 'Alameda County, CA',\n",
       "       'Broward County, FL', 'Fairfield County, CT', 'Lee County, FL',\n",
       "       'Pinal County, AZ', 'Rockland County, NY', 'Saratoga County, NY',\n",
       "       'Edmonton, Alberta', 'Charleston County, SC', 'Clark County, WA',\n",
       "       'Cobb County, GA', 'Davis County, UT', 'El Paso County, CO',\n",
       "       'Honolulu County, HI', 'Jackson County, OR ',\n",
       "       'Jefferson County, WA', 'Kershaw County, SC', 'Klamath County, OR',\n",
       "       'Madera County, CA', 'Pierce County, WA', 'Plymouth County, MA',\n",
       "       'Santa Cruz County, CA', 'Tulsa County, OK',\n",
       "       'Montgomery County, TX', 'Norfolk County, MA',\n",
       "       'Montgomery County, PA', 'Fairfax County, VA',\n",
       "       'Rockingham County, NH', 'Washington, D.C.',\n",
       "       'Berkshire County, MA', 'Davidson County, TN',\n",
       "       'Douglas County, OR', 'Fresno County, CA', 'Harford County, MD',\n",
       "       'Hendricks County, IN', 'Hudson County, NJ', 'Johnson County, KS',\n",
       "       'Kittitas County, WA', 'Manatee County, FL', 'Marion County, OR',\n",
       "       'Okaloosa County, FL', 'Polk County, GA', 'Riverside County, CA',\n",
       "       'Shelby County, TN', 'Spokane County, WA', 'St. Louis County, MO',\n",
       "       'Suffolk County, NY', 'Ulster County, NY',\n",
       "       'Unassigned Location, VT', 'Unknown Location, MA',\n",
       "       'Volusia County, FL', 'Alberta', 'Quebec', 'Johnson County, IA',\n",
       "       'Harrison County, KY', 'Bennington County, VT',\n",
       "       'Carver County, MN', 'Charlotte County, FL', 'Cherokee County, GA',\n",
       "       'Collin County, TX', 'Jefferson County, KY',\n",
       "       'Jefferson Parish, LA', 'Shasta County, CA',\n",
       "       'Spartanburg County, SC', 'New York', 'Massachusetts',\n",
       "       'Grand Princess', 'Georgia', 'Colorado', 'Florida', 'New Jersey',\n",
       "       'Oregon', 'Texas', 'Pennsylvania', 'Iowa', 'Maryland',\n",
       "       'North Carolina', 'South Carolina', 'Tennessee', 'Virginia',\n",
       "       'Indiana', 'Kentucky', 'District of Columbia', 'Nevada',\n",
       "       'New Hampshire', 'Minnesota', 'Nebraska', 'Ohio', 'Rhode Island',\n",
       "       'Wisconsin', 'Connecticut', 'Hawaii', 'Oklahoma', 'Utah', 'Kansas',\n",
       "       'Louisiana', 'Missouri', 'Vermont', 'Alaska', 'Arkansas',\n",
       "       'Delaware', 'Idaho', 'Maine', 'Michigan', 'Mississippi', 'Montana',\n",
       "       'New Mexico', 'North Dakota', 'South Dakota', 'West Virginia',\n",
       "       'Wyoming', 'France', 'UK', 'Denmark', 'Faroe Islands', 'St Martin',\n",
       "       'Channel Islands', 'New Brunswick', 'Saint Barthelemy',\n",
       "       'Gibraltar', 'Australian Capital Territory', 'United Kingdom',\n",
       "       'French Polynesia', 'Manitoba', 'Saskatchewan', 'Alabama',\n",
       "       'Fench Guiana', 'Puerto Rico', 'Virgin Islands, U.S.',\n",
       "       'French Guiana', 'Guam', 'Newfoundland and Labrador',\n",
       "       'Prince Edward Island', 'Mayotte', 'Netherlands', 'Nova Scotia',\n",
       "       'Guadeloupe', 'Curacao', 'Virgin Islands', 'Cayman Islands',\n",
       "       'Reunion', 'Aruba', 'United States Virgin Islands', 'US',\n",
       "       'Montserrat', 'Greenland', 'New Caledonia', 'Bermuda',\n",
       "       'Sint Maarten', 'Isle of Man', 'Northwest Territories',\n",
       "       'American Samoa', 'External territories', 'Jervis Bay Territory',\n",
       "       'Martinique', 'Northern Mariana Islands', 'Nunavut',\n",
       "       'Saint Helena, Ascension and Tristan da Cunha', 'Wuhan Evacuee',\n",
       "       'Recovered', 'Yukon', 'Anguilla', 'British Virgin Islands',\n",
       "       'Turks and Caicos Islands', 'Bonaire, Sint Eustatius and Saba',\n",
       "       'Falkland Islands (Islas Malvinas)', 'Saint Pierre and Miquelon',\n",
       "       'Falkland Islands (Malvinas)', 'Abruzzo', 'Andalusia', 'Aragon',\n",
       "       'Asturias', 'Baden-Wurttemberg', 'Baleares', 'Basilicata',\n",
       "       'Bayern', 'Berlin', 'Brandenburg', 'Bremen', 'C. Valenciana',\n",
       "       'Calabria', 'Campania', 'Canarias', 'Cantabria',\n",
       "       'Castilla - La Mancha', 'Castilla y Leon', 'Catalonia', 'Ceuta',\n",
       "       'Emilia-Romagna', 'Extremadura', 'Friuli Venezia Giulia',\n",
       "       'Galicia', 'Hamburg', 'Hessen', 'La Rioja', 'Lazio', 'Liguria',\n",
       "       'Lombardia', 'Madrid', 'Marche', 'Mecklenburg-Vorpommern',\n",
       "       'Melilla', 'Molise', 'Murcia', 'Navarra', 'Niedersachsen',\n",
       "       'Nordrhein-Westfalen', 'P.A. Bolzano', 'P.A. Trento', 'Pais Vasco',\n",
       "       'Piemonte', 'Puglia', 'Rheinland-Pfalz', 'Saarland', 'Sachsen',\n",
       "       'Sachsen-Anhalt', 'Sardegna', 'Schleswig-Holstein', 'Sicilia',\n",
       "       'Thuringen', 'Toscana', 'Umbria', \"Valle d'Aosta\", 'Veneto',\n",
       "       'Acre', 'Aguascalientes', 'Alagoas', 'Amapa', 'Amazonas',\n",
       "       'Antofagasta', 'Araucania', 'Arica y Parinacota', 'Atacama',\n",
       "       'Aysen', 'Bahia', 'Baja California', 'Baja California Sur',\n",
       "       'Biobio', 'Campeche', 'Ceara', 'Chiapas', 'Chihuahua',\n",
       "       'Ciudad de Mexico', 'Coahuila', 'Colima', 'Coquimbo',\n",
       "       'Distrito Federal', 'Durango', 'Espirito Santo', 'Goias',\n",
       "       'Guanajuato', 'Guerrero', 'Hidalgo', 'Jalisco', 'Los Lagos',\n",
       "       'Los Rios', 'Magallanes', 'Maranhao', 'Mato Grosso',\n",
       "       'Mato Grosso do Sul', 'Maule', 'Metropolitana', 'Mexico',\n",
       "       'Michoacan', 'Minas Gerais', 'Morelos', 'Nayarit', 'Nuble',\n",
       "       'Nuevo Leon', 'OHiggins', 'Oaxaca', 'Para', 'Paraiba', 'Parana',\n",
       "       'Pernambuco', 'Piaui', 'Puebla', 'Queretaro', 'Quintana Roo',\n",
       "       'Rio Grande do Norte', 'Rio Grande do Sul', 'Rio de Janeiro',\n",
       "       'Rondonia', 'Roraima', 'San Luis Potosi', 'Santa Catarina',\n",
       "       'Sao Paulo', 'Sergipe', 'Sinaloa', 'Sonora', 'Tabasco',\n",
       "       'Tamaulipas', 'Tarapaca', 'Tlaxcala', 'Tocantins', 'Valparaiso',\n",
       "       'Veracruz', 'Yucatan', 'Zacatecas', 'Aichi', 'Akita', 'Ancash',\n",
       "       'Antioquia', 'Aomori', 'Apurimac', 'Arauca', 'Arequipa',\n",
       "       'Atlantico', 'Ayacucho', 'Bolivar', 'Boyaca', 'Cajamarca',\n",
       "       'Caldas', 'Callao', 'Capital District', 'Caqueta', 'Casanare',\n",
       "       'Cauca', 'Cesar', 'Chiba', 'Choco', 'Cordoba', 'Cundinamarca',\n",
       "       'Cusco', 'Ehime', 'Fukui', 'Fukuoka', 'Fukushima', 'Gifu', 'Gunma',\n",
       "       'Hiroshima', 'Hokkaido', 'Huancavelica', 'Huanuco', 'Huila',\n",
       "       'Hyogo', 'Ibaraki', 'Ica', 'Ishikawa', 'Junin', 'Kagawa',\n",
       "       'Kagoshima', 'Kanagawa', 'Kochi', 'Kumamoto', 'Kyoto',\n",
       "       'La Guajira', 'La Libertad', 'Lambayeque', 'Lima', 'Loreto',\n",
       "       'Madre de Dios', 'Magdalena', 'Meta', 'Mie', 'Miyagi', 'Miyazaki',\n",
       "       'Moquegua', 'Nagano', 'Nagasaki', 'Nara', 'Narino', 'Niigata',\n",
       "       'Norte de Santander', 'Oita', 'Okayama', 'Okinawa', 'Osaka',\n",
       "       'Pasco', 'Piura', 'Port Quarantine', 'Puno', 'Putumayo', 'Quindio',\n",
       "       'Risaralda', 'Saga', 'Saitama', 'San Andres y Providencia',\n",
       "       'San Martin', 'Santander', 'Shiga', 'Shimane', 'Shizuoka', 'Sucre',\n",
       "       'Tacna', 'Tochigi', 'Tokushima', 'Tokyo', 'Tolima', 'Tottori',\n",
       "       'Toyama', 'Tumbes', 'Ucayali', 'Valle del Cauca', 'Vaupes',\n",
       "       'Wakayama', 'Yamagata', 'Yamaguchi', 'Yamanashi', 'Guainia',\n",
       "       'Vichada', 'Adygea Republic', 'Altai Krai', 'Altai Republic',\n",
       "       'Amur Oblast', 'Arkhangelsk Oblast', 'Astrakhan Oblast',\n",
       "       'Bashkortostan Republic', 'Belgorod Oblast', 'Bryansk Oblast',\n",
       "       'Buryatia Republic', 'Chechen Republic', 'Chelyabinsk Oblast',\n",
       "       'Cherkasy Oblast', 'Chernihiv Oblast', 'Chernivtsi Oblast',\n",
       "       'Chukotka Autonomous Okrug', 'Chuvashia Republic',\n",
       "       'Crimea Republic*', 'Dagestan Republic', 'Dnipropetrovsk Oblast',\n",
       "       'Donetsk Oblast', 'Ingushetia Republic', 'Irkutsk Oblast',\n",
       "       'Ivano-Frankivsk Oblast', 'Ivanovo Oblast',\n",
       "       'Jewish Autonomous Okrug', 'Kabardino-Balkarian Republic',\n",
       "       'Kaliningrad Oblast', 'Kalmykia Republic', 'Kaluga Oblast',\n",
       "       'Kamchatka Krai', 'Karachay-Cherkess Republic', 'Karelia Republic',\n",
       "       'Kemerovo Oblast', 'Khabarovsk Krai', 'Khakassia Republic',\n",
       "       'Khanty-Mansi Autonomous Okrug', 'Kharkiv Oblast',\n",
       "       'Kherson Oblast', 'Khmelnytskyi Oblast', 'Kiev', 'Kiev Oblast',\n",
       "       'Kirov Oblast', 'Kirovohrad Oblast', 'Komi Republic',\n",
       "       'Kostroma Oblast', 'Krasnodar Krai', 'Krasnoyarsk Krai',\n",
       "       'Kurgan Oblast', 'Kursk Oblast', 'Leningrad Oblast',\n",
       "       'Lipetsk Oblast', 'Luhansk Oblast', 'Lviv Oblast',\n",
       "       'Magadan Oblast', 'Mari El Republic', 'Mordovia Republic',\n",
       "       'Moscow', 'Moscow Oblast', 'Murmansk Oblast', 'Mykolaiv Oblast',\n",
       "       'Nenets Autonomous Okrug', 'Nizhny Novgorod Oblast',\n",
       "       'North Ossetia - Alania Republic', 'Novgorod Oblast',\n",
       "       'Novosibirsk Oblast', 'Odessa Oblast', 'Omsk Oblast',\n",
       "       'Orel Oblast', 'Orenburg Oblast', 'Penza Oblast', 'Perm Krai',\n",
       "       'Poltava Oblast', 'Primorsky Krai', 'Pskov Oblast', 'Rivne Oblast',\n",
       "       'Rostov Oblast', 'Ryazan Oblast', 'Saint Petersburg',\n",
       "       'Sakha (Yakutiya) Republic', 'Sakhalin Oblast', 'Samara Oblast',\n",
       "       'Saratov Oblast', 'Sevastopol*', 'Smolensk Oblast',\n",
       "       'Stavropol Krai', 'Sumy Oblast', 'Sverdlovsk Oblast',\n",
       "       'Tambov Oblast', 'Tatarstan Republic', 'Ternopil Oblast',\n",
       "       'Tomsk Oblast', 'Tula Oblast', 'Tver Oblast', 'Tyumen Oblast',\n",
       "       'Tyva Republic', 'Udmurt Republic', 'Ulyanovsk Oblast',\n",
       "       'Vinnytsia Oblast', 'Vladimir Oblast', 'Volgograd Oblast',\n",
       "       'Vologda Oblast', 'Volyn Oblast', 'Voronezh Oblast',\n",
       "       'Yamalo-Nenets Autonomous Okrug', 'Yaroslavl Oblast',\n",
       "       'Zabaykalsky Krai', 'Zakarpattia Oblast', 'Zaporizhia Oblast',\n",
       "       'Zhytomyr Oblast', 'Blekinge', 'Dalarna', 'Gavleborg', 'Gotland',\n",
       "       'Halland', 'Jamtland Harjedalen', 'Jonkoping', 'Kalmar',\n",
       "       'Kronoberg', 'Norrbotten', 'Orebro', 'Ostergotland', 'Skane',\n",
       "       'Sormland', 'Stockholm', 'Uppsala', 'Varmland', 'Vasterbotten',\n",
       "       'Vasternorrland', 'Vastmanland', 'Vastra Gotaland', 'Guaviare',\n",
       "       'Andaman and Nicobar Islands', 'Andhra Pradesh',\n",
       "       'Arunachal Pradesh', 'Assam', 'Azad Jammu and Kashmir',\n",
       "       'Balochistan', 'Bihar', 'Chandigarh', 'Chhattisgarh',\n",
       "       'Dadar Nagar Haveli', 'Delhi', 'Gilgit-Baltistan', 'Goa',\n",
       "       'Gujarat', 'Haryana', 'Himachal Pradesh', 'Islamabad',\n",
       "       'Jammu and Kashmir', 'Jharkhand', 'Karnataka', 'Kerala',\n",
       "       'Khyber Pakhtunkhwa', 'Ladakh', 'Madhya Pradesh', 'Maharashtra',\n",
       "       'Manipur', 'Meghalaya', 'Mizoram', 'Nagaland', 'Odisha',\n",
       "       'Puducherry', 'Punjab', 'Rajasthan', 'Sikkim', 'Sindh',\n",
       "       'Tamil Nadu', 'Telangana', 'Tripura', 'Uttar Pradesh',\n",
       "       'Uttarakhand', 'West Bengal',\n",
       "       'Dadra and Nagar Haveli and Daman and Diu', 'England',\n",
       "       'Northern Ireland', 'Scotland', 'Wales', 'Drenthe', 'Flevoland',\n",
       "       'Friesland', 'Gelderland', 'Groningen', 'Limburg', 'Noord-Brabant',\n",
       "       'Noord-Holland', 'Overijssel', 'Utrecht', 'Zeeland',\n",
       "       'Zuid-Holland', 'Iwate', 'Lakshadweep', 'Antwerp', 'Brussels',\n",
       "       'East Flanders', 'Flemish Brabant', 'Hainaut', 'Liege',\n",
       "       'Luxembourg', 'Namur', 'Walloon Brabant', 'West Flanders',\n",
       "       'Repatriated Travellers', 'Wallis and Futuna'], dtype=object)"
      ]
     },
     "execution_count": 45,
     "metadata": {},
     "output_type": "execute_result"
    }
   ],
   "source": [
    "d.State.unique()"
   ]
  },
  {
   "cell_type": "markdown",
   "id": "324fb7e7",
   "metadata": {},
   "source": [
    "### Changing the datatype of date"
   ]
  },
  {
   "cell_type": "code",
   "execution_count": 47,
   "id": "4558cead",
   "metadata": {},
   "outputs": [],
   "source": [
    "d[\"ObservationDate\"]=pd.to_datetime(d[\"ObservationDate\"])"
   ]
  },
  {
   "cell_type": "markdown",
   "id": "c781859b",
   "metadata": {},
   "source": [
    "### To show maximum number of confirmed cases"
   ]
  },
  {
   "cell_type": "code",
   "execution_count": 49,
   "id": "858e8b91",
   "metadata": {},
   "outputs": [
    {
     "data": {
      "text/html": [
       "<div>\n",
       "<style scoped>\n",
       "    .dataframe tbody tr th:only-of-type {\n",
       "        vertical-align: middle;\n",
       "    }\n",
       "\n",
       "    .dataframe tbody tr th {\n",
       "        vertical-align: top;\n",
       "    }\n",
       "\n",
       "    .dataframe thead th {\n",
       "        text-align: right;\n",
       "    }\n",
       "</style>\n",
       "<table border=\"1\" class=\"dataframe\">\n",
       "  <thead>\n",
       "    <tr style=\"text-align: right;\">\n",
       "      <th></th>\n",
       "      <th>ObservationDate</th>\n",
       "      <th>State</th>\n",
       "      <th>Country</th>\n",
       "      <th>Last Update</th>\n",
       "      <th>Confirmed</th>\n",
       "      <th>Deaths</th>\n",
       "      <th>Recovered</th>\n",
       "    </tr>\n",
       "    <tr>\n",
       "      <th>SNo</th>\n",
       "      <th></th>\n",
       "      <th></th>\n",
       "      <th></th>\n",
       "      <th></th>\n",
       "      <th></th>\n",
       "      <th></th>\n",
       "      <th></th>\n",
       "    </tr>\n",
       "  </thead>\n",
       "  <tbody>\n",
       "    <tr>\n",
       "      <th>298069</th>\n",
       "      <td>2021-05-19</td>\n",
       "      <td>NaN</td>\n",
       "      <td>France</td>\n",
       "      <td>20-05-2021 04:21</td>\n",
       "      <td>5863138</td>\n",
       "      <td>107390</td>\n",
       "      <td>324444</td>\n",
       "    </tr>\n",
       "    <tr>\n",
       "      <th>297304</th>\n",
       "      <td>2021-05-18</td>\n",
       "      <td>NaN</td>\n",
       "      <td>France</td>\n",
       "      <td>19-05-2021 04:20</td>\n",
       "      <td>5845010</td>\n",
       "      <td>107256</td>\n",
       "      <td>323205</td>\n",
       "    </tr>\n",
       "    <tr>\n",
       "      <th>296539</th>\n",
       "      <td>2021-05-17</td>\n",
       "      <td>NaN</td>\n",
       "      <td>France</td>\n",
       "      <td>18-05-2021 04:20</td>\n",
       "      <td>5829009</td>\n",
       "      <td>107041</td>\n",
       "      <td>321874</td>\n",
       "    </tr>\n",
       "    <tr>\n",
       "      <th>295774</th>\n",
       "      <td>2021-05-16</td>\n",
       "      <td>NaN</td>\n",
       "      <td>France</td>\n",
       "      <td>17-05-2021 04:20</td>\n",
       "      <td>5825659</td>\n",
       "      <td>106845</td>\n",
       "      <td>321026</td>\n",
       "    </tr>\n",
       "    <tr>\n",
       "      <th>295009</th>\n",
       "      <td>2021-05-15</td>\n",
       "      <td>NaN</td>\n",
       "      <td>France</td>\n",
       "      <td>16-05-2021 04:20</td>\n",
       "      <td>5811711</td>\n",
       "      <td>106764</td>\n",
       "      <td>320711</td>\n",
       "    </tr>\n",
       "  </tbody>\n",
       "</table>\n",
       "</div>"
      ],
      "text/plain": [
       "       ObservationDate State Country       Last Update  Confirmed  Deaths  \\\n",
       "SNo                                                                         \n",
       "298069      2021-05-19   NaN  France  20-05-2021 04:21    5863138  107390   \n",
       "297304      2021-05-18   NaN  France  19-05-2021 04:20    5845010  107256   \n",
       "296539      2021-05-17   NaN  France  18-05-2021 04:20    5829009  107041   \n",
       "295774      2021-05-16   NaN  France  17-05-2021 04:20    5825659  106845   \n",
       "295009      2021-05-15   NaN  France  16-05-2021 04:20    5811711  106764   \n",
       "\n",
       "        Recovered  \n",
       "SNo                \n",
       "298069     324444  \n",
       "297304     323205  \n",
       "296539     321874  \n",
       "295774     321026  \n",
       "295009     320711  "
      ]
     },
     "execution_count": 49,
     "metadata": {},
     "output_type": "execute_result"
    }
   ],
   "source": [
    "c=d.sort_values('Confirmed',ascending=False).head(5)\n",
    "c"
   ]
  },
  {
   "cell_type": "markdown",
   "id": "60834fad",
   "metadata": {},
   "source": [
    "### To show maximum number of death cases"
   ]
  },
  {
   "cell_type": "code",
   "execution_count": 51,
   "id": "9d068af3",
   "metadata": {},
   "outputs": [
    {
     "data": {
      "text/html": [
       "<div>\n",
       "<style scoped>\n",
       "    .dataframe tbody tr th:only-of-type {\n",
       "        vertical-align: middle;\n",
       "    }\n",
       "\n",
       "    .dataframe tbody tr th {\n",
       "        vertical-align: top;\n",
       "    }\n",
       "\n",
       "    .dataframe thead th {\n",
       "        text-align: right;\n",
       "    }\n",
       "</style>\n",
       "<table border=\"1\" class=\"dataframe\">\n",
       "  <thead>\n",
       "    <tr style=\"text-align: right;\">\n",
       "      <th></th>\n",
       "      <th>ObservationDate</th>\n",
       "      <th>State</th>\n",
       "      <th>Country</th>\n",
       "      <th>Last Update</th>\n",
       "      <th>Confirmed</th>\n",
       "      <th>Deaths</th>\n",
       "      <th>Recovered</th>\n",
       "    </tr>\n",
       "    <tr>\n",
       "      <th>SNo</th>\n",
       "      <th></th>\n",
       "      <th></th>\n",
       "      <th></th>\n",
       "      <th></th>\n",
       "      <th></th>\n",
       "      <th></th>\n",
       "      <th></th>\n",
       "    </tr>\n",
       "  </thead>\n",
       "  <tbody>\n",
       "    <tr>\n",
       "      <th>305973</th>\n",
       "      <td>2021-05-29</td>\n",
       "      <td>England</td>\n",
       "      <td>UK</td>\n",
       "      <td>30-05-2021 04:20</td>\n",
       "      <td>3910803</td>\n",
       "      <td>112385</td>\n",
       "      <td>0</td>\n",
       "    </tr>\n",
       "    <tr>\n",
       "      <th>305208</th>\n",
       "      <td>2021-05-28</td>\n",
       "      <td>England</td>\n",
       "      <td>UK</td>\n",
       "      <td>29-05-2021 04:20</td>\n",
       "      <td>3908214</td>\n",
       "      <td>112379</td>\n",
       "      <td>0</td>\n",
       "    </tr>\n",
       "    <tr>\n",
       "      <th>304443</th>\n",
       "      <td>2021-05-27</td>\n",
       "      <td>England</td>\n",
       "      <td>UK</td>\n",
       "      <td>28-05-2021 04:20</td>\n",
       "      <td>3904934</td>\n",
       "      <td>112371</td>\n",
       "      <td>0</td>\n",
       "    </tr>\n",
       "    <tr>\n",
       "      <th>303678</th>\n",
       "      <td>2021-05-26</td>\n",
       "      <td>England</td>\n",
       "      <td>UK</td>\n",
       "      <td>27-05-2021 04:20</td>\n",
       "      <td>3902160</td>\n",
       "      <td>112363</td>\n",
       "      <td>0</td>\n",
       "    </tr>\n",
       "    <tr>\n",
       "      <th>302913</th>\n",
       "      <td>2021-05-25</td>\n",
       "      <td>England</td>\n",
       "      <td>UK</td>\n",
       "      <td>26-05-2021 04:20</td>\n",
       "      <td>3899813</td>\n",
       "      <td>112355</td>\n",
       "      <td>0</td>\n",
       "    </tr>\n",
       "  </tbody>\n",
       "</table>\n",
       "</div>"
      ],
      "text/plain": [
       "       ObservationDate    State Country       Last Update  Confirmed  Deaths  \\\n",
       "SNo                                                                            \n",
       "305973      2021-05-29  England      UK  30-05-2021 04:20    3910803  112385   \n",
       "305208      2021-05-28  England      UK  29-05-2021 04:20    3908214  112379   \n",
       "304443      2021-05-27  England      UK  28-05-2021 04:20    3904934  112371   \n",
       "303678      2021-05-26  England      UK  27-05-2021 04:20    3902160  112363   \n",
       "302913      2021-05-25  England      UK  26-05-2021 04:20    3899813  112355   \n",
       "\n",
       "        Recovered  \n",
       "SNo                \n",
       "305973          0  \n",
       "305208          0  \n",
       "304443          0  \n",
       "303678          0  \n",
       "302913          0  "
      ]
     },
     "execution_count": 51,
     "metadata": {},
     "output_type": "execute_result"
    }
   ],
   "source": [
    "dead=d.sort_values('Deaths',ascending=False).head(5)\n",
    "dead"
   ]
  },
  {
   "cell_type": "markdown",
   "id": "938103ef",
   "metadata": {},
   "source": [
    "### To show maximum number of recovered cases"
   ]
  },
  {
   "cell_type": "code",
   "execution_count": 54,
   "id": "1ac95e46",
   "metadata": {},
   "outputs": [
    {
     "data": {
      "text/html": [
       "<div>\n",
       "<style scoped>\n",
       "    .dataframe tbody tr th:only-of-type {\n",
       "        vertical-align: middle;\n",
       "    }\n",
       "\n",
       "    .dataframe tbody tr th {\n",
       "        vertical-align: top;\n",
       "    }\n",
       "\n",
       "    .dataframe thead th {\n",
       "        text-align: right;\n",
       "    }\n",
       "</style>\n",
       "<table border=\"1\" class=\"dataframe\">\n",
       "  <thead>\n",
       "    <tr style=\"text-align: right;\">\n",
       "      <th></th>\n",
       "      <th>ObservationDate</th>\n",
       "      <th>State</th>\n",
       "      <th>Country</th>\n",
       "      <th>Last Update</th>\n",
       "      <th>Confirmed</th>\n",
       "      <th>Deaths</th>\n",
       "      <th>Recovered</th>\n",
       "    </tr>\n",
       "    <tr>\n",
       "      <th>SNo</th>\n",
       "      <th></th>\n",
       "      <th></th>\n",
       "      <th></th>\n",
       "      <th></th>\n",
       "      <th></th>\n",
       "      <th></th>\n",
       "      <th></th>\n",
       "    </tr>\n",
       "  </thead>\n",
       "  <tbody>\n",
       "    <tr>\n",
       "      <th>179329</th>\n",
       "      <td>2020-12-14</td>\n",
       "      <td>Recovered</td>\n",
       "      <td>US</td>\n",
       "      <td>02-04-2021 15:13</td>\n",
       "      <td>0</td>\n",
       "      <td>0</td>\n",
       "      <td>6399531</td>\n",
       "    </tr>\n",
       "    <tr>\n",
       "      <th>178566</th>\n",
       "      <td>2020-12-13</td>\n",
       "      <td>Recovered</td>\n",
       "      <td>US</td>\n",
       "      <td>02-04-2021 15:13</td>\n",
       "      <td>0</td>\n",
       "      <td>0</td>\n",
       "      <td>6298082</td>\n",
       "    </tr>\n",
       "    <tr>\n",
       "      <th>177803</th>\n",
       "      <td>2020-12-12</td>\n",
       "      <td>Recovered</td>\n",
       "      <td>US</td>\n",
       "      <td>02-04-2021 15:13</td>\n",
       "      <td>0</td>\n",
       "      <td>0</td>\n",
       "      <td>6246605</td>\n",
       "    </tr>\n",
       "    <tr>\n",
       "      <th>177040</th>\n",
       "      <td>2020-12-11</td>\n",
       "      <td>Recovered</td>\n",
       "      <td>US</td>\n",
       "      <td>02-04-2021 15:13</td>\n",
       "      <td>0</td>\n",
       "      <td>0</td>\n",
       "      <td>6135314</td>\n",
       "    </tr>\n",
       "    <tr>\n",
       "      <th>176277</th>\n",
       "      <td>2020-12-10</td>\n",
       "      <td>Recovered</td>\n",
       "      <td>US</td>\n",
       "      <td>02-04-2021 15:13</td>\n",
       "      <td>0</td>\n",
       "      <td>0</td>\n",
       "      <td>5985047</td>\n",
       "    </tr>\n",
       "  </tbody>\n",
       "</table>\n",
       "</div>"
      ],
      "text/plain": [
       "       ObservationDate      State Country       Last Update  Confirmed  \\\n",
       "SNo                                                                      \n",
       "179329      2020-12-14  Recovered      US  02-04-2021 15:13          0   \n",
       "178566      2020-12-13  Recovered      US  02-04-2021 15:13          0   \n",
       "177803      2020-12-12  Recovered      US  02-04-2021 15:13          0   \n",
       "177040      2020-12-11  Recovered      US  02-04-2021 15:13          0   \n",
       "176277      2020-12-10  Recovered      US  02-04-2021 15:13          0   \n",
       "\n",
       "        Deaths  Recovered  \n",
       "SNo                        \n",
       "179329       0    6399531  \n",
       "178566       0    6298082  \n",
       "177803       0    6246605  \n",
       "177040       0    6135314  \n",
       "176277       0    5985047  "
      ]
     },
     "execution_count": 54,
     "metadata": {},
     "output_type": "execute_result"
    }
   ],
   "source": [
    "r=d.sort_values('Recovered',ascending=False).head(5)\n",
    "r"
   ]
  },
  {
   "cell_type": "markdown",
   "id": "bf116f89",
   "metadata": {},
   "source": [
    "### To extract data of India"
   ]
  },
  {
   "cell_type": "code",
   "execution_count": 52,
   "id": "43a7a5bc",
   "metadata": {},
   "outputs": [
    {
     "data": {
      "text/html": [
       "<div>\n",
       "<style scoped>\n",
       "    .dataframe tbody tr th:only-of-type {\n",
       "        vertical-align: middle;\n",
       "    }\n",
       "\n",
       "    .dataframe tbody tr th {\n",
       "        vertical-align: top;\n",
       "    }\n",
       "\n",
       "    .dataframe thead th {\n",
       "        text-align: right;\n",
       "    }\n",
       "</style>\n",
       "<table border=\"1\" class=\"dataframe\">\n",
       "  <thead>\n",
       "    <tr style=\"text-align: right;\">\n",
       "      <th></th>\n",
       "      <th>ObservationDate</th>\n",
       "      <th>State</th>\n",
       "      <th>Country</th>\n",
       "      <th>Last Update</th>\n",
       "      <th>Confirmed</th>\n",
       "      <th>Deaths</th>\n",
       "      <th>Recovered</th>\n",
       "    </tr>\n",
       "    <tr>\n",
       "      <th>SNo</th>\n",
       "      <th></th>\n",
       "      <th></th>\n",
       "      <th></th>\n",
       "      <th></th>\n",
       "      <th></th>\n",
       "      <th></th>\n",
       "      <th></th>\n",
       "    </tr>\n",
       "  </thead>\n",
       "  <tbody>\n",
       "    <tr>\n",
       "      <th>447</th>\n",
       "      <td>2020-01-30</td>\n",
       "      <td>NaN</td>\n",
       "      <td>India</td>\n",
       "      <td>1/30/20 16:00</td>\n",
       "      <td>1</td>\n",
       "      <td>0</td>\n",
       "      <td>0</td>\n",
       "    </tr>\n",
       "    <tr>\n",
       "      <th>510</th>\n",
       "      <td>2020-01-31</td>\n",
       "      <td>NaN</td>\n",
       "      <td>India</td>\n",
       "      <td>1/31/2020 23:59</td>\n",
       "      <td>1</td>\n",
       "      <td>0</td>\n",
       "      <td>0</td>\n",
       "    </tr>\n",
       "    <tr>\n",
       "      <th>568</th>\n",
       "      <td>2020-02-01</td>\n",
       "      <td>NaN</td>\n",
       "      <td>India</td>\n",
       "      <td>1/31/2020 8:15</td>\n",
       "      <td>1</td>\n",
       "      <td>0</td>\n",
       "      <td>0</td>\n",
       "    </tr>\n",
       "    <tr>\n",
       "      <th>630</th>\n",
       "      <td>2020-02-02</td>\n",
       "      <td>NaN</td>\n",
       "      <td>India</td>\n",
       "      <td>2020-02-02T06:03:08</td>\n",
       "      <td>2</td>\n",
       "      <td>0</td>\n",
       "      <td>0</td>\n",
       "    </tr>\n",
       "    <tr>\n",
       "      <th>697</th>\n",
       "      <td>2020-02-03</td>\n",
       "      <td>NaN</td>\n",
       "      <td>India</td>\n",
       "      <td>2020-02-03T21:43:02</td>\n",
       "      <td>3</td>\n",
       "      <td>0</td>\n",
       "      <td>0</td>\n",
       "    </tr>\n",
       "    <tr>\n",
       "      <th>...</th>\n",
       "      <td>...</td>\n",
       "      <td>...</td>\n",
       "      <td>...</td>\n",
       "      <td>...</td>\n",
       "      <td>...</td>\n",
       "      <td>...</td>\n",
       "      <td>...</td>\n",
       "    </tr>\n",
       "    <tr>\n",
       "      <th>306352</th>\n",
       "      <td>2021-05-29</td>\n",
       "      <td>Tripura</td>\n",
       "      <td>India</td>\n",
       "      <td>30-05-2021 04:20</td>\n",
       "      <td>50739</td>\n",
       "      <td>507</td>\n",
       "      <td>43190</td>\n",
       "    </tr>\n",
       "    <tr>\n",
       "      <th>306367</th>\n",
       "      <td>2021-05-29</td>\n",
       "      <td>Unknown</td>\n",
       "      <td>India</td>\n",
       "      <td>30-05-2021 04:20</td>\n",
       "      <td>0</td>\n",
       "      <td>0</td>\n",
       "      <td>0</td>\n",
       "    </tr>\n",
       "    <tr>\n",
       "      <th>306378</th>\n",
       "      <td>2021-05-29</td>\n",
       "      <td>Uttar Pradesh</td>\n",
       "      <td>India</td>\n",
       "      <td>30-05-2021 04:20</td>\n",
       "      <td>1688152</td>\n",
       "      <td>20208</td>\n",
       "      <td>1621743</td>\n",
       "    </tr>\n",
       "    <tr>\n",
       "      <th>306379</th>\n",
       "      <td>2021-05-29</td>\n",
       "      <td>Uttarakhand</td>\n",
       "      <td>India</td>\n",
       "      <td>30-05-2021 04:20</td>\n",
       "      <td>327112</td>\n",
       "      <td>6360</td>\n",
       "      <td>289642</td>\n",
       "    </tr>\n",
       "    <tr>\n",
       "      <th>306407</th>\n",
       "      <td>2021-05-29</td>\n",
       "      <td>West Bengal</td>\n",
       "      <td>India</td>\n",
       "      <td>30-05-2021 04:20</td>\n",
       "      <td>1354956</td>\n",
       "      <td>15268</td>\n",
       "      <td>1237290</td>\n",
       "    </tr>\n",
       "  </tbody>\n",
       "</table>\n",
       "<p>13182 rows × 7 columns</p>\n",
       "</div>"
      ],
      "text/plain": [
       "       ObservationDate          State Country          Last Update  Confirmed  \\\n",
       "SNo                                                                             \n",
       "447         2020-01-30            NaN   India        1/30/20 16:00          1   \n",
       "510         2020-01-31            NaN   India      1/31/2020 23:59          1   \n",
       "568         2020-02-01            NaN   India       1/31/2020 8:15          1   \n",
       "630         2020-02-02            NaN   India  2020-02-02T06:03:08          2   \n",
       "697         2020-02-03            NaN   India  2020-02-03T21:43:02          3   \n",
       "...                ...            ...     ...                  ...        ...   \n",
       "306352      2021-05-29        Tripura   India     30-05-2021 04:20      50739   \n",
       "306367      2021-05-29        Unknown   India     30-05-2021 04:20          0   \n",
       "306378      2021-05-29  Uttar Pradesh   India     30-05-2021 04:20    1688152   \n",
       "306379      2021-05-29    Uttarakhand   India     30-05-2021 04:20     327112   \n",
       "306407      2021-05-29    West Bengal   India     30-05-2021 04:20    1354956   \n",
       "\n",
       "        Deaths  Recovered  \n",
       "SNo                        \n",
       "447          0          0  \n",
       "510          0          0  \n",
       "568          0          0  \n",
       "630          0          0  \n",
       "697          0          0  \n",
       "...        ...        ...  \n",
       "306352     507      43190  \n",
       "306367       0          0  \n",
       "306378   20208    1621743  \n",
       "306379    6360     289642  \n",
       "306407   15268    1237290  \n",
       "\n",
       "[13182 rows x 7 columns]"
      ]
     },
     "execution_count": 52,
     "metadata": {},
     "output_type": "execute_result"
    }
   ],
   "source": [
    "India=d[d['Country']=='India']\n",
    "India"
   ]
  },
  {
   "cell_type": "markdown",
   "id": "72b35b30",
   "metadata": {},
   "source": [
    "### Most number of confirmed cases in india"
   ]
  },
  {
   "cell_type": "code",
   "execution_count": 58,
   "id": "58b3d4a6",
   "metadata": {},
   "outputs": [
    {
     "data": {
      "text/html": [
       "<div>\n",
       "<style scoped>\n",
       "    .dataframe tbody tr th:only-of-type {\n",
       "        vertical-align: middle;\n",
       "    }\n",
       "\n",
       "    .dataframe tbody tr th {\n",
       "        vertical-align: top;\n",
       "    }\n",
       "\n",
       "    .dataframe thead th {\n",
       "        text-align: right;\n",
       "    }\n",
       "</style>\n",
       "<table border=\"1\" class=\"dataframe\">\n",
       "  <thead>\n",
       "    <tr style=\"text-align: right;\">\n",
       "      <th></th>\n",
       "      <th>ObservationDate</th>\n",
       "      <th>State</th>\n",
       "      <th>Country</th>\n",
       "      <th>Last Update</th>\n",
       "      <th>Confirmed</th>\n",
       "      <th>Deaths</th>\n",
       "      <th>Recovered</th>\n",
       "    </tr>\n",
       "    <tr>\n",
       "      <th>SNo</th>\n",
       "      <th></th>\n",
       "      <th></th>\n",
       "      <th></th>\n",
       "      <th></th>\n",
       "      <th></th>\n",
       "      <th></th>\n",
       "      <th></th>\n",
       "    </tr>\n",
       "  </thead>\n",
       "  <tbody>\n",
       "    <tr>\n",
       "      <th>306128</th>\n",
       "      <td>2021-05-29</td>\n",
       "      <td>Maharashtra</td>\n",
       "      <td>India</td>\n",
       "      <td>30-05-2021 04:20</td>\n",
       "      <td>5713215</td>\n",
       "      <td>94030</td>\n",
       "      <td>5339838</td>\n",
       "    </tr>\n",
       "    <tr>\n",
       "      <th>305363</th>\n",
       "      <td>2021-05-28</td>\n",
       "      <td>Maharashtra</td>\n",
       "      <td>India</td>\n",
       "      <td>29-05-2021 04:20</td>\n",
       "      <td>5692920</td>\n",
       "      <td>93198</td>\n",
       "      <td>5307874</td>\n",
       "    </tr>\n",
       "    <tr>\n",
       "      <th>304598</th>\n",
       "      <td>2021-05-27</td>\n",
       "      <td>Maharashtra</td>\n",
       "      <td>India</td>\n",
       "      <td>28-05-2021 04:20</td>\n",
       "      <td>5672180</td>\n",
       "      <td>92225</td>\n",
       "      <td>5276203</td>\n",
       "    </tr>\n",
       "    <tr>\n",
       "      <th>303833</th>\n",
       "      <td>2021-05-26</td>\n",
       "      <td>Maharashtra</td>\n",
       "      <td>India</td>\n",
       "      <td>27-05-2021 04:20</td>\n",
       "      <td>5650907</td>\n",
       "      <td>91341</td>\n",
       "      <td>5241833</td>\n",
       "    </tr>\n",
       "    <tr>\n",
       "      <th>303068</th>\n",
       "      <td>2021-05-25</td>\n",
       "      <td>Maharashtra</td>\n",
       "      <td>India</td>\n",
       "      <td>26-05-2021 04:20</td>\n",
       "      <td>5626155</td>\n",
       "      <td>90349</td>\n",
       "      <td>5218768</td>\n",
       "    </tr>\n",
       "  </tbody>\n",
       "</table>\n",
       "</div>"
      ],
      "text/plain": [
       "       ObservationDate        State Country       Last Update  Confirmed  \\\n",
       "SNo                                                                        \n",
       "306128      2021-05-29  Maharashtra   India  30-05-2021 04:20    5713215   \n",
       "305363      2021-05-28  Maharashtra   India  29-05-2021 04:20    5692920   \n",
       "304598      2021-05-27  Maharashtra   India  28-05-2021 04:20    5672180   \n",
       "303833      2021-05-26  Maharashtra   India  27-05-2021 04:20    5650907   \n",
       "303068      2021-05-25  Maharashtra   India  26-05-2021 04:20    5626155   \n",
       "\n",
       "        Deaths  Recovered  \n",
       "SNo                        \n",
       "306128   94030    5339838  \n",
       "305363   93198    5307874  \n",
       "304598   92225    5276203  \n",
       "303833   91341    5241833  \n",
       "303068   90349    5218768  "
      ]
     },
     "execution_count": 58,
     "metadata": {},
     "output_type": "execute_result"
    }
   ],
   "source": [
    "c_India=India.sort_values('Confirmed',ascending=False).head(5)\n",
    "c_India"
   ]
  },
  {
   "cell_type": "markdown",
   "id": "b4a51014",
   "metadata": {},
   "source": [
    "### Most number of rcovered cases in india"
   ]
  },
  {
   "cell_type": "code",
   "execution_count": 60,
   "id": "99a5bc67",
   "metadata": {},
   "outputs": [
    {
     "data": {
      "text/html": [
       "<div>\n",
       "<style scoped>\n",
       "    .dataframe tbody tr th:only-of-type {\n",
       "        vertical-align: middle;\n",
       "    }\n",
       "\n",
       "    .dataframe tbody tr th {\n",
       "        vertical-align: top;\n",
       "    }\n",
       "\n",
       "    .dataframe thead th {\n",
       "        text-align: right;\n",
       "    }\n",
       "</style>\n",
       "<table border=\"1\" class=\"dataframe\">\n",
       "  <thead>\n",
       "    <tr style=\"text-align: right;\">\n",
       "      <th></th>\n",
       "      <th>ObservationDate</th>\n",
       "      <th>State</th>\n",
       "      <th>Country</th>\n",
       "      <th>Last Update</th>\n",
       "      <th>Confirmed</th>\n",
       "      <th>Deaths</th>\n",
       "      <th>Recovered</th>\n",
       "    </tr>\n",
       "    <tr>\n",
       "      <th>SNo</th>\n",
       "      <th></th>\n",
       "      <th></th>\n",
       "      <th></th>\n",
       "      <th></th>\n",
       "      <th></th>\n",
       "      <th></th>\n",
       "      <th></th>\n",
       "    </tr>\n",
       "  </thead>\n",
       "  <tbody>\n",
       "    <tr>\n",
       "      <th>306128</th>\n",
       "      <td>2021-05-29</td>\n",
       "      <td>Maharashtra</td>\n",
       "      <td>India</td>\n",
       "      <td>30-05-2021 04:20</td>\n",
       "      <td>5713215</td>\n",
       "      <td>94030</td>\n",
       "      <td>5339838</td>\n",
       "    </tr>\n",
       "    <tr>\n",
       "      <th>305363</th>\n",
       "      <td>2021-05-28</td>\n",
       "      <td>Maharashtra</td>\n",
       "      <td>India</td>\n",
       "      <td>29-05-2021 04:20</td>\n",
       "      <td>5692920</td>\n",
       "      <td>93198</td>\n",
       "      <td>5307874</td>\n",
       "    </tr>\n",
       "    <tr>\n",
       "      <th>304598</th>\n",
       "      <td>2021-05-27</td>\n",
       "      <td>Maharashtra</td>\n",
       "      <td>India</td>\n",
       "      <td>28-05-2021 04:20</td>\n",
       "      <td>5672180</td>\n",
       "      <td>92225</td>\n",
       "      <td>5276203</td>\n",
       "    </tr>\n",
       "    <tr>\n",
       "      <th>303833</th>\n",
       "      <td>2021-05-26</td>\n",
       "      <td>Maharashtra</td>\n",
       "      <td>India</td>\n",
       "      <td>27-05-2021 04:20</td>\n",
       "      <td>5650907</td>\n",
       "      <td>91341</td>\n",
       "      <td>5241833</td>\n",
       "    </tr>\n",
       "    <tr>\n",
       "      <th>303068</th>\n",
       "      <td>2021-05-25</td>\n",
       "      <td>Maharashtra</td>\n",
       "      <td>India</td>\n",
       "      <td>26-05-2021 04:20</td>\n",
       "      <td>5626155</td>\n",
       "      <td>90349</td>\n",
       "      <td>5218768</td>\n",
       "    </tr>\n",
       "  </tbody>\n",
       "</table>\n",
       "</div>"
      ],
      "text/plain": [
       "       ObservationDate        State Country       Last Update  Confirmed  \\\n",
       "SNo                                                                        \n",
       "306128      2021-05-29  Maharashtra   India  30-05-2021 04:20    5713215   \n",
       "305363      2021-05-28  Maharashtra   India  29-05-2021 04:20    5692920   \n",
       "304598      2021-05-27  Maharashtra   India  28-05-2021 04:20    5672180   \n",
       "303833      2021-05-26  Maharashtra   India  27-05-2021 04:20    5650907   \n",
       "303068      2021-05-25  Maharashtra   India  26-05-2021 04:20    5626155   \n",
       "\n",
       "        Deaths  Recovered  \n",
       "SNo                        \n",
       "306128   94030    5339838  \n",
       "305363   93198    5307874  \n",
       "304598   92225    5276203  \n",
       "303833   91341    5241833  \n",
       "303068   90349    5218768  "
      ]
     },
     "execution_count": 60,
     "metadata": {},
     "output_type": "execute_result"
    }
   ],
   "source": [
    "r_India=India.sort_values('Recovered',ascending=False).head(5)\n",
    "r_India"
   ]
  },
  {
   "cell_type": "markdown",
   "id": "91d7e065",
   "metadata": {},
   "source": [
    "### Most number of confirmed cases in india"
   ]
  },
  {
   "cell_type": "code",
   "execution_count": 62,
   "id": "50cc5c54",
   "metadata": {},
   "outputs": [
    {
     "data": {
      "text/html": [
       "<div>\n",
       "<style scoped>\n",
       "    .dataframe tbody tr th:only-of-type {\n",
       "        vertical-align: middle;\n",
       "    }\n",
       "\n",
       "    .dataframe tbody tr th {\n",
       "        vertical-align: top;\n",
       "    }\n",
       "\n",
       "    .dataframe thead th {\n",
       "        text-align: right;\n",
       "    }\n",
       "</style>\n",
       "<table border=\"1\" class=\"dataframe\">\n",
       "  <thead>\n",
       "    <tr style=\"text-align: right;\">\n",
       "      <th></th>\n",
       "      <th>ObservationDate</th>\n",
       "      <th>State</th>\n",
       "      <th>Country</th>\n",
       "      <th>Last Update</th>\n",
       "      <th>Confirmed</th>\n",
       "      <th>Deaths</th>\n",
       "      <th>Recovered</th>\n",
       "    </tr>\n",
       "    <tr>\n",
       "      <th>SNo</th>\n",
       "      <th></th>\n",
       "      <th></th>\n",
       "      <th></th>\n",
       "      <th></th>\n",
       "      <th></th>\n",
       "      <th></th>\n",
       "      <th></th>\n",
       "    </tr>\n",
       "  </thead>\n",
       "  <tbody>\n",
       "    <tr>\n",
       "      <th>306128</th>\n",
       "      <td>2021-05-29</td>\n",
       "      <td>Maharashtra</td>\n",
       "      <td>India</td>\n",
       "      <td>30-05-2021 04:20</td>\n",
       "      <td>5713215</td>\n",
       "      <td>94030</td>\n",
       "      <td>5339838</td>\n",
       "    </tr>\n",
       "    <tr>\n",
       "      <th>305363</th>\n",
       "      <td>2021-05-28</td>\n",
       "      <td>Maharashtra</td>\n",
       "      <td>India</td>\n",
       "      <td>29-05-2021 04:20</td>\n",
       "      <td>5692920</td>\n",
       "      <td>93198</td>\n",
       "      <td>5307874</td>\n",
       "    </tr>\n",
       "    <tr>\n",
       "      <th>304598</th>\n",
       "      <td>2021-05-27</td>\n",
       "      <td>Maharashtra</td>\n",
       "      <td>India</td>\n",
       "      <td>28-05-2021 04:20</td>\n",
       "      <td>5672180</td>\n",
       "      <td>92225</td>\n",
       "      <td>5276203</td>\n",
       "    </tr>\n",
       "    <tr>\n",
       "      <th>303833</th>\n",
       "      <td>2021-05-26</td>\n",
       "      <td>Maharashtra</td>\n",
       "      <td>India</td>\n",
       "      <td>27-05-2021 04:20</td>\n",
       "      <td>5650907</td>\n",
       "      <td>91341</td>\n",
       "      <td>5241833</td>\n",
       "    </tr>\n",
       "    <tr>\n",
       "      <th>303068</th>\n",
       "      <td>2021-05-25</td>\n",
       "      <td>Maharashtra</td>\n",
       "      <td>India</td>\n",
       "      <td>26-05-2021 04:20</td>\n",
       "      <td>5626155</td>\n",
       "      <td>90349</td>\n",
       "      <td>5218768</td>\n",
       "    </tr>\n",
       "  </tbody>\n",
       "</table>\n",
       "</div>"
      ],
      "text/plain": [
       "       ObservationDate        State Country       Last Update  Confirmed  \\\n",
       "SNo                                                                        \n",
       "306128      2021-05-29  Maharashtra   India  30-05-2021 04:20    5713215   \n",
       "305363      2021-05-28  Maharashtra   India  29-05-2021 04:20    5692920   \n",
       "304598      2021-05-27  Maharashtra   India  28-05-2021 04:20    5672180   \n",
       "303833      2021-05-26  Maharashtra   India  27-05-2021 04:20    5650907   \n",
       "303068      2021-05-25  Maharashtra   India  26-05-2021 04:20    5626155   \n",
       "\n",
       "        Deaths  Recovered  \n",
       "SNo                        \n",
       "306128   94030    5339838  \n",
       "305363   93198    5307874  \n",
       "304598   92225    5276203  \n",
       "303833   91341    5241833  \n",
       "303068   90349    5218768  "
      ]
     },
     "execution_count": 62,
     "metadata": {},
     "output_type": "execute_result"
    }
   ],
   "source": [
    "dead_India=India.sort_values('Deaths',ascending=False).head(5)\n",
    "dead_India"
   ]
  },
  {
   "cell_type": "markdown",
   "id": "980ba397",
   "metadata": {},
   "source": [
    "### Grouping different types of cases as per the data"
   ]
  },
  {
   "cell_type": "code",
   "execution_count": 36,
   "id": "1eca7aa3",
   "metadata": {},
   "outputs": [
    {
     "data": {
      "text/html": [
       "<div>\n",
       "<style scoped>\n",
       "    .dataframe tbody tr th:only-of-type {\n",
       "        vertical-align: middle;\n",
       "    }\n",
       "\n",
       "    .dataframe tbody tr th {\n",
       "        vertical-align: top;\n",
       "    }\n",
       "\n",
       "    .dataframe thead th {\n",
       "        text-align: right;\n",
       "    }\n",
       "</style>\n",
       "<table border=\"1\" class=\"dataframe\">\n",
       "  <thead>\n",
       "    <tr style=\"text-align: right;\">\n",
       "      <th></th>\n",
       "      <th>Confirmed</th>\n",
       "      <th>Recovered</th>\n",
       "      <th>Deaths</th>\n",
       "    </tr>\n",
       "    <tr>\n",
       "      <th>ObservationDate</th>\n",
       "      <th></th>\n",
       "      <th></th>\n",
       "      <th></th>\n",
       "    </tr>\n",
       "  </thead>\n",
       "  <tbody>\n",
       "    <tr>\n",
       "      <th>01-01-2021</th>\n",
       "      <td>84092619</td>\n",
       "      <td>47313005</td>\n",
       "      <td>1834675</td>\n",
       "    </tr>\n",
       "    <tr>\n",
       "      <th>01-02-2021</th>\n",
       "      <td>84718978</td>\n",
       "      <td>47614297</td>\n",
       "      <td>1843108</td>\n",
       "    </tr>\n",
       "    <tr>\n",
       "      <th>01-03-2021</th>\n",
       "      <td>85251774</td>\n",
       "      <td>47882779</td>\n",
       "      <td>1850449</td>\n",
       "    </tr>\n",
       "    <tr>\n",
       "      <th>01-04-2021</th>\n",
       "      <td>85805892</td>\n",
       "      <td>48173187</td>\n",
       "      <td>1860598</td>\n",
       "    </tr>\n",
       "    <tr>\n",
       "      <th>01-05-2021</th>\n",
       "      <td>86546014</td>\n",
       "      <td>48488548</td>\n",
       "      <td>1875953</td>\n",
       "    </tr>\n",
       "    <tr>\n",
       "      <th>...</th>\n",
       "      <td>...</td>\n",
       "      <td>...</td>\n",
       "      <td>...</td>\n",
       "    </tr>\n",
       "    <tr>\n",
       "      <th>12/27/2020</th>\n",
       "      <td>80912611</td>\n",
       "      <td>45717710</td>\n",
       "      <td>1771659</td>\n",
       "    </tr>\n",
       "    <tr>\n",
       "      <th>12/28/2020</th>\n",
       "      <td>81408934</td>\n",
       "      <td>46016136</td>\n",
       "      <td>1781415</td>\n",
       "    </tr>\n",
       "    <tr>\n",
       "      <th>12/29/2020</th>\n",
       "      <td>82073362</td>\n",
       "      <td>46369231</td>\n",
       "      <td>1796786</td>\n",
       "    </tr>\n",
       "    <tr>\n",
       "      <th>12/30/2020</th>\n",
       "      <td>82834592</td>\n",
       "      <td>46757476</td>\n",
       "      <td>1811843</td>\n",
       "    </tr>\n",
       "    <tr>\n",
       "      <th>12/31/2020</th>\n",
       "      <td>83559601</td>\n",
       "      <td>47032627</td>\n",
       "      <td>1825012</td>\n",
       "    </tr>\n",
       "  </tbody>\n",
       "</table>\n",
       "<p>494 rows × 3 columns</p>\n",
       "</div>"
      ],
      "text/plain": [
       "                 Confirmed  Recovered   Deaths\n",
       "ObservationDate                               \n",
       "01-01-2021        84092619   47313005  1834675\n",
       "01-02-2021        84718978   47614297  1843108\n",
       "01-03-2021        85251774   47882779  1850449\n",
       "01-04-2021        85805892   48173187  1860598\n",
       "01-05-2021        86546014   48488548  1875953\n",
       "...                    ...        ...      ...\n",
       "12/27/2020        80912611   45717710  1771659\n",
       "12/28/2020        81408934   46016136  1781415\n",
       "12/29/2020        82073362   46369231  1796786\n",
       "12/30/2020        82834592   46757476  1811843\n",
       "12/31/2020        83559601   47032627  1825012\n",
       "\n",
       "[494 rows x 3 columns]"
      ]
     },
     "execution_count": 36,
     "metadata": {},
     "output_type": "execute_result"
    }
   ],
   "source": [
    "datewise=d.groupby([\"ObservationDate\"]).agg({\"Confirmed\":\"sum\",\"Recovered\":\"sum\",\"Deaths\":\"sum\"})\n",
    "datewise"
   ]
  },
  {
   "cell_type": "markdown",
   "id": "00f1f564",
   "metadata": {},
   "source": [
    "### Total number of confirmed cases around the world"
   ]
  },
  {
   "cell_type": "code",
   "execution_count": 66,
   "id": "b55cd33e",
   "metadata": {},
   "outputs": [
    {
     "data": {
      "text/plain": [
       "169951560"
      ]
     },
     "execution_count": 66,
     "metadata": {},
     "output_type": "execute_result"
    }
   ],
   "source": [
    "datewise[\"Confirmed\"].iloc[-1]"
   ]
  },
  {
   "cell_type": "markdown",
   "id": "7ab0ca07",
   "metadata": {},
   "source": [
    "### Total number of recovered cases around the world"
   ]
  },
  {
   "cell_type": "code",
   "execution_count": 68,
   "id": "445b7315",
   "metadata": {},
   "outputs": [
    {
     "data": {
      "text/plain": [
       "107140669"
      ]
     },
     "execution_count": 68,
     "metadata": {},
     "output_type": "execute_result"
    }
   ],
   "source": [
    "datewise[\"Recovered\"].iloc[-1]"
   ]
  },
  {
   "cell_type": "markdown",
   "id": "51c387bf",
   "metadata": {},
   "source": [
    "### Total number of Deaths around the world"
   ]
  },
  {
   "cell_type": "code",
   "execution_count": 70,
   "id": "ae81de1a",
   "metadata": {},
   "outputs": [
    {
     "data": {
      "text/plain": [
       "3533619"
      ]
     },
     "execution_count": 70,
     "metadata": {},
     "output_type": "execute_result"
    }
   ],
   "source": [
    "datewise[\"Deaths\"].iloc[-1]"
   ]
  },
  {
   "cell_type": "markdown",
   "id": "c41e2ee0",
   "metadata": {},
   "source": [
    "### Total number of Active cases around the world"
   ]
  },
  {
   "cell_type": "code",
   "execution_count": 72,
   "id": "54774308",
   "metadata": {},
   "outputs": [
    {
     "data": {
      "text/plain": [
       "59277272"
      ]
     },
     "execution_count": 72,
     "metadata": {},
     "output_type": "execute_result"
    }
   ],
   "source": [
    "datewise[\"Confirmed\"].iloc[-1]-datewise[\"Recovered\"].iloc[-1]-datewise[\"Deaths\"].iloc[-1]"
   ]
  },
  {
   "cell_type": "markdown",
   "id": "9c1c9196",
   "metadata": {},
   "source": [
    "### Total number of closed cases around the world"
   ]
  },
  {
   "cell_type": "code",
   "execution_count": 74,
   "id": "773be8b2",
   "metadata": {},
   "outputs": [
    {
     "data": {
      "text/plain": [
       "103607050"
      ]
     },
     "execution_count": 74,
     "metadata": {},
     "output_type": "execute_result"
    }
   ],
   "source": [
    "datewise[\"Recovered\"].iloc[-1]-datewise[\"Deaths\"].iloc[-1]"
   ]
  },
  {
   "cell_type": "markdown",
   "id": "54174f95",
   "metadata": {},
   "source": [
    "### Print the record on which equal number of confirmed and recovered cases"
   ]
  },
  {
   "cell_type": "code",
   "execution_count": 76,
   "id": "3c2918a5",
   "metadata": {},
   "outputs": [
    {
     "data": {
      "text/html": [
       "<div>\n",
       "<style scoped>\n",
       "    .dataframe tbody tr th:only-of-type {\n",
       "        vertical-align: middle;\n",
       "    }\n",
       "\n",
       "    .dataframe tbody tr th {\n",
       "        vertical-align: top;\n",
       "    }\n",
       "\n",
       "    .dataframe thead th {\n",
       "        text-align: right;\n",
       "    }\n",
       "</style>\n",
       "<table border=\"1\" class=\"dataframe\">\n",
       "  <thead>\n",
       "    <tr style=\"text-align: right;\">\n",
       "      <th></th>\n",
       "      <th>ObservationDate</th>\n",
       "      <th>State</th>\n",
       "      <th>Country</th>\n",
       "      <th>Last Update</th>\n",
       "      <th>Confirmed</th>\n",
       "      <th>Deaths</th>\n",
       "      <th>Recovered</th>\n",
       "    </tr>\n",
       "    <tr>\n",
       "      <th>SNo</th>\n",
       "      <th></th>\n",
       "      <th></th>\n",
       "      <th></th>\n",
       "      <th></th>\n",
       "      <th></th>\n",
       "      <th></th>\n",
       "      <th></th>\n",
       "    </tr>\n",
       "  </thead>\n",
       "  <tbody>\n",
       "    <tr>\n",
       "      <th>5</th>\n",
       "      <td>2020-01-22</td>\n",
       "      <td>Gansu</td>\n",
       "      <td>Mainland China</td>\n",
       "      <td>1/22/2020 17:00</td>\n",
       "      <td>0</td>\n",
       "      <td>0</td>\n",
       "      <td>0</td>\n",
       "    </tr>\n",
       "    <tr>\n",
       "      <th>11</th>\n",
       "      <td>2020-01-22</td>\n",
       "      <td>Heilongjiang</td>\n",
       "      <td>Mainland China</td>\n",
       "      <td>1/22/2020 17:00</td>\n",
       "      <td>0</td>\n",
       "      <td>0</td>\n",
       "      <td>0</td>\n",
       "    </tr>\n",
       "    <tr>\n",
       "      <th>13</th>\n",
       "      <td>2020-01-22</td>\n",
       "      <td>Hong Kong</td>\n",
       "      <td>Hong Kong</td>\n",
       "      <td>1/22/2020 17:00</td>\n",
       "      <td>0</td>\n",
       "      <td>0</td>\n",
       "      <td>0</td>\n",
       "    </tr>\n",
       "    <tr>\n",
       "      <th>16</th>\n",
       "      <td>2020-01-22</td>\n",
       "      <td>Inner Mongolia</td>\n",
       "      <td>Mainland China</td>\n",
       "      <td>1/22/2020 17:00</td>\n",
       "      <td>0</td>\n",
       "      <td>0</td>\n",
       "      <td>0</td>\n",
       "    </tr>\n",
       "    <tr>\n",
       "      <th>19</th>\n",
       "      <td>2020-01-22</td>\n",
       "      <td>Jilin</td>\n",
       "      <td>Mainland China</td>\n",
       "      <td>1/22/2020 17:00</td>\n",
       "      <td>0</td>\n",
       "      <td>0</td>\n",
       "      <td>0</td>\n",
       "    </tr>\n",
       "    <tr>\n",
       "      <th>...</th>\n",
       "      <td>...</td>\n",
       "      <td>...</td>\n",
       "      <td>...</td>\n",
       "      <td>...</td>\n",
       "      <td>...</td>\n",
       "      <td>...</td>\n",
       "      <td>...</td>\n",
       "    </tr>\n",
       "    <tr>\n",
       "      <th>306365</th>\n",
       "      <td>2021-05-29</td>\n",
       "      <td>Unknown</td>\n",
       "      <td>Colombia</td>\n",
       "      <td>30-05-2021 04:20</td>\n",
       "      <td>0</td>\n",
       "      <td>0</td>\n",
       "      <td>0</td>\n",
       "    </tr>\n",
       "    <tr>\n",
       "      <th>306367</th>\n",
       "      <td>2021-05-29</td>\n",
       "      <td>Unknown</td>\n",
       "      <td>India</td>\n",
       "      <td>30-05-2021 04:20</td>\n",
       "      <td>0</td>\n",
       "      <td>0</td>\n",
       "      <td>0</td>\n",
       "    </tr>\n",
       "    <tr>\n",
       "      <th>306368</th>\n",
       "      <td>2021-05-29</td>\n",
       "      <td>Unknown</td>\n",
       "      <td>Japan</td>\n",
       "      <td>30-05-2021 04:20</td>\n",
       "      <td>8</td>\n",
       "      <td>0</td>\n",
       "      <td>8</td>\n",
       "    </tr>\n",
       "    <tr>\n",
       "      <th>306373</th>\n",
       "      <td>2021-05-29</td>\n",
       "      <td>Unknown</td>\n",
       "      <td>Spain</td>\n",
       "      <td>30-05-2021 04:20</td>\n",
       "      <td>0</td>\n",
       "      <td>0</td>\n",
       "      <td>0</td>\n",
       "    </tr>\n",
       "    <tr>\n",
       "      <th>306374</th>\n",
       "      <td>2021-05-29</td>\n",
       "      <td>Unknown</td>\n",
       "      <td>UK</td>\n",
       "      <td>30-05-2021 04:20</td>\n",
       "      <td>0</td>\n",
       "      <td>0</td>\n",
       "      <td>0</td>\n",
       "    </tr>\n",
       "  </tbody>\n",
       "</table>\n",
       "<p>11205 rows × 7 columns</p>\n",
       "</div>"
      ],
      "text/plain": [
       "       ObservationDate           State         Country       Last Update  \\\n",
       "SNo                                                                        \n",
       "5           2020-01-22           Gansu  Mainland China   1/22/2020 17:00   \n",
       "11          2020-01-22    Heilongjiang  Mainland China   1/22/2020 17:00   \n",
       "13          2020-01-22       Hong Kong       Hong Kong   1/22/2020 17:00   \n",
       "16          2020-01-22  Inner Mongolia  Mainland China   1/22/2020 17:00   \n",
       "19          2020-01-22           Jilin  Mainland China   1/22/2020 17:00   \n",
       "...                ...             ...             ...               ...   \n",
       "306365      2021-05-29         Unknown        Colombia  30-05-2021 04:20   \n",
       "306367      2021-05-29         Unknown           India  30-05-2021 04:20   \n",
       "306368      2021-05-29         Unknown           Japan  30-05-2021 04:20   \n",
       "306373      2021-05-29         Unknown           Spain  30-05-2021 04:20   \n",
       "306374      2021-05-29         Unknown              UK  30-05-2021 04:20   \n",
       "\n",
       "        Confirmed  Deaths  Recovered  \n",
       "SNo                                   \n",
       "5               0       0          0  \n",
       "11              0       0          0  \n",
       "13              0       0          0  \n",
       "16              0       0          0  \n",
       "19              0       0          0  \n",
       "...           ...     ...        ...  \n",
       "306365          0       0          0  \n",
       "306367          0       0          0  \n",
       "306368          8       0          8  \n",
       "306373          0       0          0  \n",
       "306374          0       0          0  \n",
       "\n",
       "[11205 rows x 7 columns]"
      ]
     },
     "execution_count": 76,
     "metadata": {},
     "output_type": "execute_result"
    }
   ],
   "source": [
    "d[d.Confirmed==d.Recovered]"
   ]
  },
  {
   "cell_type": "markdown",
   "id": "06b95fc2",
   "metadata": {},
   "source": [
    "### Bottom 5 records of france"
   ]
  },
  {
   "cell_type": "code",
   "execution_count": 37,
   "id": "605cc62c",
   "metadata": {},
   "outputs": [
    {
     "data": {
      "text/html": [
       "<div>\n",
       "<style scoped>\n",
       "    .dataframe tbody tr th:only-of-type {\n",
       "        vertical-align: middle;\n",
       "    }\n",
       "\n",
       "    .dataframe tbody tr th {\n",
       "        vertical-align: top;\n",
       "    }\n",
       "\n",
       "    .dataframe thead th {\n",
       "        text-align: right;\n",
       "    }\n",
       "</style>\n",
       "<table border=\"1\" class=\"dataframe\">\n",
       "  <thead>\n",
       "    <tr style=\"text-align: right;\">\n",
       "      <th></th>\n",
       "      <th>ObservationDate</th>\n",
       "      <th>State</th>\n",
       "      <th>Country</th>\n",
       "      <th>Last Update</th>\n",
       "      <th>Confirmed</th>\n",
       "      <th>Deaths</th>\n",
       "      <th>Recovered</th>\n",
       "    </tr>\n",
       "    <tr>\n",
       "      <th>SNo</th>\n",
       "      <th></th>\n",
       "      <th></th>\n",
       "      <th></th>\n",
       "      <th></th>\n",
       "      <th></th>\n",
       "      <th></th>\n",
       "      <th></th>\n",
       "    </tr>\n",
       "  </thead>\n",
       "  <tbody>\n",
       "    <tr>\n",
       "      <th>306264</th>\n",
       "      <td>05/29/2021</td>\n",
       "      <td>Reunion</td>\n",
       "      <td>France</td>\n",
       "      <td>30-05-2021 04:20</td>\n",
       "      <td>24901</td>\n",
       "      <td>189</td>\n",
       "      <td>22796</td>\n",
       "    </tr>\n",
       "    <tr>\n",
       "      <th>306280</th>\n",
       "      <td>05/29/2021</td>\n",
       "      <td>Saint Barthelemy</td>\n",
       "      <td>France</td>\n",
       "      <td>30-05-2021 04:20</td>\n",
       "      <td>1005</td>\n",
       "      <td>1</td>\n",
       "      <td>462</td>\n",
       "    </tr>\n",
       "    <tr>\n",
       "      <th>306283</th>\n",
       "      <td>05/29/2021</td>\n",
       "      <td>Saint Pierre and Miquelon</td>\n",
       "      <td>France</td>\n",
       "      <td>30-05-2021 04:20</td>\n",
       "      <td>25</td>\n",
       "      <td>0</td>\n",
       "      <td>25</td>\n",
       "    </tr>\n",
       "    <tr>\n",
       "      <th>306321</th>\n",
       "      <td>05/29/2021</td>\n",
       "      <td>St Martin</td>\n",
       "      <td>France</td>\n",
       "      <td>30-05-2021 04:20</td>\n",
       "      <td>1915</td>\n",
       "      <td>12</td>\n",
       "      <td>1399</td>\n",
       "    </tr>\n",
       "    <tr>\n",
       "      <th>306404</th>\n",
       "      <td>05/29/2021</td>\n",
       "      <td>Wallis and Futuna</td>\n",
       "      <td>France</td>\n",
       "      <td>30-05-2021 04:20</td>\n",
       "      <td>445</td>\n",
       "      <td>7</td>\n",
       "      <td>438</td>\n",
       "    </tr>\n",
       "  </tbody>\n",
       "</table>\n",
       "</div>"
      ],
      "text/plain": [
       "       ObservationDate                      State Country       Last Update  \\\n",
       "SNo                                                                           \n",
       "306264      05/29/2021                    Reunion  France  30-05-2021 04:20   \n",
       "306280      05/29/2021           Saint Barthelemy  France  30-05-2021 04:20   \n",
       "306283      05/29/2021  Saint Pierre and Miquelon  France  30-05-2021 04:20   \n",
       "306321      05/29/2021                  St Martin  France  30-05-2021 04:20   \n",
       "306404      05/29/2021          Wallis and Futuna  France  30-05-2021 04:20   \n",
       "\n",
       "        Confirmed  Deaths  Recovered  \n",
       "SNo                                   \n",
       "306264      24901     189      22796  \n",
       "306280       1005       1        462  \n",
       "306283         25       0         25  \n",
       "306321       1915      12       1399  \n",
       "306404        445       7        438  "
      ]
     },
     "execution_count": 37,
     "metadata": {},
     "output_type": "execute_result"
    }
   ],
   "source": [
    "France=d[d['Country']=='France']\n",
    "top_f=France.tail(5)\n",
    "top_f"
   ]
  },
  {
   "cell_type": "markdown",
   "id": "2920c3e3",
   "metadata": {},
   "source": [
    "### Extract records of India"
   ]
  },
  {
   "cell_type": "code",
   "execution_count": 53,
   "id": "d7903908",
   "metadata": {},
   "outputs": [
    {
     "data": {
      "text/html": [
       "<div>\n",
       "<style scoped>\n",
       "    .dataframe tbody tr th:only-of-type {\n",
       "        vertical-align: middle;\n",
       "    }\n",
       "\n",
       "    .dataframe tbody tr th {\n",
       "        vertical-align: top;\n",
       "    }\n",
       "\n",
       "    .dataframe thead th {\n",
       "        text-align: right;\n",
       "    }\n",
       "</style>\n",
       "<table border=\"1\" class=\"dataframe\">\n",
       "  <thead>\n",
       "    <tr style=\"text-align: right;\">\n",
       "      <th></th>\n",
       "      <th>ObservationDate</th>\n",
       "      <th>State</th>\n",
       "      <th>Country</th>\n",
       "      <th>Last Update</th>\n",
       "      <th>Confirmed</th>\n",
       "      <th>Deaths</th>\n",
       "      <th>Recovered</th>\n",
       "    </tr>\n",
       "    <tr>\n",
       "      <th>SNo</th>\n",
       "      <th></th>\n",
       "      <th></th>\n",
       "      <th></th>\n",
       "      <th></th>\n",
       "      <th></th>\n",
       "      <th></th>\n",
       "      <th></th>\n",
       "    </tr>\n",
       "  </thead>\n",
       "  <tbody>\n",
       "    <tr>\n",
       "      <th>306352</th>\n",
       "      <td>2021-05-29</td>\n",
       "      <td>Tripura</td>\n",
       "      <td>India</td>\n",
       "      <td>30-05-2021 04:20</td>\n",
       "      <td>50739</td>\n",
       "      <td>507</td>\n",
       "      <td>43190</td>\n",
       "    </tr>\n",
       "    <tr>\n",
       "      <th>306367</th>\n",
       "      <td>2021-05-29</td>\n",
       "      <td>Unknown</td>\n",
       "      <td>India</td>\n",
       "      <td>30-05-2021 04:20</td>\n",
       "      <td>0</td>\n",
       "      <td>0</td>\n",
       "      <td>0</td>\n",
       "    </tr>\n",
       "    <tr>\n",
       "      <th>306378</th>\n",
       "      <td>2021-05-29</td>\n",
       "      <td>Uttar Pradesh</td>\n",
       "      <td>India</td>\n",
       "      <td>30-05-2021 04:20</td>\n",
       "      <td>1688152</td>\n",
       "      <td>20208</td>\n",
       "      <td>1621743</td>\n",
       "    </tr>\n",
       "    <tr>\n",
       "      <th>306379</th>\n",
       "      <td>2021-05-29</td>\n",
       "      <td>Uttarakhand</td>\n",
       "      <td>India</td>\n",
       "      <td>30-05-2021 04:20</td>\n",
       "      <td>327112</td>\n",
       "      <td>6360</td>\n",
       "      <td>289642</td>\n",
       "    </tr>\n",
       "    <tr>\n",
       "      <th>306407</th>\n",
       "      <td>2021-05-29</td>\n",
       "      <td>West Bengal</td>\n",
       "      <td>India</td>\n",
       "      <td>30-05-2021 04:20</td>\n",
       "      <td>1354956</td>\n",
       "      <td>15268</td>\n",
       "      <td>1237290</td>\n",
       "    </tr>\n",
       "  </tbody>\n",
       "</table>\n",
       "</div>"
      ],
      "text/plain": [
       "       ObservationDate          State Country       Last Update  Confirmed  \\\n",
       "SNo                                                                          \n",
       "306352      2021-05-29        Tripura   India  30-05-2021 04:20      50739   \n",
       "306367      2021-05-29        Unknown   India  30-05-2021 04:20          0   \n",
       "306378      2021-05-29  Uttar Pradesh   India  30-05-2021 04:20    1688152   \n",
       "306379      2021-05-29    Uttarakhand   India  30-05-2021 04:20     327112   \n",
       "306407      2021-05-29    West Bengal   India  30-05-2021 04:20    1354956   \n",
       "\n",
       "        Deaths  Recovered  \n",
       "SNo                        \n",
       "306352     507      43190  \n",
       "306367       0          0  \n",
       "306378   20208    1621743  \n",
       "306379    6360     289642  \n",
       "306407   15268    1237290  "
      ]
     },
     "execution_count": 53,
     "metadata": {},
     "output_type": "execute_result"
    }
   ],
   "source": [
    "top_i=India.tail(5)\n",
    "top_i"
   ]
  },
  {
   "cell_type": "markdown",
   "id": "68994fe6",
   "metadata": {},
   "source": [
    "### Extract records of Canada"
   ]
  },
  {
   "cell_type": "code",
   "execution_count": 68,
   "id": "e179ca4d",
   "metadata": {},
   "outputs": [
    {
     "data": {
      "text/html": [
       "<div>\n",
       "<style scoped>\n",
       "    .dataframe tbody tr th:only-of-type {\n",
       "        vertical-align: middle;\n",
       "    }\n",
       "\n",
       "    .dataframe tbody tr th {\n",
       "        vertical-align: top;\n",
       "    }\n",
       "\n",
       "    .dataframe thead th {\n",
       "        text-align: right;\n",
       "    }\n",
       "</style>\n",
       "<table border=\"1\" class=\"dataframe\">\n",
       "  <thead>\n",
       "    <tr style=\"text-align: right;\">\n",
       "      <th></th>\n",
       "      <th>ObservationDate</th>\n",
       "      <th>State</th>\n",
       "      <th>Country</th>\n",
       "      <th>Last Update</th>\n",
       "      <th>Confirmed</th>\n",
       "      <th>Deaths</th>\n",
       "      <th>Recovered</th>\n",
       "    </tr>\n",
       "    <tr>\n",
       "      <th>SNo</th>\n",
       "      <th></th>\n",
       "      <th></th>\n",
       "      <th></th>\n",
       "      <th></th>\n",
       "      <th></th>\n",
       "      <th></th>\n",
       "      <th></th>\n",
       "    </tr>\n",
       "  </thead>\n",
       "  <tbody>\n",
       "    <tr>\n",
       "      <th>306245</th>\n",
       "      <td>2021-05-29</td>\n",
       "      <td>Prince Edward Island</td>\n",
       "      <td>Canada</td>\n",
       "      <td>30-05-2021 04:20</td>\n",
       "      <td>200</td>\n",
       "      <td>0</td>\n",
       "      <td>187</td>\n",
       "    </tr>\n",
       "    <tr>\n",
       "      <th>306256</th>\n",
       "      <td>2021-05-29</td>\n",
       "      <td>Quebec</td>\n",
       "      <td>Canada</td>\n",
       "      <td>30-05-2021 04:20</td>\n",
       "      <td>369728</td>\n",
       "      <td>11125</td>\n",
       "      <td>354104</td>\n",
       "    </tr>\n",
       "    <tr>\n",
       "      <th>306263</th>\n",
       "      <td>2021-05-29</td>\n",
       "      <td>Repatriated Travellers</td>\n",
       "      <td>Canada</td>\n",
       "      <td>30-05-2021 04:20</td>\n",
       "      <td>13</td>\n",
       "      <td>0</td>\n",
       "      <td>13</td>\n",
       "    </tr>\n",
       "    <tr>\n",
       "      <th>306296</th>\n",
       "      <td>2021-05-29</td>\n",
       "      <td>Saskatchewan</td>\n",
       "      <td>Canada</td>\n",
       "      <td>30-05-2021 04:20</td>\n",
       "      <td>46464</td>\n",
       "      <td>537</td>\n",
       "      <td>44519</td>\n",
       "    </tr>\n",
       "    <tr>\n",
       "      <th>306420</th>\n",
       "      <td>2021-05-29</td>\n",
       "      <td>Yukon</td>\n",
       "      <td>Canada</td>\n",
       "      <td>30-05-2021 04:20</td>\n",
       "      <td>84</td>\n",
       "      <td>2</td>\n",
       "      <td>82</td>\n",
       "    </tr>\n",
       "  </tbody>\n",
       "</table>\n",
       "</div>"
      ],
      "text/plain": [
       "       ObservationDate                   State Country       Last Update  \\\n",
       "SNo                                                                        \n",
       "306245      2021-05-29    Prince Edward Island  Canada  30-05-2021 04:20   \n",
       "306256      2021-05-29                  Quebec  Canada  30-05-2021 04:20   \n",
       "306263      2021-05-29  Repatriated Travellers  Canada  30-05-2021 04:20   \n",
       "306296      2021-05-29            Saskatchewan  Canada  30-05-2021 04:20   \n",
       "306420      2021-05-29                   Yukon  Canada  30-05-2021 04:20   \n",
       "\n",
       "        Confirmed  Deaths  Recovered  \n",
       "SNo                                   \n",
       "306245        200       0        187  \n",
       "306256     369728   11125     354104  \n",
       "306263         13       0         13  \n",
       "306296      46464     537      44519  \n",
       "306420         84       2         82  "
      ]
     },
     "execution_count": 68,
     "metadata": {},
     "output_type": "execute_result"
    }
   ],
   "source": [
    "Canada=d[d['Country']=='Canada']\n",
    "top_c=Canada.tail(5)\n",
    "top_c"
   ]
  },
  {
   "cell_type": "markdown",
   "id": "6119b532",
   "metadata": {},
   "source": [
    "# Data Visualization"
   ]
  },
  {
   "cell_type": "markdown",
   "id": "05f569f4",
   "metadata": {},
   "source": [
    "### Confirmed cases in India"
   ]
  },
  {
   "cell_type": "code",
   "execution_count": 84,
   "id": "e91ce8ab",
   "metadata": {},
   "outputs": [
    {
     "data": {
      "image/png": "[encoded data removed]",
      "text/plain": [
       "<Figure size 432x288 with 1 Axes>"
      ]
     },
     "metadata": {
      "needs_background": "light"
     },
     "output_type": "display_data"
    }
   ],
   "source": [
    "plt.barh(top_i['State'],top_i['Confirmed'])\n",
    "plt.title('Confirmed cases in India',fontsize=15,color='red')\n",
    "ax=plt.axes()\n",
    "ax.set_facecolor('orange')\n",
    "plt.ylabel('Cases',fontsize=15)\n",
    "plt.xlabel('State',fontsize=15)\n",
    "plt.grid(True)\n",
    "plt.show()"
   ]
  },
  {
   "cell_type": "markdown",
   "id": "cd114e2d",
   "metadata": {},
   "source": [
    "### Recovered cases in India"
   ]
  },
  {
   "cell_type": "code",
   "execution_count": 85,
   "id": "26e05e63",
   "metadata": {},
   "outputs": [
    {
     "data": {
      "image/png": "[encoded data removed]",
      "text/plain": [
       "<Figure size 432x288 with 1 Axes>"
      ]
     },
     "metadata": {
      "needs_background": "light"
     },
     "output_type": "display_data"
    }
   ],
   "source": [
    "plt.barh(top_i['State'],top_i['Recovered'])\n",
    "plt.title('Recovered cases in India',fontsize=15,color='red')\n",
    "ax=plt.axes()\n",
    "ax.set_facecolor('yellow')\n",
    "plt.ylabel('Cases',fontsize=15)\n",
    "plt.xlabel('State',fontsize=15)\n",
    "plt.grid(True)\n",
    "plt.show()"
   ]
  },
  {
   "cell_type": "markdown",
   "id": "39a1a707",
   "metadata": {},
   "source": [
    "### Co relationship between data of India"
   ]
  },
  {
   "cell_type": "code",
   "execution_count": 86,
   "id": "37946cc4",
   "metadata": {},
   "outputs": [
    {
     "data": {
      "image/png": "[encoded data removed]",
      "text/plain": [
       "<Figure size 432x288 with 2 Axes>"
      ]
     },
     "metadata": {
      "needs_background": "light"
     },
     "output_type": "display_data"
    }
   ],
   "source": [
    "sns.heatmap(top_i.corr(),cmap='GnBu',linewidth=1,linecolor='green')\n",
    "plt.show()"
   ]
  },
  {
   "cell_type": "markdown",
   "id": "a41cf578",
   "metadata": {},
   "source": [
    "### Statewise Recovered cases"
   ]
  },
  {
   "cell_type": "code",
   "execution_count": 96,
   "id": "15d297df",
   "metadata": {},
   "outputs": [
    {
     "data": {
      "image/png": "[encoded data removed]",
      "text/plain": [
       "<Figure size 432x288 with 1 Axes>"
      ]
     },
     "metadata": {},
     "output_type": "display_data"
    }
   ],
   "source": [
    "y=top_i.Recovered\n",
    "l=top_i.State\n",
    "c=['r','b','g','k','y']\n",
    "\n",
    "plt.pie(y,labels=l,startangle=180,shadow=True,colors=c,explode=(0,0,0.5,0,0))\n",
    "plt.legend(loc='lower left')\n",
    "plt.title('Recovered cases in India',fontsize=15,color='blue')\n",
    "plt.show()"
   ]
  },
  {
   "cell_type": "markdown",
   "id": "a578839f",
   "metadata": {},
   "source": [
    "### Total Confirmed cases in India"
   ]
  },
  {
   "cell_type": "code",
   "execution_count": 105,
   "id": "a919ac80",
   "metadata": {},
   "outputs": [
    {
     "data": {
      "image/png": "[encoded data removed]",
      "text/plain": [
       "<Figure size 576x360 with 1 Axes>"
      ]
     },
     "metadata": {
      "needs_background": "light"
     },
     "output_type": "display_data"
    }
   ],
   "source": [
    "plt.figure(figsize=(8,5))\n",
    "sns.distplot(India[\"Confirmed\"],\n",
    "             bins=20,\n",
    "             kde_kws={\"lw\":8,'color':'xkcd:bluish green'},\n",
    "             hist_kws={'alpha':0.3,'color':'red'})\n",
    "plt.xlabel('Confirmed Cases',fontsize=16,labelpad=15,color='orange')\n",
    "plt.yticks([])\n",
    "plt.show()"
   ]
  },
  {
   "cell_type": "markdown",
   "id": "0a77e1af",
   "metadata": {},
   "source": [
    "### Death cases "
   ]
  },
  {
   "cell_type": "code",
   "execution_count": 107,
   "id": "c8e3547b",
   "metadata": {},
   "outputs": [
    {
     "data": {
      "image/png": "[encoded data removed]",
      "text/plain": [
       "<Figure size 432x288 with 1 Axes>"
      ]
     },
     "metadata": {
      "needs_background": "light"
     },
     "output_type": "display_data"
    }
   ],
   "source": [
    "sns.boxplot(top_i.Deaths)\n",
    "plt.show()"
   ]
  },
  {
   "cell_type": "markdown",
   "id": "09264245",
   "metadata": {},
   "source": [
    "### Confirmed cases in Canada"
   ]
  },
  {
   "cell_type": "code",
   "execution_count": 79,
   "id": "4c635961",
   "metadata": {},
   "outputs": [
    {
     "data": {
      "image/png": "[encoded data removed]",
      "text/plain": [
       "<Figure size 432x288 with 1 Axes>"
      ]
     },
     "metadata": {
      "needs_background": "light"
     },
     "output_type": "display_data"
    }
   ],
   "source": [
    "plt.barh(top_c['State'],top_c['Confirmed'])\n",
    "plt.title('Confirmed cases in Canada',fontsize=15,color='green')\n",
    "ax=plt.axes()\n",
    "ax.set_facecolor('red')\n",
    "plt.ylabel('Cases',fontsize=15)\n",
    "plt.xlabel('State',fontsize=15)\n",
    "plt.grid(True)\n",
    "plt.show()"
   ]
  },
  {
   "cell_type": "markdown",
   "id": "bd54da56",
   "metadata": {},
   "source": [
    "### Total Recovered cases in Canada"
   ]
  },
  {
   "cell_type": "code",
   "execution_count": 85,
   "id": "bd328f36",
   "metadata": {},
   "outputs": [
    {
     "data": {
      "image/png": "[encoded data removed]",
      "text/plain": [
       "<Figure size 576x360 with 1 Axes>"
      ]
     },
     "metadata": {
      "needs_background": "light"
     },
     "output_type": "display_data"
    }
   ],
   "source": [
    "plt.figure(figsize=(8,5))\n",
    "sns.distplot(Canada[\"Recovered\"],\n",
    "             bins=20,\n",
    "             kde_kws={\"lw\":8,'color':'xkcd:bluish green'},\n",
    "             hist_kws={'alpha':0.3,'color':'orange'})\n",
    "plt.xlabel('Recovered Cases',fontsize=16,labelpad=15,color='blue')\n",
    "plt.yticks([])\n",
    "plt.show()"
   ]
  },
  {
   "cell_type": "markdown",
   "id": "0c929001",
   "metadata": {},
   "source": [
    "### Death cases in Canada"
   ]
  },
  {
   "cell_type": "code",
   "execution_count": 96,
   "id": "18716494",
   "metadata": {},
   "outputs": [
    {
     "data": {
      "image/png": "[encoded data removed]",
      "text/plain": [
       "<Figure size 432x288 with 1 Axes>"
      ]
     },
     "metadata": {
      "needs_background": "light"
     },
     "output_type": "display_data"
    }
   ],
   "source": [
    "sns.violinplot(x=top_c.Deaths)\n",
    "plt.show()"
   ]
  },
  {
   "cell_type": "markdown",
   "id": "c7e3a024",
   "metadata": {},
   "source": [
    "### Relationship between data of Canada"
   ]
  },
  {
   "cell_type": "code",
   "execution_count": 92,
   "id": "24377294",
   "metadata": {},
   "outputs": [
    {
     "data": {
      "image/png": "[encoded data removed]",
      "text/plain": [
       "<Figure size 432x288 with 2 Axes>"
      ]
     },
     "metadata": {
      "needs_background": "light"
     },
     "output_type": "display_data"
    }
   ],
   "source": [
    "sns.heatmap(top_c.corr(),cmap='YlOrRd',linewidth=1,linecolor='green')\n",
    "plt.show()"
   ]
  },
  {
   "cell_type": "markdown",
   "id": "c123c3ff",
   "metadata": {},
   "source": [
    "### Statewise Confirmed cases in France"
   ]
  },
  {
   "cell_type": "code",
   "execution_count": 92,
   "id": "12878622",
   "metadata": {},
   "outputs": [
    {
     "data": {
      "image/png": "[encoded data removed]",
      "text/plain": [
       "<Figure size 720x504 with 1 Axes>"
      ]
     },
     "metadata": {
      "needs_background": "light"
     },
     "output_type": "display_data"
    }
   ],
   "source": [
    "plt.figure(figsize=(10,7))\n",
    "plt.bar(top_f['State'],top_f['Confirmed'],color='g')\n",
    "plt.show()"
   ]
  },
  {
   "cell_type": "markdown",
   "id": "11cb35e8",
   "metadata": {},
   "source": [
    "### Death cases in France"
   ]
  },
  {
   "cell_type": "code",
   "execution_count": 103,
   "id": "65377138",
   "metadata": {},
   "outputs": [
    {
     "data": {
      "image/png": "[encoded data removed]",
      "text/plain": [
       "<Figure size 432x288 with 1 Axes>"
      ]
     },
     "metadata": {
      "needs_background": "light"
     },
     "output_type": "display_data"
    }
   ],
   "source": [
    "sns.kdeplot(top_f['Deaths'],color='purple',shade=True)\n",
    "plt.show()"
   ]
  },
  {
   "cell_type": "markdown",
   "id": "2ec24144",
   "metadata": {},
   "source": [
    "### Statewise total cases in France"
   ]
  },
  {
   "cell_type": "code",
   "execution_count": 104,
   "id": "7a44cfa8",
   "metadata": {},
   "outputs": [
    {
     "data": {
      "image/png": "[encoded data removed]",
      "text/plain": [
       "<Figure size 540x540 with 12 Axes>"
      ]
     },
     "metadata": {
      "needs_background": "light"
     },
     "output_type": "display_data"
    }
   ],
   "source": [
    "sns.pairplot(top_f,diag_kind='hist',kind='reg')\n",
    "plt.show()"
   ]
  },
  {
   "cell_type": "markdown",
   "id": "c0ecc72a",
   "metadata": {},
   "source": [
    "### Relationship between data of France"
   ]
  },
  {
   "cell_type": "code",
   "execution_count": 89,
   "id": "2413d301",
   "metadata": {},
   "outputs": [
    {
     "data": {
      "image/png": "[encoded data removed]",
      "text/plain": [
       "<Figure size 432x288 with 2 Axes>"
      ]
     },
     "metadata": {
      "needs_background": "light"
     },
     "output_type": "display_data"
    }
   ],
   "source": [
    "sns.heatmap(top_f.corr(),cmap='viridis',linewidth=1,linecolor='green')\n",
    "plt.show()"
   ]
  },
  {
   "cell_type": "markdown",
   "id": "7bdc6d0f",
   "metadata": {},
   "source": [
    "## Conclusion"
   ]
  },
  {
   "cell_type": "markdown",
   "id": "5ea8c2a0",
   "metadata": {},
   "source": [
    "#### This analysis enabled to get an insight of data which include:\n",
    "#### >the total number of confirmed,recovered and death cases in the world.\n",
    "#### >the total active cases in the world was less than recovered cases as per the last update.\n",
    "#### >to analyze and understand the cases of various countries such as India,Canada and France seperatley."
   ]
  },
  {
   "cell_type": "code",
   "execution_count": null,
   "id": "eea70be3",
   "metadata": {},
   "outputs": [],
   "source": []
  }
 ],
 "metadata": {
  "kernelspec": {
   "display_name": "Python 3",
   "language": "python",
   "name": "python3"
  },
  "language_info": {
   "codemirror_mode": {
    "name": "ipython",
    "version": 3
   },
   "file_extension": ".py",
   "mimetype": "text/x-python",
   "name": "python",
   "nbconvert_exporter": "python",
   "pygments_lexer": "ipython3",
   "version": "3.8.8"
  }
 },
 "nbformat": 4,
 "nbformat_minor": 5
}
