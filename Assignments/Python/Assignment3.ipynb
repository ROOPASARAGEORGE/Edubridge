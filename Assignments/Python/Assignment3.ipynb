{
 "cells": [
  {
   "cell_type": "markdown",
   "id": "efa2ddf8",
   "metadata": {},
   "source": [
    "#### PRINT  n NUMBERS####"
   ]
  },
  {
   "cell_type": "code",
   "execution_count": 1,
   "id": "8e393ebd",
   "metadata": {},
   "outputs": [
    {
     "name": "stdout",
     "output_type": "stream",
     "text": [
      "enter the value of n:5\n",
      "1\n",
      "2\n",
      "3\n",
      "4\n",
      "5\n"
     ]
    }
   ],
   "source": [
    "n=int(input(\"enter the value of n:\"))\n",
    "i=1\n",
    "while i<=n:\n",
    " print(i)\n",
    " i=i+1"
   ]
  },
  {
   "cell_type": "markdown",
   "id": "4569d615",
   "metadata": {},
   "source": [
    "#### SUM OF n NUMBERS####"
   ]
  },
  {
   "cell_type": "code",
   "execution_count": 2,
   "id": "01c013f8",
   "metadata": {},
   "outputs": [
    {
     "name": "stdout",
     "output_type": "stream",
     "text": [
      "enter the value of n:20\n",
      "210\n"
     ]
    }
   ],
   "source": [
    "n=int(input(\"enter the value of n:\"))\n",
    "i=1\n",
    "sum=0\n",
    "while i<=n:\n",
    "  sum=sum+i\n",
    "  i=i+1\n",
    "print(sum)"
   ]
  },
  {
   "cell_type": "markdown",
   "id": "0eaf5f23",
   "metadata": {},
   "source": [
    "#### TABLE OF A NUMBER####"
   ]
  },
  {
   "cell_type": "code",
   "execution_count": 3,
   "id": "529cfb00",
   "metadata": {},
   "outputs": [
    {
     "name": "stdout",
     "output_type": "stream",
     "text": [
      "enter the value of n:7\n",
      "7\n",
      "14\n",
      "21\n",
      "28\n",
      "35\n",
      "42\n",
      "49\n",
      "56\n",
      "63\n",
      "70\n"
     ]
    }
   ],
   "source": [
    "n=int(input(\"enter the value of n:\"))\n",
    "i=1\n",
    "while i<=10:\n",
    " c=n*i\n",
    " print(c)\n",
    " i=i+1"
   ]
  },
  {
   "cell_type": "markdown",
   "id": "8fe97f17",
   "metadata": {},
   "source": [
    "#### FACTORIAL####"
   ]
  },
  {
   "cell_type": "code",
   "execution_count": 4,
   "id": "850513d3",
   "metadata": {},
   "outputs": [
    {
     "name": "stdout",
     "output_type": "stream",
     "text": [
      "enter a number: 5\n",
      "factorial: 120\n"
     ]
    }
   ],
   "source": [
    "n= int(input(\"enter a number: \"))\n",
    "fac=1\n",
    "i =1\n",
    "while i<=n:\n",
    " fac=fac*i\n",
    " i=i+1\n",
    "print(\"factorial:\",fac)"
   ]
  },
  {
   "cell_type": "markdown",
   "id": "0b3442af",
   "metadata": {},
   "source": [
    "#### PRINT EVEN NUMBERS FROM 1 TO 100####"
   ]
  },
  {
   "cell_type": "code",
   "execution_count": 9,
   "id": "ebfbadd5",
   "metadata": {},
   "outputs": [
    {
     "name": "stdout",
     "output_type": "stream",
     "text": [
      "2\n",
      "4\n",
      "6\n",
      "8\n",
      "10\n",
      "12\n",
      "14\n",
      "16\n",
      "18\n",
      "20\n",
      "22\n",
      "24\n",
      "26\n",
      "28\n",
      "30\n",
      "32\n",
      "34\n",
      "36\n",
      "38\n",
      "40\n",
      "42\n",
      "44\n",
      "46\n",
      "48\n",
      "50\n",
      "52\n",
      "54\n",
      "56\n",
      "58\n",
      "60\n",
      "62\n",
      "64\n",
      "66\n",
      "68\n",
      "70\n",
      "72\n",
      "74\n",
      "76\n",
      "78\n",
      "80\n",
      "82\n",
      "84\n",
      "86\n",
      "88\n",
      "90\n",
      "92\n",
      "94\n",
      "96\n",
      "98\n",
      "100\n"
     ]
    }
   ],
   "source": [
    "n=1\n",
    "while n<=100:\n",
    " if(n%2==0):\n",
    "  print(n)\n",
    " n=n+1"
   ]
  },
  {
   "cell_type": "code",
   "execution_count": null,
   "id": "60fe976e",
   "metadata": {},
   "outputs": [],
   "source": []
  }
 ],
 "metadata": {
  "kernelspec": {
   "display_name": "Python 3",
   "language": "python",
   "name": "python3"
  },
  "language_info": {
   "codemirror_mode": {
    "name": "ipython",
    "version": 3
   },
   "file_extension": ".py",
   "mimetype": "text/x-python",
   "name": "python",
   "nbconvert_exporter": "python",
   "pygments_lexer": "ipython3",
   "version": "3.8.8"
  }
 },
 "nbformat": 4,
 "nbformat_minor": 5
}
