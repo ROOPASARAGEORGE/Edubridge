{
 "cells": [
  {
   "cell_type": "markdown",
   "id": "4fd7f3bb",
   "metadata": {},
   "source": [
    "#### SIMPLE INTEREST ####"
   ]
  },
  {
   "cell_type": "code",
   "execution_count": 1,
   "id": "d42c4e02",
   "metadata": {},
   "outputs": [
    {
     "name": "stdout",
     "output_type": "stream",
     "text": [
      "enter the principal amount:100\n",
      "enter the time period:2\n",
      "enter the rate of interest:5\n",
      "Simple Interest= 10.0\n"
     ]
    }
   ],
   "source": [
    "p=int(input(\"enter the principal amount:\"))\n",
    "t=int(input(\"enter the time period:\"))\n",
    "r=int(input(\"enter the rate of interest:\"))\n",
    "s=(p*t*r)/100\n",
    "print(\"Simple Interest=\",s)\n"
   ]
  },
  {
   "cell_type": "markdown",
   "id": "5d27dc10",
   "metadata": {},
   "source": [
    "#### QUADRATIC EQUATION ####"
   ]
  },
  {
   "cell_type": "code",
   "execution_count": 2,
   "id": "d0346824",
   "metadata": {},
   "outputs": [
    {
     "name": "stdout",
     "output_type": "stream",
     "text": [
      "enter the first number:6\n",
      "enter the second number:7\n",
      "enter the third number:8\n",
      "enter the  value of x:5\n",
      "6 x^2+ 7 x+ 8\n",
      "Answer: 193\n"
     ]
    }
   ],
   "source": [
    "a=int(input(\"enter the first number:\"))\n",
    "b=int(input(\"enter the second number:\"))\n",
    "c=int(input(\"enter the third number:\"))\n",
    "x=int(input(\"enter the  value of x:\"))\n",
    "print(a,'x^2+',b,'x+',c)\n",
    "z=(a*(x**2))+(b*x)+c\n",
    "print(\"Answer:\",z)\n"
   ]
  },
  {
   "cell_type": "markdown",
   "id": "05281a17",
   "metadata": {},
   "source": [
    "#### POWER OF NUMBER####"
   ]
  },
  {
   "cell_type": "code",
   "execution_count": 3,
   "id": "0b9c5f20",
   "metadata": {},
   "outputs": [
    {
     "name": "stdout",
     "output_type": "stream",
     "text": [
      "enter a number:5\n",
      "enter a number:3\n",
      "answer: 125\n"
     ]
    }
   ],
   "source": [
    "a=int(input(\"enter a number:\"))\n",
    "b=int(input(\"enter a number:\"))\n",
    "c=a**b\n",
    "print(\"answer:\",c)\n"
   ]
  },
  {
   "cell_type": "markdown",
   "id": "1870b2ca",
   "metadata": {},
   "source": [
    "#### NET SALARY OF AN EMPLOYEE####"
   ]
  },
  {
   "cell_type": "code",
   "execution_count": 4,
   "id": "7137494a",
   "metadata": {},
   "outputs": [
    {
     "name": "stdout",
     "output_type": "stream",
     "text": [
      "enter the wages:100\n",
      "enter the no of days worked:24\n",
      "net salary 21072.0\n"
     ]
    }
   ],
   "source": [
    "w=int(input(\"enter the wages:\"))\n",
    "D=int(input(\"enter the no of days worked:\"))\n",
    "basic=w*D\n",
    "HRA=.15*basic\n",
    "DA=.25*basic\n",
    "TA=7.5*basic\n",
    "PF=.12*basic\n",
    "net= basic+HRA+DA+TA-PF\n",
    "print(\"net salary\",net)\n"
   ]
  },
  {
   "cell_type": "markdown",
   "id": "448f57ae",
   "metadata": {},
   "source": [
    "#### REVERSE OF TWO NUMBER####"
   ]
  },
  {
   "cell_type": "code",
   "execution_count": 7,
   "id": "70bfe76d",
   "metadata": {},
   "outputs": [
    {
     "name": "stdout",
     "output_type": "stream",
     "text": [
      "enter the two digit number:72\n",
      "answer: 27\n"
     ]
    }
   ],
   "source": [
    "n=int(input(\"enter the two digit number:\"))\n",
    "s=n%10\n",
    "f=n//10\n",
    "reverse=(s*10)+f\n",
    "print(\"answer:\",reverse)\n"
   ]
  },
  {
   "cell_type": "markdown",
   "id": "701a08db",
   "metadata": {},
   "source": [
    "#### AREA OF SHAPES####"
   ]
  },
  {
   "cell_type": "code",
   "execution_count": 8,
   "id": "8c21fe26",
   "metadata": {},
   "outputs": [
    {
     "name": "stdout",
     "output_type": "stream",
     "text": [
      "enter the length:4\n",
      "enter the breadth:5\n",
      "enter the side:6\n",
      "enter the radius:3\n",
      "enter the height:5\n",
      "area of a square: 36\n",
      "area of a circle: 28.26\n",
      "area of a rectangle: 20\n",
      "area of a triangle: 12.5\n"
     ]
    }
   ],
   "source": [
    "l=int(input(\"enter the length:\"))\n",
    "b=int(input(\"enter the breadth:\"))\n",
    "a=int(input(\"enter the side:\"))\n",
    "r=int(input(\"enter the radius:\"))\n",
    "h=int(input(\"enter the height:\"))\n",
    "circle=3.14*r**2\n",
    "square=a**2\n",
    "rectangle=l*b\n",
    "triangle=.5*b*h\n",
    "print(\"area of a square:\",square)\n",
    "print(\"area of a circle:\",circle)\n",
    "print(\"area of a rectangle:\",rectangle)\n",
    "print(\"area of a triangle:\",triangle)\n"
   ]
  },
  {
   "cell_type": "markdown",
   "id": "05e9b69e",
   "metadata": {},
   "source": [
    "#### PERIMETER OF SHAPES####"
   ]
  },
  {
   "cell_type": "code",
   "execution_count": 9,
   "id": "e08f4242",
   "metadata": {},
   "outputs": [
    {
     "name": "stdout",
     "output_type": "stream",
     "text": [
      "enter the length:5\n",
      "enter the breadth:6\n",
      "enter the side:7\n",
      "enter the radius:4\n",
      "perimeter of a square: 28\n",
      "perimeter of a circle: 50.24\n",
      "perimeter of a rectangle: 44\n"
     ]
    }
   ],
   "source": [
    "l=int(input(\"enter the length:\"))\n",
    "b=int(input(\"enter the breadth:\"))\n",
    "a=int(input(\"enter the side:\"))\n",
    "r=int(input(\"enter the radius:\"))\n",
    "circle=4*3.14*r\n",
    "square=4*a\n",
    "rectangle=4*(l+b)\n",
    "print(\"perimeter of a square:\",square)\n",
    "print(\"perimeter of a circle:\",circle)\n",
    "print(\"perimeter of a rectangle:\",rectangle)\n"
   ]
  },
  {
   "cell_type": "markdown",
   "id": "607e4592",
   "metadata": {},
   "source": [
    "#### VOLUME OF SHAPES####"
   ]
  },
  {
   "cell_type": "code",
   "execution_count": 10,
   "id": "9d98f354",
   "metadata": {},
   "outputs": [
    {
     "name": "stdout",
     "output_type": "stream",
     "text": [
      "enter the length:4\n",
      "enter the width:5\n",
      "enter the height:6\n",
      "enter the side:7\n",
      "enter the radius:8\n",
      "volume of a cube: 343\n",
      "volume of a rectangle prism: 120\n",
      "volume of a sphere: 2143.5733333333333\n",
      "volume of a cylinder: 1205.76\n",
      "volume of a cone: 401.91999999999996\n"
     ]
    }
   ],
   "source": [
    "l=int(input(\"enter the length:\"))\n",
    "w=int(input(\"enter the width:\"))\n",
    "h=int(input(\"enter the height:\"))\n",
    "a=int(input(\"enter the side:\"))\n",
    "r=int(input(\"enter the radius:\"))\n",
    "cube=a**3\n",
    "prism=l*w*h\n",
    "sphere=4/3*(3.14*r**3)\n",
    "cylinder=3.14*r**2*h\n",
    "cone=1/3*(3.14*r**2*h)\n",
    "print(\"volume of a cube:\",cube)\n",
    "print(\"volume of a rectangle prism:\",prism)\n",
    "print(\"volume of a sphere:\",sphere)\n",
    "print(\"volume of a cylinder:\",cylinder)\n",
    "print(\"volume of a cone:\",cone)\n",
    "\n"
   ]
  },
  {
   "cell_type": "code",
   "execution_count": null,
   "id": "74c1a792",
   "metadata": {},
   "outputs": [],
   "source": []
  }
 ],
 "metadata": {
  "kernelspec": {
   "display_name": "Python 3",
   "language": "python",
   "name": "python3"
  },
  "language_info": {
   "codemirror_mode": {
    "name": "ipython",
    "version": 3
   },
   "file_extension": ".py",
   "mimetype": "text/x-python",
   "name": "python",
   "nbconvert_exporter": "python",
   "pygments_lexer": "ipython3",
   "version": "3.8.8"
  }
 },
 "nbformat": 4,
 "nbformat_minor": 5
}
