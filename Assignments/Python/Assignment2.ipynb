{
 "cells": [
  {
   "cell_type": "markdown",
   "id": "93c46bfb",
   "metadata": {},
   "source": [
    "#### LEAP YEAR  ####"
   ]
  },
  {
   "cell_type": "code",
   "execution_count": 1,
   "id": "54cb8373",
   "metadata": {},
   "outputs": [
    {
     "name": "stdout",
     "output_type": "stream",
     "text": [
      "enter the year:2004\n",
      "LEAP YEAR\n"
     ]
    }
   ],
   "source": [
    "N=int(input(\"enter the year:\"))\n",
    "if N%4==0:\n",
    "     print(\"LEAP YEAR\")\n",
    "else:\n",
    "    print(\"NOT A LEAP YEAR\")\n"
   ]
  },
  {
   "cell_type": "markdown",
   "id": "9d52e09d",
   "metadata": {},
   "source": [
    "#### PRINT THE GREATEST NUMBER####"
   ]
  },
  {
   "cell_type": "code",
   "execution_count": 2,
   "id": "2e479fa5",
   "metadata": {},
   "outputs": [
    {
     "name": "stdout",
     "output_type": "stream",
     "text": [
      "enter the first no:5\n",
      "enter the second no:6\n",
      "largest: 6\n"
     ]
    }
   ],
   "source": [
    "a=int(input(\"enter the first no:\"))\n",
    "b=int(input(\"enter the second no:\"))\n",
    "if a>b:\n",
    "     print(\"largest:\",a)\n",
    "else:\n",
    "    print(\"largest:\",b)\n"
   ]
  },
  {
   "cell_type": "markdown",
   "id": "9f890295",
   "metadata": {},
   "source": [
    "#### WEEKDAYS####"
   ]
  },
  {
   "cell_type": "code",
   "execution_count": 5,
   "id": "14b37fc7",
   "metadata": {},
   "outputs": [
    {
     "name": "stdout",
     "output_type": "stream",
     "text": [
      "enter the first no:5\n",
      "friday\n"
     ]
    }
   ],
   "source": [
    "a=int(input(\"enter the first no:\"))\n",
    "if a==1:\n",
    " print(\"monday\")\n",
    "elif a==2:\n",
    " print(\"tuesday\") \n",
    "elif a==3:\n",
    " print(\"wenesday\") \n",
    "elif a==4:\n",
    " print(\"thursday\") \n",
    "elif a==5:\n",
    " print(\"friday\") \n",
    "elif a==6:\n",
    " print(\"saturday\") \n",
    "else:\n",
    " print(\"sunday\")\n"
   ]
  },
  {
   "cell_type": "markdown",
   "id": "fc568674",
   "metadata": {},
   "source": [
    "#### GRADE OF STUDENTS####"
   ]
  },
  {
   "cell_type": "code",
   "execution_count": 6,
   "id": "99953cdf",
   "metadata": {},
   "outputs": [
    {
     "name": "stdout",
     "output_type": "stream",
     "text": [
      "enter the first no:88\n",
      "B\n"
     ]
    }
   ],
   "source": [
    "MARK=int(input(\"enter the first no:\"))\n",
    "if MARK>=90 :\n",
    " print(\"A\")\n",
    "elif MARK>=75 and MARK<90 :\n",
    " print(\"B\") \n",
    "elif MARK>=65 and MARK<75:\n",
    "  print(\"C\") \n",
    "elif MARK>=50 and MARK<65:\n",
    "  print(\"D\") \n",
    "else:\n",
    " print(\"FAIL\")\n"
   ]
  },
  {
   "cell_type": "markdown",
   "id": "190c0ffd",
   "metadata": {},
   "source": [
    "#### ASCENDING ORDER####"
   ]
  },
  {
   "cell_type": "code",
   "execution_count": 8,
   "id": "f6c6741a",
   "metadata": {},
   "outputs": [
    {
     "name": "stdout",
     "output_type": "stream",
     "text": [
      "enter the first no:5\n",
      "enter the second no:2\n",
      "enter the third no:6\n",
      "order: 2 5 6\n"
     ]
    }
   ],
   "source": [
    "a=int(input(\"enter the first no:\"))\n",
    "b=int(input(\"enter the second no:\"))\n",
    "c=int(input(\"enter the third no:\"))\n",
    "if a<b and b<c and a<c :\n",
    " print(\"order:\",a,b,c)\n",
    "elif b<a and b<c and a<c :\n",
    " print(\"order:\",b,a,c) \n",
    "elif c<a and c<b and a<c:\n",
    " print(\"order:\",c,a,b) \n",
    "elif a<b and a<b and c<b :\n",
    " print(\"order:\",a,c,b) \n",
    "else:\n",
    " print(\"order:\",c,b,a)\n"
   ]
  },
  {
   "cell_type": "markdown",
   "id": "94496260",
   "metadata": {},
   "source": [
    "#### CALCULATOR####"
   ]
  },
  {
   "cell_type": "code",
   "execution_count": 9,
   "id": "6003ade9",
   "metadata": {},
   "outputs": [
    {
     "name": "stdout",
     "output_type": "stream",
     "text": [
      "enter the first no:6\n",
      "enter the second no:7\n",
      "enter the choice:3\n",
      "42\n"
     ]
    }
   ],
   "source": [
    "a=int(input(\"enter the first no:\"))\n",
    "b=int(input(\"enter the second no:\"))\n",
    "c=int(input(\"enter the choice:\"))\n",
    "if c==1:\n",
    "    c=a+b     \n",
    "    print(c)\n",
    "elif c==2:\n",
    "    c=a-b     \n",
    "    print(c) \n",
    "elif c==3:\n",
    "    c=a*b     \n",
    "    print(c)\n",
    "else:\n",
    "    c=a/b\n",
    "    print(c)\n"
   ]
  },
  {
   "cell_type": "markdown",
   "id": "bd707359",
   "metadata": {},
   "source": [
    "#### MONTH####"
   ]
  },
  {
   "cell_type": "code",
   "execution_count": 10,
   "id": "6486fb0f",
   "metadata": {},
   "outputs": [
    {
     "name": "stdout",
     "output_type": "stream",
     "text": [
      "enter the  no:7\n",
      "july\n"
     ]
    }
   ],
   "source": [
    "a=int(input(\"enter the  no:\"))\n",
    "if a==1:\n",
    "     print(\"january\")\n",
    "elif a==2:\n",
    "     print(\"February\") \n",
    "elif a==3:\n",
    "  print(\"March\") \n",
    "elif a==4:\n",
    "  print(\"April\") \n",
    "elif a==5:\n",
    "  print(\"May\") \n",
    "elif a==6:\n",
    "  print(\"june\") \n",
    "elif a==7:\n",
    "  print(\"july\") \n",
    "elif a==8:\n",
    "  print(\"august\")\n",
    "elif a==9:\n",
    "  print(\"september\") \n",
    "elif a==10:\n",
    "  print(\"october\") \n",
    "elif a==11:\n",
    "  print(\"november\") \n",
    "else:\n",
    "    print(\"December\")\n"
   ]
  },
  {
   "cell_type": "markdown",
   "id": "92552ce0",
   "metadata": {},
   "source": [
    "#### SMALLEST####"
   ]
  },
  {
   "cell_type": "code",
   "execution_count": 12,
   "id": "bfb5cd38",
   "metadata": {},
   "outputs": [
    {
     "name": "stdout",
     "output_type": "stream",
     "text": [
      "enter the first no:8\n",
      "enter the second no:5\n",
      "smallest: 5\n"
     ]
    }
   ],
   "source": [
    "a=int(input(\"enter the first no:\"))\n",
    "b=int(input(\"enter the second no:\"))\n",
    "if a>b:\n",
    " print(\"smallest:\",b)\n",
    "else:\n",
    " print(\"smallest:\",a)\n"
   ]
  },
  {
   "cell_type": "markdown",
   "id": "7124757e",
   "metadata": {},
   "source": [
    "#### NUMBERS ARE EQUAL####"
   ]
  },
  {
   "cell_type": "code",
   "execution_count": 13,
   "id": "e8fbf4c3",
   "metadata": {},
   "outputs": [
    {
     "name": "stdout",
     "output_type": "stream",
     "text": [
      "enter the number:5\n",
      "enter the number:7\n",
      "Both are not equal\n"
     ]
    }
   ],
   "source": [
    "a=int(input(\"enter the number:\"))\n",
    "b=int(input(\"enter the number:\"))\n",
    "if a==b:\n",
    "     print(\"Both are equal\")\n",
    "else:\n",
    "    print(\"Both are not equal\")\n"
   ]
  },
  {
   "cell_type": "markdown",
   "id": "072507b6",
   "metadata": {},
   "source": [
    "#### ELIGIBLE TO VOTE OR NOT####"
   ]
  },
  {
   "cell_type": "code",
   "execution_count": 16,
   "id": "d34f9607",
   "metadata": {},
   "outputs": [
    {
     "name": "stdout",
     "output_type": "stream",
     "text": [
      "enter the age:24\n",
      "Eligible\n"
     ]
    }
   ],
   "source": [
    "n=int(input(\"enter the age:\"))\n",
    "if n>=18:\n",
    " print(\"Eligible\")\n",
    "else:\n",
    " print(\"Not Eligible\")"
   ]
  },
  {
   "cell_type": "markdown",
   "id": "6f3240ed",
   "metadata": {},
   "source": [
    "#### STUDENT PASS OR FAIL####"
   ]
  },
  {
   "cell_type": "code",
   "execution_count": 18,
   "id": "b66e6ce3",
   "metadata": {},
   "outputs": [
    {
     "name": "stdout",
     "output_type": "stream",
     "text": [
      "enter the marks of the student:75\n",
      "Passed\n"
     ]
    }
   ],
   "source": [
    "n=int(input(\"enter the marks of the student:\"))\n",
    "if n>=40:\n",
    " print(\"Passed\")\n",
    "else:\n",
    " print(\"Failed\")"
   ]
  },
  {
   "cell_type": "markdown",
   "id": "9548f492",
   "metadata": {},
   "source": [
    "#### Bonus#### "
   ]
  },
  {
   "cell_type": "code",
   "execution_count": 20,
   "id": "fb3e5e25",
   "metadata": {},
   "outputs": [
    {
     "name": "stdout",
     "output_type": "stream",
     "text": [
      "enter the salary of the employee:15000\n",
      "salary: 16500.0\n"
     ]
    }
   ],
   "source": [
    "n=int(input(\"enter the salary of the employee:\"))\n",
    "if n>10000:\n",
    " sal=n+.1*n\n",
    " print(\"salary:\",sal)\n",
    "else:\n",
    " sal=n\n",
    " print(\"salary:\",sal)"
   ]
  },
  {
   "cell_type": "code",
   "execution_count": null,
   "id": "969dcf4a",
   "metadata": {},
   "outputs": [],
   "source": []
  }
 ],
 "metadata": {
  "kernelspec": {
   "display_name": "Python 3",
   "language": "python",
   "name": "python3"
  },
  "language_info": {
   "codemirror_mode": {
    "name": "ipython",
    "version": 3
   },
   "file_extension": ".py",
   "mimetype": "text/x-python",
   "name": "python",
   "nbconvert_exporter": "python",
   "pygments_lexer": "ipython3",
   "version": "3.8.8"
  }
 },
 "nbformat": 4,
 "nbformat_minor": 5
}
