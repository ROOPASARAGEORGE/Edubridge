{
 "cells": [
  {
   "cell_type": "markdown",
   "id": "0a2a6c20",
   "metadata": {},
   "source": [
    "#### PRINT TABLE OF A NUMBER####"
   ]
  },
  {
   "cell_type": "code",
   "execution_count": 1,
   "id": "4daa279e",
   "metadata": {},
   "outputs": [
    {
     "name": "stdout",
     "output_type": "stream",
     "text": [
      "enter the value of n:5\n",
      "5\n",
      "10\n",
      "15\n",
      "20\n",
      "25\n",
      "30\n",
      "35\n",
      "40\n",
      "45\n",
      "50\n"
     ]
    }
   ],
   "source": [
    "n=int(input(\"enter the value of n:\"))\n",
    "i=0\n",
    "for i in range(1,11):\n",
    "    c=n*i\n",
    "    print(c)\n",
    "    i=i+1"
   ]
  },
  {
   "cell_type": "markdown",
   "id": "8c550dc9",
   "metadata": {},
   "source": [
    "#### REVERSE OF A NUMBER####"
   ]
  },
  {
   "cell_type": "code",
   "execution_count": 2,
   "id": "39b09d0c",
   "metadata": {},
   "outputs": [
    {
     "name": "stdout",
     "output_type": "stream",
     "text": [
      "enter the value of n:25\n",
      "reverse 52\n"
     ]
    }
   ],
   "source": [
    "n=int(input(\"enter the value of n:\"))\n",
    "r=0\n",
    "while n>0:\n",
    "    rem=n%10\n",
    "    r=(r*10)+rem\n",
    "    n=n//10\n",
    "print(\"reverse\",r)"
   ]
  },
  {
   "cell_type": "markdown",
   "id": "b9cb7534",
   "metadata": {},
   "source": [
    "#### SUM OF REVERSE####"
   ]
  },
  {
   "cell_type": "code",
   "execution_count": 3,
   "id": "e5cb24f0",
   "metadata": {},
   "outputs": [
    {
     "name": "stdout",
     "output_type": "stream",
     "text": [
      "enter the value of n:153\n",
      "reverse 351\n",
      "sum 9\n"
     ]
    }
   ],
   "source": [
    "n=int(input(\"enter the value of n:\"))\n",
    "temp=n\n",
    "r=0\n",
    "sum=0\n",
    "while n>0:\n",
    "    rem=n%10\n",
    "    r=(r*10)+rem\n",
    "    n=n//10\n",
    "    sum =sum+(temp%10)\n",
    "    temp=temp//10\n",
    "print(\"reverse\",r)\n",
    "print(\"sum\",sum)"
   ]
  },
  {
   "cell_type": "markdown",
   "id": "9557f74b",
   "metadata": {},
   "source": [
    "#### SUM OF A NUMBER AND ITS REVERSE####"
   ]
  },
  {
   "cell_type": "code",
   "execution_count": 4,
   "id": "8dad59a9",
   "metadata": {},
   "outputs": [
    {
     "name": "stdout",
     "output_type": "stream",
     "text": [
      "enter the value of n:153\n",
      "reverse 351\n",
      "sum 504\n"
     ]
    }
   ],
   "source": [
    "n=int(input(\"enter the value of n:\"))\n",
    "b=n\n",
    "r=0\n",
    "s=0\n",
    "while n>0:\n",
    "    rem=n%10\n",
    "    r=(r*10)+rem\n",
    "    n=n//10\n",
    "print(\"reverse\",r)\n",
    "sum=b+r\n",
    "print(\"sum\",sum)"
   ]
  },
  {
   "cell_type": "markdown",
   "id": "e7d3feb9",
   "metadata": {},
   "source": [
    "#### FIBONACCI SERIES####"
   ]
  },
  {
   "cell_type": "code",
   "execution_count": 5,
   "id": "00817387",
   "metadata": {},
   "outputs": [
    {
     "name": "stdout",
     "output_type": "stream",
     "text": [
      "enter the value of n:10\n",
      "0\n",
      "1\n",
      "1\n",
      "2\n",
      "3\n",
      "5\n",
      "8\n",
      "13\n",
      "21\n",
      "34\n"
     ]
    }
   ],
   "source": [
    "n=int(input(\"enter the value of n:\"))\n",
    "a=0\n",
    "b=1\n",
    "sum=0\n",
    "count=1\n",
    "while count<=n:\n",
    "    print(sum)\n",
    "    count=count+1\n",
    "    a=b\n",
    "    b=sum\n",
    "    sum=a+b"
   ]
  },
  {
   "cell_type": "markdown",
   "id": "7f40937a",
   "metadata": {},
   "source": [
    "#### ARMSTRONG####"
   ]
  },
  {
   "cell_type": "code",
   "execution_count": 6,
   "id": "b705570d",
   "metadata": {},
   "outputs": [
    {
     "name": "stdout",
     "output_type": "stream",
     "text": [
      "enter the value of n:153\n",
      "153 is an Armstrong number\n"
     ]
    }
   ],
   "source": [
    "n=int(input(\"enter the value of n:\"))\n",
    "sum=0\n",
    "temp=n\n",
    "c=n\n",
    "count=0\n",
    "while c>0:\n",
    " count=count+1\n",
    " c=c//10\n",
    "\n",
    "while temp>0:\n",
    "      rem=temp%10\n",
    "      sum=sum+(rem**count)\n",
    "      temp=temp//10\n",
    "if n==sum:\n",
    "   print(n,\"is an Armstrong number\")\n",
    "else:\n",
    "   print(n,\"is not an Armstrong number\")\n",
    "   "
   ]
  },
  {
   "cell_type": "markdown",
   "id": "8863b9a9",
   "metadata": {},
   "source": [
    "#### PALINDROME####"
   ]
  },
  {
   "cell_type": "code",
   "execution_count": 7,
   "id": "cef694eb",
   "metadata": {},
   "outputs": [
    {
     "name": "stdout",
     "output_type": "stream",
     "text": [
      "enter the value of n:33\n",
      "palindrome\n"
     ]
    }
   ],
   "source": [
    "n=int(input(\"enter the value of n:\"))\n",
    "temp=n\n",
    "r=0\n",
    "while n>0:\n",
    "    rem=n%10\n",
    "    r=(r*10)+rem\n",
    "    n=n//10\n",
    "if temp==r:\n",
    "   print( \"palindrome\")\n",
    "else:\n",
    "   print(\"Not a palindrome\")"
   ]
  },
  {
   "cell_type": "code",
   "execution_count": null,
   "id": "ecc25b05",
   "metadata": {},
   "outputs": [],
   "source": []
  }
 ],
 "metadata": {
  "kernelspec": {
   "display_name": "Python 3",
   "language": "python",
   "name": "python3"
  },
  "language_info": {
   "codemirror_mode": {
    "name": "ipython",
    "version": 3
   },
   "file_extension": ".py",
   "mimetype": "text/x-python",
   "name": "python",
   "nbconvert_exporter": "python",
   "pygments_lexer": "ipython3",
   "version": "3.8.8"
  }
 },
 "nbformat": 4,
 "nbformat_minor": 5
}
